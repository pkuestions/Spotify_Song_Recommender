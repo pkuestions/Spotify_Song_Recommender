{
 "cells": [
  {
   "cell_type": "code",
   "execution_count": 1,
   "id": "95ca9d0f",
   "metadata": {},
   "outputs": [],
   "source": [
    "approach_name = \"DiversifiedPlaylistApproach\""
   ]
  },
  {
   "cell_type": "code",
   "execution_count": 2,
   "id": "d3d431c4",
   "metadata": {},
   "outputs": [],
   "source": [
    "import spotipy\n",
    "import json\n",
    "from spotipy.oauth2 import SpotifyClientCredentials\n",
    "import config\n",
    "import pprint\n",
    "import pandas as pd\n",
    "from bs4 import BeautifulSoup\n",
    "import requests\n",
    "import random\n",
    "from time import sleep\n",
    "#from random import randint\n",
    "import os"
   ]
  },
  {
   "cell_type": "code",
   "execution_count": 3,
   "id": "f4683cce",
   "metadata": {},
   "outputs": [],
   "source": [
    "sp = spotipy.Spotify(auth_manager=SpotifyClientCredentials(client_id= config.client_id,\n",
    "                                                           client_secret= config.client_secret))"
   ]
  },
  {
   "cell_type": "markdown",
   "id": "9e23409f",
   "metadata": {},
   "source": [
    "## Searching a playlist"
   ]
  },
  {
   "cell_type": "markdown",
   "id": "4f16a9cb",
   "metadata": {},
   "source": [
    "## List of SPOTIFY Playlists"
   ]
  },
  {
   "cell_type": "code",
   "execution_count": 4,
   "id": "5654c581",
   "metadata": {},
   "outputs": [],
   "source": [
    "#Spotify Playlist Overview\n",
    "pl_60s = \"https:=open.spotify.com/playlist/37i9dQZF1DXaKIA8E7WcJj?si=cb3c14f587b645de\"\n",
    "pl_70s = \"https:=open.spotify.com/playlist/37i9dQZF1DX1Hya1sRqqxI?si=4d0bb76dad494d90\"\n",
    "pl_80s = \"https:=open.spotify.com/playlist/37i9dQZF1DX4UtSsGT1Sbe?si=ceaf515860ad4b8b\"\n",
    "pl_90s = \"https:=open.spotify.com/playlist/37i9dQZF1DXbTxeAdrVG2l?si=88b801fa207748f0\"\n",
    "pl_00s = \"https:=open.spotify.com/playlist/37i9dQZF1DX4o1oenSJRJd?si=3917fde10bdf436d\"\n",
    "pl_10s = \"https:=open.spotify.com/playlist/37i9dQZF1DX5Ejj0EkURtP?si=f2c158982fbc464e\"\n",
    "pl_Rock = \"https:=open.spotify.com/playlist/37i9dQZF1EQpj7X7UK8OOF?si=696b5b956fd64395\"\n",
    "pl_RockClassics = \"https:=open.spotify.com/playlist/37i9dQZF1DWXRqgorJj26U?si=73e35765788b470e\"\n",
    "pl_RockHard = \"https:=open.spotify.com/playlist/37i9dQZF1DWWJOmJ7nRx0C?si=f02b8ce2f722408e\"\n",
    "pl_Classic = \"https:=open.spotify.com/playlist/37i9dQZF1DWWEJlAGA9gs0?si=a8b30b92c7cf43fe\"\n",
    "pl_ClassicalX = \"https:=open.spotify.com/playlist/37i9dQZF1DX7dzHXrANAir?si=0b8e8714371f4b0f\"\n",
    "pl_PopMix = \"https:=open.spotify.com/playlist/37i9dQZF1EQncLwOalG3K7?si=0c935c341c664e42\"\n",
    "pl_PopPunk = \"https:=open.spotify.com/playlist/37i9dQZF1DXasneILDRM7B?si=3088f62f52e94f07\"\n",
    "pl_PopKlassiker = \"https:=open.spotify.com/playlist/37i9dQZF1DX7C2BlYJgCS5?si=0abd33203122477d\"\n",
    "pl_PopParty = \"https:=open.spotify.com/playlist/37i9dQZF1DWXti3N4Wp5xy?si=f94f7cbc14fb408c\"\n",
    "pl_MetalMix = \"https:=open.spotify.com/playlist/37i9dQZF1EQpgT26jgbgRI?si=a382533831714032\"\n",
    "pl_MetalEssentials = \"https:=open.spotify.com/playlist/37i9dQZF1DWWOaP4H0w5b0?si=8f545851eadd45c4\"\n",
    "pl_MetalKickass = \"https:=open.spotify.com/playlist/37i9dQZF1DWTcqUzwhNmKv?si=10dfd2db3d184038\"\n",
    "pl_MetalCharge = \"https:=open.spotify.com/playlist/37i9dQZF1DX06VUQ1GoKge?si=55030cb3fab7470e\"\n",
    "pl_ElectroSwing = \"https:=open.spotify.com/playlist/37i9dQZF1DX3bH0P2uDnWA?si=dcbdc11aa12247df\"\n",
    "pl_ElectronicCircus = \"https:=open.spotify.com/playlist/37i9dQZF1DWVCHIm2MEeIy?si=68eea2e34ad84d53\"\n",
    "pl_ElectroDanceMix = \"https:=open.spotify.com/playlist/37i9dQZF1EQp9BVPsNVof1?si=65633b0a0de74670\"\n",
    "pl_ElectroChill = \"https:=open.spotify.com/playlist/1sp8HUbfqK8TJA0YbMI7Tx?si=35753833a5ff4f6e\"\n",
    "pl_DnBMassive = \"https:=open.spotify.com/playlist/37i9dQZF1DX5wDmLW735Yd?si=4d5c957b398e48b7\"\n",
    "pl_RunnBass = \"https:=open.spotify.com/playlist/37i9dQZF1DX8jnAPF7Iiqp?si=4a5749ae02254aad\"\n",
    "pl_ChilledDnB = \"https:=open.spotify.com/playlist/37i9dQZF1DX1jlzMTQ2PY5?si=820a8c42b04d4b4e\"\n",
    "pl_MYfemalevocalDnB = \"https:=open.spotify.com/playlist/61hfbFZxRLYNWmqkfBSQw1?si=bbce738577bc4fbc\"\n",
    "pl_DubstepClassics = \"https:=open.spotify.com/playlist/37i9dQZF1DX4arVIN5Cg4U?si=ae8fb0277c7f41ff\"\n",
    "pl_ChilligeBässe = \"https:=open.spotify.com/playlist/37i9dQZF1DX37cXruBmbRS?si=e655ebfd82ca4f4f\"\n",
    "pl_DubstepMix = \"https:=open.spotify.com/playlist/37i9dQZF1EIeh9ieKsgN2r?si=71ff51744f334fcc\"\n",
    "pl_DubstepDon = \"https:=open.spotify.com/playlist/37i9dQZF1DX5Q27plkaOQ3?si=4146d28b11c44728\"\n",
    "pl_SoulMix = \"https:=open.spotify.com/playlist/37i9dQZF1EQntZpEGgfBif?si=18ed00b3214c4ee7\"\n",
    "pl_FunknSoulClassics = \"https:=open.spotify.com/playlist/37i9dQZF1DWWvhKV4FBciw?si=9436fb74eef9406c\"\n",
    "pl_Soulful = \"https:=open.spotify.com/playlist/37i9dQZF1DX2AHwa6tQ2Yy?si=19909daa9aae447d\"\n",
    "pl_SoulCoffee = \"https:=open.spotify.com/playlist/37i9dQZF1DXaXDsfv6nvZ5?si=0a0971fd48db420f\"\n",
    "pl_JazzClassics = \"https:=open.spotify.com/playlist/37i9dQZF1DXbITWG1ZJKYt?si=90494bbe7bfa4bc7\"\n",
    "pl_FunkMix = \"https:=open.spotify.com/playlist/37i9dQZF1EQnJyHBkXpASl?si=59e9066b5f474b38\"\n",
    "pl_FunkyDiscoHouse = \"https:=open.spotify.com/playlist/4VK2paqKTYdrhOS4wLGRL3?si=6b718d7620964af1\"\n",
    "pl_HouseMix = \"https:=open.spotify.com/playlist/37i9dQZF1EQpoj8u9Hn81e?si=63058efb441d41f0\"\n",
    "pl_DeepHouseBlend = \"https:=open.spotify.com/playlist/37i9dQZF1DX5xiztvBdlUf?si=701636c2ece04d5e\"\n",
    "pl_DeepHouseRelax = \"https:=open.spotify.com/playlist/37i9dQZF1DX2TRYkJECvfC?si=92f323b085fa4444\"\n",
    "pl_TechnoBunker = \"https:=open.spotify.com/playlist/37i9dQZF1DX6J5NfMJS675?si=fb3d22d151684b9b\"\n",
    "pl_TechnoMix = \"https:=open.spotify.com/playlist/37i9dQZF1EIeKh45OZ1ylm?si=b882508d9bc14dcb\"\n",
    "pl_TechnoWorkout = \"https:=open.spotify.com/playlist/37i9dQZF1DX36TRAnIL92N?si=e7ce3caba08f45bc\"\n",
    "pl_RnBMix = \"https:=open.spotify.com/playlist/37i9dQZF1EQoqCH7BwIYb7?si=1ee1a327b7d14311\"\n",
    "pl_RnBClassics = \"https:=open.spotify.com/playlist/37i9dQZF1DX04mASjTsvf0?si=ac54b28618dd4df0\"\n",
    "pl_RnBClassiParty = \"https:=open.spotify.com/playlist/37i9dQZF1DX2hNQN2Fv6Cy?si=cb43c5bbe25149cc\"\n",
    "pl_FolkAkustikMix = \"https:=open.spotify.com/playlist/37i9dQZF1EQp62d3Dl7ECY?si=f20b72a587774c39\"\n",
    "pl_FolkPop = \"https:=open.spotify.com/playlist/37i9dQZF1DWXJyjYpHunCf?si=423749c634734318\"\n",
    "pl_EssentialFolk = \"https:=open.spotify.com/playlist/37i9dQZF1DWVmps5U8gHNv?si=74d7a52686b9471c\"\n",
    "pl_RapCaviar = \"https:=open.spotify.com/playlist/37i9dQZF1DX0XUsuxWHRQd?si=5d5348054ce54fdc\"\n",
    "pl_HotCountry = \"https:=open.spotify.com/playlist/37i9dQZF1DX1lVhptIYRda?si=5450cf15d34d4282\"\n",
    "pl_VivaLatino = \"https:=open.spotify.com/playlist/37i9dQZF1DX10zKzsJ2jva?si=289c653ae68441a6\"\n",
    "pl_DancehalOfficial = \"https:=open.spotify.com/playlist/37i9dQZF1DXan38dNVDdl4?si=2124dedc44fd4a0c\"\n",
    "pl_AltRockMixtape = \"https:=open.spotify.com/playlist/37i9dQZF1DXa6YOhGMjjgx?si=6ebff2a450264443\"\n",
    "pl_NuMetalEra = \"https:=open.spotify.com/playlist/37i9dQZF1DXcfZ6moR6J0G?si=baf274c5f43b49be\"\n",
    "pl_90sRockAnthems = \"https:=open.spotify.com/playlist/37i9dQZF1DX1rVvRgjX59F?si=cf8182604eab4ffb\"\n",
    "pl_HardcoreClassic = \"https:=open.spotify.com/playlist/37i9dQZF1DXaGNG7NmtmZv?si=3fa6735783924b1c\"\n",
    "pl_LongestPlaylistEver = \"https://open.spotify.com/playlist/5oZjXwvrbAJ29Beza3h1bn?si=5a3b82ba19e14b14\""
   ]
  },
  {
   "cell_type": "code",
   "execution_count": 5,
   "id": "d9380ea6",
   "metadata": {},
   "outputs": [],
   "source": [
    "spotify_playlist_list = [pl_60s,pl_70s,pl_80s,pl_90s,pl_00s,pl_10s,pl_Rock,pl_RockClassics,pl_RockHard,pl_Classic,\n",
    "                         pl_ClassicalX,pl_PopMix,pl_PopPunk,pl_PopKlassiker,pl_PopParty,pl_MetalMix,pl_MetalEssentials,\n",
    "                         pl_MetalKickass,pl_MetalCharge,pl_ElectroSwing,pl_ElectronicCircus,pl_ElectroDanceMix,\n",
    "                         pl_ElectroChill,pl_DnBMassive,pl_RunnBass,pl_ChilledDnB,pl_MYfemalevocalDnB,pl_DubstepClassics,\n",
    "                         pl_ChilligeBässe,pl_DubstepMix,pl_DubstepDon,pl_SoulMix,pl_FunknSoulClassics,pl_Soulful,\n",
    "                         pl_SoulCoffee,pl_JazzClassics,pl_FunkMix,pl_FunkyDiscoHouse,pl_HouseMix,pl_DeepHouseBlend,\n",
    "                         pl_DeepHouseRelax,pl_TechnoBunker,pl_TechnoMix,pl_TechnoWorkout,pl_RnBMix,pl_RnBClassics,\n",
    "                         pl_RnBClassiParty,pl_FolkAkustikMix,pl_FolkPop,pl_EssentialFolk,pl_RapCaviar,pl_HotCountry,\n",
    "                         pl_VivaLatino,pl_DancehalOfficial,pl_AltRockMixtape,pl_NuMetalEra,pl_90sRockAnthems,\n",
    "                         pl_HardcoreClassic, pl_LongestPlaylistEver]\n",
    "\n",
    "spotify_playlist_list_ids = [url1.split(\"?\")[0] for url1 in [url.split(\"/\")[-1] for url in spotify_playlist_list]]"
   ]
  },
  {
   "cell_type": "code",
   "execution_count": 10,
   "id": "551c69df",
   "metadata": {
    "collapsed": true
   },
   "outputs": [
    {
     "data": {
      "text/plain": [
       "['37i9dQZF1DXaKIA8E7WcJj',\n",
       " '37i9dQZF1DX1Hya1sRqqxI',\n",
       " '37i9dQZF1DX4UtSsGT1Sbe',\n",
       " '37i9dQZF1DXbTxeAdrVG2l',\n",
       " '37i9dQZF1DX4o1oenSJRJd',\n",
       " '37i9dQZF1DX5Ejj0EkURtP',\n",
       " '37i9dQZF1EQpj7X7UK8OOF',\n",
       " '37i9dQZF1DWXRqgorJj26U',\n",
       " '37i9dQZF1DWWJOmJ7nRx0C',\n",
       " '37i9dQZF1DWWEJlAGA9gs0',\n",
       " '37i9dQZF1DX7dzHXrANAir',\n",
       " '37i9dQZF1EQncLwOalG3K7',\n",
       " '37i9dQZF1DXasneILDRM7B',\n",
       " '37i9dQZF1DX7C2BlYJgCS5',\n",
       " '37i9dQZF1DWXti3N4Wp5xy',\n",
       " '37i9dQZF1EQpgT26jgbgRI',\n",
       " '37i9dQZF1DWWOaP4H0w5b0',\n",
       " '37i9dQZF1DWTcqUzwhNmKv',\n",
       " '37i9dQZF1DX06VUQ1GoKge',\n",
       " '37i9dQZF1DX3bH0P2uDnWA',\n",
       " '37i9dQZF1DWVCHIm2MEeIy',\n",
       " '37i9dQZF1EQp9BVPsNVof1',\n",
       " '1sp8HUbfqK8TJA0YbMI7Tx',\n",
       " '37i9dQZF1DX5wDmLW735Yd',\n",
       " '37i9dQZF1DX8jnAPF7Iiqp',\n",
       " '37i9dQZF1DX1jlzMTQ2PY5',\n",
       " '61hfbFZxRLYNWmqkfBSQw1',\n",
       " '37i9dQZF1DX4arVIN5Cg4U',\n",
       " '37i9dQZF1DX37cXruBmbRS',\n",
       " '37i9dQZF1EIeh9ieKsgN2r',\n",
       " '37i9dQZF1DX5Q27plkaOQ3',\n",
       " '37i9dQZF1EQntZpEGgfBif',\n",
       " '37i9dQZF1DWWvhKV4FBciw',\n",
       " '37i9dQZF1DX2AHwa6tQ2Yy',\n",
       " '37i9dQZF1DXaXDsfv6nvZ5',\n",
       " '37i9dQZF1DXbITWG1ZJKYt',\n",
       " '37i9dQZF1EQnJyHBkXpASl',\n",
       " '4VK2paqKTYdrhOS4wLGRL3',\n",
       " '37i9dQZF1EQpoj8u9Hn81e',\n",
       " '37i9dQZF1DX5xiztvBdlUf',\n",
       " '37i9dQZF1DX2TRYkJECvfC',\n",
       " '37i9dQZF1DX6J5NfMJS675',\n",
       " '37i9dQZF1EIeKh45OZ1ylm',\n",
       " '37i9dQZF1DX36TRAnIL92N',\n",
       " '37i9dQZF1EQoqCH7BwIYb7',\n",
       " '37i9dQZF1DX04mASjTsvf0',\n",
       " '37i9dQZF1DX2hNQN2Fv6Cy',\n",
       " '37i9dQZF1EQp62d3Dl7ECY',\n",
       " '37i9dQZF1DWXJyjYpHunCf',\n",
       " '37i9dQZF1DWVmps5U8gHNv',\n",
       " '37i9dQZF1DX0XUsuxWHRQd',\n",
       " '37i9dQZF1DX1lVhptIYRda',\n",
       " '37i9dQZF1DX10zKzsJ2jva',\n",
       " '37i9dQZF1DXan38dNVDdl4',\n",
       " '37i9dQZF1DXa6YOhGMjjgx',\n",
       " '37i9dQZF1DXcfZ6moR6J0G',\n",
       " '37i9dQZF1DX1rVvRgjX59F',\n",
       " '37i9dQZF1DXaGNG7NmtmZv',\n",
       " '5oZjXwvrbAJ29Beza3h1bn']"
      ]
     },
     "execution_count": 10,
     "metadata": {},
     "output_type": "execute_result"
    }
   ],
   "source": [
    "spotify_playlist_list_ids"
   ]
  },
  {
   "cell_type": "code",
   "execution_count": 6,
   "id": "da02edeb",
   "metadata": {},
   "outputs": [],
   "source": [
    "pl_ThisIsTheBeatles = \"https://open.spotify.com/playlist/37i9dQZF1DXdLtD0qszB1w?si=45ba19c5f2ce4d8e\"\n",
    "pl_ThisIsJeffersonAirplane = \"https://open.spotify.com/playlist/37i9dQZF1DZ06evO1obe36?si=383bbd6ee7474f5b\"\n",
    "pl_ThisIsEttaJames = \"https://open.spotify.com/playlist/37i9dQZF1DZ06evO06QCf6?si=78606d15a7424b5a\"\n",
    "pl_ThisIsLedZeppelin = \"https://open.spotify.com/playlist/37i9dQZF1DZ06evO1NyWWI?si=67f0d549381145af\"\n",
    "pl_ThisIsRollingStones = \"https://open.spotify.com/playlist/37i9dQZF1DZ06evO19s0CZ?si=aa1bdc0b2c31490b\"\n",
    "pl_ThisIsTheByrds = \"https://open.spotify.com/playlist/37i9dQZF1DZ06evO11Tri0?si=91fa1682200342b1\"\n",
    "\n",
    "spotify_playlist_addition = [pl_ThisIsTheBeatles, pl_ThisIsJeffersonAirplane, pl_ThisIsEttaJames,\n",
    "                             pl_ThisIsLedZeppelin, pl_ThisIsRollingStones, pl_ThisIsTheByrds]\n",
    "\n",
    "spotify_playlist_addition_ids = [url1.split(\"?\")[0] for url1 in [url.split(\"/\")[-1] for url in spotify_playlist_addition]]"
   ]
  },
  {
   "cell_type": "code",
   "execution_count": 11,
   "id": "5da50e4b",
   "metadata": {},
   "outputs": [
    {
     "data": {
      "text/plain": [
       "['37i9dQZF1DXdLtD0qszB1w',\n",
       " '37i9dQZF1DZ06evO1obe36',\n",
       " '37i9dQZF1DZ06evO06QCf6',\n",
       " '37i9dQZF1DZ06evO1NyWWI',\n",
       " '37i9dQZF1DZ06evO19s0CZ',\n",
       " '37i9dQZF1DZ06evO11Tri0']"
      ]
     },
     "execution_count": 11,
     "metadata": {},
     "output_type": "execute_result"
    }
   ],
   "source": [
    "spotify_playlist_addition_ids"
   ]
  },
  {
   "cell_type": "markdown",
   "id": "5b01c683",
   "metadata": {},
   "source": [
    "## Playlist functions"
   ]
  },
  {
   "cell_type": "markdown",
   "id": "8b80dfe6",
   "metadata": {},
   "source": [
    "### Extracting `<TRACKS>`"
   ]
  },
  {
   "cell_type": "code",
   "execution_count": 14,
   "id": "6d4aa669",
   "metadata": {},
   "outputs": [
    {
     "name": "stdout",
     "output_type": "stream",
     "text": [
      "340 tracks extracted!\n"
     ]
    }
   ],
   "source": [
    "def get_playlist_tracks(username, playlists_list):\n",
    "\n",
    "    tracks_base = []\n",
    "\n",
    "    for playlist in playlists_list:\n",
    "\n",
    "        results = sp.user_playlist_tracks(username, playlist, market = \"DE\")\n",
    "        tracks = results['items']\n",
    "        while results['next']:\n",
    "            results = sp.next(results)\n",
    "            tracks.extend(results['items'])\n",
    "        tracks_base.extend(tracks)\n",
    "    print(f\"{len(tracks_base)} tracks extracted!\")  \n",
    "    #tracks_base = list(filter(None, tracks_base[0]))\n",
    "    return tracks_base\n",
    "\n",
    "playlist = get_playlist_tracks(\"spotify\", spotify_playlist_addition_ids)"
   ]
  },
  {
   "cell_type": "markdown",
   "id": "bc3ec69e",
   "metadata": {},
   "source": [
    "### Extracting song `<IDs>`"
   ]
  },
  {
   "cell_type": "code",
   "execution_count": 15,
   "id": "368c66c7",
   "metadata": {},
   "outputs": [
    {
     "name": "stdout",
     "output_type": "stream",
     "text": [
      "340 unique track IDs have been extracted!\n",
      "340 overall track IDs have been extracted!\n"
     ]
    }
   ],
   "source": [
    "def get_playlist_track_ids(playlist):\n",
    "    \n",
    "    song_ids_list = []\n",
    "    \n",
    "    for id in range(len(playlist)):\n",
    "        try:\n",
    "            song_ids_list.append(playlist[id][\"track\"][\"id\"])\n",
    "        except:\n",
    "            pass\n",
    "    print(f\"{len(set(song_ids_list))} unique track IDs have been extracted!\")  \n",
    "    print(f\"{len(song_ids_list)} overall track IDs have been extracted!\")\n",
    "    return list(set(song_ids_list)), song_ids_list\n",
    "\n",
    "song_ids_list, song_ids_list_nonset = get_playlist_track_ids(playlist)"
   ]
  },
  {
   "cell_type": "markdown",
   "id": "a736ca95",
   "metadata": {},
   "source": [
    "### Extracting song `<AUDIO FEATURES>`"
   ]
  },
  {
   "cell_type": "code",
   "execution_count": 9,
   "id": "f849bca3",
   "metadata": {},
   "outputs": [],
   "source": [
    "#df_base = pd.DataFrame(columns=['danceability', 'energy', 'key', 'loudness', 'mode', 'speechiness',\n",
    "       #'acousticness', 'instrumentalness', 'liveness', 'valence', 'tempo',\n",
    "       #'type', 'id', 'uri', 'track_href', 'analysis_url', 'duration_ms',\n",
    "       #'time_signature'])"
   ]
  },
  {
   "cell_type": "code",
   "execution_count": 16,
   "id": "df4d3168",
   "metadata": {
    "scrolled": true
   },
   "outputs": [
    {
     "name": "stdout",
     "output_type": "stream",
     "text": [
      "Working on 0...\n",
      "Working on 100...\n",
      "Working on 200...\n",
      "Working on 300...\n"
     ]
    }
   ],
   "source": [
    "df_base = pd.DataFrame()\n",
    "\n",
    "lower_bound_iterables = list(range(0, len(song_ids_list), 1000))\n",
    "upper_bound_iterables = list(range(1000, len(song_ids_list), 1000))\n",
    "upper_bound_iterables.append(len(song_ids_list))\n",
    "\n",
    "csv_name_list = [\"Batch\" + str(batch+1) + \".csv\" for batch in range(len(lower_bound_iterables))]\n",
    "\n",
    "for idx in range(len(lower_bound_iterables)):\n",
    "    list_of_audio_features=[]\n",
    "    sleep(random.randint(2,5))\n",
    "    #print(f\"Sleeping for {sleep(random.randint(0,3))} seconds...\")\n",
    "    for item in range(lower_bound_iterables[idx],upper_bound_iterables[idx]):\n",
    "        if item % 100 == 0:\n",
    "            print(f\"Working on {item}...\")\n",
    "        try:\n",
    "            audio_features = sp.audio_features(song_ids_list[item])[0]\n",
    "            list_of_audio_features.append(audio_features)\n",
    "        except:\n",
    "            pass\n",
    "        list_of_audio_features = list(filter(None, list_of_audio_features))\n",
    "\n",
    "    df=pd.DataFrame(list_of_audio_features)    \n",
    "    df=df[[\"danceability\",\"energy\",\"loudness\",\"speechiness\",\"acousticness\",\n",
    "        \"instrumentalness\",\"liveness\",\"valence\",\"tempo\",\"id\",\"duration_ms\"]]\n",
    "    df.to_csv(csv_name_list[idx], index=False)\n",
    "    df_base = pd.concat([df_base, df], ignore_index=True)\n",
    "    #df_base.append(df, ignore_index=True)"
   ]
  },
  {
   "cell_type": "code",
   "execution_count": 23,
   "id": "b016dea4",
   "metadata": {
    "collapsed": true
   },
   "outputs": [
    {
     "data": {
      "text/html": [
       "<div>\n",
       "<style scoped>\n",
       "    .dataframe tbody tr th:only-of-type {\n",
       "        vertical-align: middle;\n",
       "    }\n",
       "\n",
       "    .dataframe tbody tr th {\n",
       "        vertical-align: top;\n",
       "    }\n",
       "\n",
       "    .dataframe thead th {\n",
       "        text-align: right;\n",
       "    }\n",
       "</style>\n",
       "<table border=\"1\" class=\"dataframe\">\n",
       "  <thead>\n",
       "    <tr style=\"text-align: right;\">\n",
       "      <th></th>\n",
       "      <th>danceability</th>\n",
       "      <th>energy</th>\n",
       "      <th>loudness</th>\n",
       "      <th>speechiness</th>\n",
       "      <th>acousticness</th>\n",
       "      <th>instrumentalness</th>\n",
       "      <th>liveness</th>\n",
       "      <th>valence</th>\n",
       "      <th>tempo</th>\n",
       "      <th>id</th>\n",
       "      <th>duration_ms</th>\n",
       "    </tr>\n",
       "  </thead>\n",
       "  <tbody>\n",
       "    <tr>\n",
       "      <th>0</th>\n",
       "      <td>0.575</td>\n",
       "      <td>0.722</td>\n",
       "      <td>-5.146</td>\n",
       "      <td>0.0719</td>\n",
       "      <td>0.3870</td>\n",
       "      <td>0.000000</td>\n",
       "      <td>0.1330</td>\n",
       "      <td>0.793</td>\n",
       "      <td>149.079</td>\n",
       "      <td>6oRkosAzlSgoMP7JHpZovG</td>\n",
       "      <td>144760</td>\n",
       "    </tr>\n",
       "    <tr>\n",
       "      <th>1</th>\n",
       "      <td>0.464</td>\n",
       "      <td>0.484</td>\n",
       "      <td>-5.893</td>\n",
       "      <td>0.0285</td>\n",
       "      <td>0.6750</td>\n",
       "      <td>0.000317</td>\n",
       "      <td>0.0903</td>\n",
       "      <td>0.348</td>\n",
       "      <td>80.812</td>\n",
       "      <td>0QqlWusQ3clb3ZYxZdfb1c</td>\n",
       "      <td>148107</td>\n",
       "    </tr>\n",
       "    <tr>\n",
       "      <th>2</th>\n",
       "      <td>0.606</td>\n",
       "      <td>0.794</td>\n",
       "      <td>-6.042</td>\n",
       "      <td>0.0282</td>\n",
       "      <td>0.1570</td>\n",
       "      <td>0.040600</td>\n",
       "      <td>0.5680</td>\n",
       "      <td>0.911</td>\n",
       "      <td>116.930</td>\n",
       "      <td>4Wd9pEtEnZNDjgiswGOpJb</td>\n",
       "      <td>274227</td>\n",
       "    </tr>\n",
       "    <tr>\n",
       "      <th>3</th>\n",
       "      <td>0.471</td>\n",
       "      <td>0.585</td>\n",
       "      <td>-6.105</td>\n",
       "      <td>0.0822</td>\n",
       "      <td>0.7860</td>\n",
       "      <td>0.000000</td>\n",
       "      <td>0.8110</td>\n",
       "      <td>0.655</td>\n",
       "      <td>150.719</td>\n",
       "      <td>6EAlFsajDK1PVgfhdJbS5Y</td>\n",
       "      <td>169747</td>\n",
       "    </tr>\n",
       "    <tr>\n",
       "      <th>4</th>\n",
       "      <td>0.455</td>\n",
       "      <td>0.502</td>\n",
       "      <td>-7.539</td>\n",
       "      <td>0.0493</td>\n",
       "      <td>0.6990</td>\n",
       "      <td>0.000156</td>\n",
       "      <td>0.0940</td>\n",
       "      <td>0.674</td>\n",
       "      <td>163.347</td>\n",
       "      <td>40XeGNGFchGYw7y0ue1GiG</td>\n",
       "      <td>209453</td>\n",
       "    </tr>\n",
       "    <tr>\n",
       "      <th>...</th>\n",
       "      <td>...</td>\n",
       "      <td>...</td>\n",
       "      <td>...</td>\n",
       "      <td>...</td>\n",
       "      <td>...</td>\n",
       "      <td>...</td>\n",
       "      <td>...</td>\n",
       "      <td>...</td>\n",
       "      <td>...</td>\n",
       "      <td>...</td>\n",
       "      <td>...</td>\n",
       "    </tr>\n",
       "    <tr>\n",
       "      <th>335</th>\n",
       "      <td>0.686</td>\n",
       "      <td>0.127</td>\n",
       "      <td>-14.361</td>\n",
       "      <td>0.0342</td>\n",
       "      <td>0.7540</td>\n",
       "      <td>0.000014</td>\n",
       "      <td>0.0573</td>\n",
       "      <td>0.372</td>\n",
       "      <td>93.699</td>\n",
       "      <td>5jgFfDIR6FR0gvlA56Nakr</td>\n",
       "      <td>138387</td>\n",
       "    </tr>\n",
       "    <tr>\n",
       "      <th>336</th>\n",
       "      <td>0.422</td>\n",
       "      <td>0.837</td>\n",
       "      <td>-9.280</td>\n",
       "      <td>0.0688</td>\n",
       "      <td>0.0141</td>\n",
       "      <td>0.029200</td>\n",
       "      <td>0.6720</td>\n",
       "      <td>0.792</td>\n",
       "      <td>137.667</td>\n",
       "      <td>3Q6NUdGcNE9CZRG7U46Z3x</td>\n",
       "      <td>408200</td>\n",
       "    </tr>\n",
       "    <tr>\n",
       "      <th>337</th>\n",
       "      <td>0.509</td>\n",
       "      <td>0.393</td>\n",
       "      <td>-11.608</td>\n",
       "      <td>0.0250</td>\n",
       "      <td>0.0278</td>\n",
       "      <td>0.000000</td>\n",
       "      <td>0.2130</td>\n",
       "      <td>0.305</td>\n",
       "      <td>88.495</td>\n",
       "      <td>1XniiWESJxq9mCuixUVNBK</td>\n",
       "      <td>292800</td>\n",
       "    </tr>\n",
       "    <tr>\n",
       "      <th>338</th>\n",
       "      <td>0.373</td>\n",
       "      <td>0.388</td>\n",
       "      <td>-9.310</td>\n",
       "      <td>0.0337</td>\n",
       "      <td>0.5250</td>\n",
       "      <td>0.000000</td>\n",
       "      <td>0.2670</td>\n",
       "      <td>0.687</td>\n",
       "      <td>77.643</td>\n",
       "      <td>7rgUYidQh5tH0YlXCoKaYJ</td>\n",
       "      <td>181347</td>\n",
       "    </tr>\n",
       "    <tr>\n",
       "      <th>339</th>\n",
       "      <td>0.650</td>\n",
       "      <td>0.777</td>\n",
       "      <td>-4.984</td>\n",
       "      <td>0.0294</td>\n",
       "      <td>0.1410</td>\n",
       "      <td>0.343000</td>\n",
       "      <td>0.2150</td>\n",
       "      <td>0.574</td>\n",
       "      <td>109.608</td>\n",
       "      <td>1raiIrqaqRAqZmQWZlLuBd</td>\n",
       "      <td>136827</td>\n",
       "    </tr>\n",
       "  </tbody>\n",
       "</table>\n",
       "<p>340 rows × 11 columns</p>\n",
       "</div>"
      ],
      "text/plain": [
       "     danceability  energy  loudness  speechiness  acousticness  \\\n",
       "0           0.575   0.722    -5.146       0.0719        0.3870   \n",
       "1           0.464   0.484    -5.893       0.0285        0.6750   \n",
       "2           0.606   0.794    -6.042       0.0282        0.1570   \n",
       "3           0.471   0.585    -6.105       0.0822        0.7860   \n",
       "4           0.455   0.502    -7.539       0.0493        0.6990   \n",
       "..            ...     ...       ...          ...           ...   \n",
       "335         0.686   0.127   -14.361       0.0342        0.7540   \n",
       "336         0.422   0.837    -9.280       0.0688        0.0141   \n",
       "337         0.509   0.393   -11.608       0.0250        0.0278   \n",
       "338         0.373   0.388    -9.310       0.0337        0.5250   \n",
       "339         0.650   0.777    -4.984       0.0294        0.1410   \n",
       "\n",
       "     instrumentalness  liveness  valence    tempo                      id  \\\n",
       "0            0.000000    0.1330    0.793  149.079  6oRkosAzlSgoMP7JHpZovG   \n",
       "1            0.000317    0.0903    0.348   80.812  0QqlWusQ3clb3ZYxZdfb1c   \n",
       "2            0.040600    0.5680    0.911  116.930  4Wd9pEtEnZNDjgiswGOpJb   \n",
       "3            0.000000    0.8110    0.655  150.719  6EAlFsajDK1PVgfhdJbS5Y   \n",
       "4            0.000156    0.0940    0.674  163.347  40XeGNGFchGYw7y0ue1GiG   \n",
       "..                ...       ...      ...      ...                     ...   \n",
       "335          0.000014    0.0573    0.372   93.699  5jgFfDIR6FR0gvlA56Nakr   \n",
       "336          0.029200    0.6720    0.792  137.667  3Q6NUdGcNE9CZRG7U46Z3x   \n",
       "337          0.000000    0.2130    0.305   88.495  1XniiWESJxq9mCuixUVNBK   \n",
       "338          0.000000    0.2670    0.687   77.643  7rgUYidQh5tH0YlXCoKaYJ   \n",
       "339          0.343000    0.2150    0.574  109.608  1raiIrqaqRAqZmQWZlLuBd   \n",
       "\n",
       "     duration_ms  \n",
       "0         144760  \n",
       "1         148107  \n",
       "2         274227  \n",
       "3         169747  \n",
       "4         209453  \n",
       "..           ...  \n",
       "335       138387  \n",
       "336       408200  \n",
       "337       292800  \n",
       "338       181347  \n",
       "339       136827  \n",
       "\n",
       "[340 rows x 11 columns]"
      ]
     },
     "execution_count": 23,
     "metadata": {},
     "output_type": "execute_result"
    }
   ],
   "source": [
    "df_base"
   ]
  },
  {
   "cell_type": "markdown",
   "id": "83b10a69",
   "metadata": {},
   "source": [
    "try:\n",
    "    os.makedirs(\"Song_Collection_\" + approach_name)\n",
    "except FileExistsError:\n",
    "    pass\n",
    "\n",
    "df_base.drop_duplicates(inplace=True)\n",
    "\n",
    "csv_title = \"Song_Collection_\" + approach_name + \"\\\\\" + str(len(df_base)) + \"_Song_Collection.csv\"\n",
    "df_base.to_csv(csv_title, index=False)"
   ]
  },
  {
   "cell_type": "raw",
   "id": "24ce7465",
   "metadata": {},
   "source": [
    "list_of_audio_features=[]\n",
    "for item in range(0,1000):\n",
    "    if item % 100 == 0:\n",
    "        print(f\"Working on {item}...\")\n",
    "    list_of_audio_features.append(sp.audio_features(song_ids_list[item])[0])\n",
    "    list_of_audio_features = list(filter(None, list_of_audio_features))\n",
    "\n",
    "df_base=pd.DataFrame(list_of_audio_features)    \n",
    "df_base=df_base[[\"danceability\",\"energy\",\"loudness\",\"speechiness\",\"acousticness\",\n",
    "    \"instrumentalness\",\"liveness\",\"valence\",\"tempo\",\"id\",\"duration_ms\"]]\n",
    "#df_base.to_csv(\"Batch1.csv\", index=False)"
   ]
  },
  {
   "cell_type": "raw",
   "id": "6e6e23d8",
   "metadata": {},
   "source": [
    "list_of_audio_features=[]\n",
    "for item in range(1000,2000):\n",
    "    if item % 100 == 0:\n",
    "        print(f\"Working on {item}...\")\n",
    "    list_of_audio_features.append(sp.audio_features(song_ids_list[item])[0])\n",
    "    list_of_audio_features = list(filter(None, list_of_audio_features))\n",
    "\n",
    "df=pd.DataFrame(list_of_audio_features)    \n",
    "df=df[[\"danceability\",\"energy\",\"loudness\",\"speechiness\",\"acousticness\",\n",
    "    \"instrumentalness\",\"liveness\",\"valence\",\"tempo\",\"id\",\"duration_ms\"]]\n",
    "df.to_csv(\"Batch2.csv\", index=False)\n",
    "#df_base.append(df, ignore_index=True)"
   ]
  },
  {
   "cell_type": "raw",
   "id": "d8b04f7d",
   "metadata": {},
   "source": [
    "list_of_audio_features=[]\n",
    "for item in range(2000,3000):\n",
    "    if item % 100 == 0:\n",
    "        print(f\"Working on {item}...\")\n",
    "    list_of_audio_features.append(sp.audio_features(song_ids_list[item])[0])\n",
    "    list_of_audio_features = list(filter(None, list_of_audio_features))\n",
    "\n",
    "df=pd.DataFrame(list_of_audio_features)    \n",
    "df=df[[\"danceability\",\"energy\",\"loudness\",\"speechiness\",\"acousticness\",\n",
    "    \"instrumentalness\",\"liveness\",\"valence\",\"tempo\",\"id\",\"duration_ms\"]]\n",
    "df.to_csv(\"Batch3.csv\", index=False)\n",
    "#df_base.append(df, ignore_index=True)"
   ]
  },
  {
   "cell_type": "raw",
   "id": "eea908be",
   "metadata": {},
   "source": [
    "list_of_audio_features=[]\n",
    "for item in range(3000,4000):\n",
    "    if item % 100 == 0:\n",
    "        print(f\"Working on {item}...\")\n",
    "    list_of_audio_features.append(sp.audio_features(song_ids_list[item])[0])\n",
    "    list_of_audio_features = list(filter(None, list_of_audio_features))\n",
    "\n",
    "df=pd.DataFrame(list_of_audio_features)    \n",
    "df=df[[\"danceability\",\"energy\",\"loudness\",\"speechiness\",\"acousticness\",\n",
    "    \"instrumentalness\",\"liveness\",\"valence\",\"tempo\",\"id\",\"duration_ms\"]]\n",
    "df.to_csv(\"Batch4.csv\", index=False)\n",
    "#df_base.append(df, ignore_index=True)"
   ]
  },
  {
   "cell_type": "raw",
   "id": "c954490a",
   "metadata": {},
   "source": [
    "list_of_audio_features=[]\n",
    "for item in range(4000,5000):\n",
    "    if item % 100 == 0:\n",
    "        print(f\"Working on {item}...\")\n",
    "    list_of_audio_features.append(sp.audio_features(song_ids_list[item])[0])\n",
    "    list_of_audio_features = list(filter(None, list_of_audio_features))\n",
    "\n",
    "df=pd.DataFrame(list_of_audio_features)    \n",
    "df=df[[\"danceability\",\"energy\",\"loudness\",\"speechiness\",\"acousticness\",\n",
    "    \"instrumentalness\",\"liveness\",\"valence\",\"tempo\",\"id\",\"duration_ms\"]]\n",
    "df.to_csv(\"Batch5.csv\", index=False)\n",
    "#df_base.append(df, ignore_index=True)"
   ]
  },
  {
   "cell_type": "raw",
   "id": "68a94b59",
   "metadata": {},
   "source": [
    "list_of_audio_features=[]\n",
    "for item in range(5000,6000):\n",
    "    if item % 100 == 0:\n",
    "        print(f\"Working on {item}...\")\n",
    "    list_of_audio_features.append(sp.audio_features(song_ids_list[item])[0])\n",
    "    list_of_audio_features = list(filter(None, list_of_audio_features))\n",
    "\n",
    "df=pd.DataFrame(list_of_audio_features)    \n",
    "df=df[[\"danceability\",\"energy\",\"loudness\",\"speechiness\",\"acousticness\",\n",
    "    \"instrumentalness\",\"liveness\",\"valence\",\"tempo\",\"id\",\"duration_ms\"]]\n",
    "df.to_csv(\"Batch6.csv\", index=False)\n",
    "#df_base.append(df, ignore_index=True)"
   ]
  },
  {
   "cell_type": "raw",
   "id": "5a2e9a90",
   "metadata": {},
   "source": [
    "list_of_audio_features=[]\n",
    "for item in range(6000,7000):\n",
    "    if item % 100 == 0:\n",
    "        print(f\"Working on {item}...\")\n",
    "    list_of_audio_features.append(sp.audio_features(song_ids_list[item])[0])\n",
    "    list_of_audio_features = list(filter(None, list_of_audio_features))\n",
    "\n",
    "df=pd.DataFrame(list_of_audio_features)    \n",
    "df=df[[\"danceability\",\"energy\",\"loudness\",\"speechiness\",\"acousticness\",\n",
    "    \"instrumentalness\",\"liveness\",\"valence\",\"tempo\",\"id\",\"duration_ms\"]]\n",
    "df.to_csv(\"Batch7.csv\", index=False)\n",
    "#df_base.append(df, ignore_index=True)"
   ]
  },
  {
   "cell_type": "raw",
   "id": "b4a243a6",
   "metadata": {},
   "source": [
    "list_of_audio_features=[]\n",
    "for item in range(7000,8000):\n",
    "    if item % 100 == 0:\n",
    "        print(f\"Working on {item}...\")\n",
    "    list_of_audio_features.append(sp.audio_features(song_ids_list[item])[0])\n",
    "    list_of_audio_features = list(filter(None, list_of_audio_features))\n",
    "\n",
    "df=pd.DataFrame(list_of_audio_features)    \n",
    "df=df[[\"danceability\",\"energy\",\"loudness\",\"speechiness\",\"acousticness\",\n",
    "    \"instrumentalness\",\"liveness\",\"valence\",\"tempo\",\"id\",\"duration_ms\"]]\n",
    "df.to_csv(\"Batch8.csv\", index=False)\n",
    "#df_base.append(df, ignore_index=True)"
   ]
  },
  {
   "cell_type": "raw",
   "id": "c3fb5cd4",
   "metadata": {},
   "source": [
    "list_of_audio_features=[]\n",
    "for item in range(8000,9000):\n",
    "    if item % 100 == 0:\n",
    "        print(f\"Working on {item}...\")\n",
    "    list_of_audio_features.append(sp.audio_features(song_ids_list[item])[0])\n",
    "    list_of_audio_features = list(filter(None, list_of_audio_features))\n",
    "\n",
    "df=pd.DataFrame(list_of_audio_features)    \n",
    "df=df[[\"danceability\",\"energy\",\"loudness\",\"speechiness\",\"acousticness\",\n",
    "    \"instrumentalness\",\"liveness\",\"valence\",\"tempo\",\"id\",\"duration_ms\"]]\n",
    "df.to_csv(\"Batch9.csv\", index=False)\n",
    "#df_base.append(df, ignore_index=True)"
   ]
  },
  {
   "cell_type": "raw",
   "id": "2b349d78",
   "metadata": {},
   "source": [
    "list_of_audio_features=[]\n",
    "for item in range(9000,10000):\n",
    "    if item % 100 == 0:\n",
    "        print(f\"Working on {item}...\")\n",
    "    list_of_audio_features.append(sp.audio_features(song_ids_list[item])[0])\n",
    "    list_of_audio_features = list(filter(None, list_of_audio_features))\n",
    "\n",
    "df=pd.DataFrame(list_of_audio_features)    \n",
    "df=df[[\"danceability\",\"energy\",\"loudness\",\"speechiness\",\"acousticness\",\n",
    "    \"instrumentalness\",\"liveness\",\"valence\",\"tempo\",\"id\",\"duration_ms\"]]\n",
    "df.to_csv(\"Batch10.csv\", index=False)\n",
    "#df_base.append(df, ignore_index=True)"
   ]
  },
  {
   "cell_type": "raw",
   "id": "64faf546",
   "metadata": {},
   "source": [
    "list_of_audio_features=[]\n",
    "for item in range(10000,11000):\n",
    "    if item % 100 == 0:\n",
    "        print(f\"Working on {item}...\")\n",
    "    list_of_audio_features.append(sp.audio_features(song_ids_list[item])[0])\n",
    "    list_of_audio_features = list(filter(None, list_of_audio_features))\n",
    "\n",
    "df=pd.DataFrame(list_of_audio_features)    \n",
    "df=df[[\"danceability\",\"energy\",\"loudness\",\"speechiness\",\"acousticness\",\n",
    "    \"instrumentalness\",\"liveness\",\"valence\",\"tempo\",\"id\",\"duration_ms\"]]\n",
    "df.to_csv(\"Batch11.csv\", index=False)\n",
    "#df_base.append(df, ignore_index=True)"
   ]
  },
  {
   "cell_type": "raw",
   "id": "f6c1ed20",
   "metadata": {},
   "source": [
    "list_of_audio_features=[]\n",
    "for item in range(11000,12000):\n",
    "    if item % 100 == 0:\n",
    "        print(f\"Working on {item}...\")\n",
    "    list_of_audio_features.append(sp.audio_features(song_ids_list[item])[0])\n",
    "    list_of_audio_features = list(filter(None, list_of_audio_features))\n",
    "\n",
    "df=pd.DataFrame(list_of_audio_features)    \n",
    "df=df[[\"danceability\",\"energy\",\"loudness\",\"speechiness\",\"acousticness\",\n",
    "    \"instrumentalness\",\"liveness\",\"valence\",\"tempo\",\"id\",\"duration_ms\"]]\n",
    "df.to_csv(\"Batch12.csv\", index=False)\n",
    "#df_base.append(df, ignore_index=True)"
   ]
  },
  {
   "cell_type": "raw",
   "id": "e0d0ef10",
   "metadata": {},
   "source": [
    "list_of_audio_features=[]\n",
    "for item in range(12000,12093):\n",
    "    if item % 100 == 0:\n",
    "        print(f\"Working on {item}...\")\n",
    "    list_of_audio_features.append(sp.audio_features(song_ids_list[item])[0])\n",
    "    list_of_audio_features = list(filter(None, list_of_audio_features))\n",
    "\n",
    "df=pd.DataFrame(list_of_audio_features)    \n",
    "df=df[[\"danceability\",\"energy\",\"loudness\",\"speechiness\",\"acousticness\",\n",
    "    \"instrumentalness\",\"liveness\",\"valence\",\"tempo\",\"id\",\"duration_ms\"]]\n",
    "df.to_csv(\"Batch13.csv\", index=False)\n",
    "#df_base.append(df, ignore_index=True)"
   ]
  },
  {
   "cell_type": "code",
   "execution_count": null,
   "id": "fc56a045",
   "metadata": {},
   "outputs": [],
   "source": []
  },
  {
   "cell_type": "code",
   "execution_count": null,
   "id": "1cda38a3",
   "metadata": {},
   "outputs": [],
   "source": []
  },
  {
   "cell_type": "raw",
   "id": "e3afbb15",
   "metadata": {},
   "source": [
    "def get_playlist_track_audiofeatures(id_list, df_base):\n",
    "    \n",
    "    lower_bound_iterables = list(range(0, len(song_ids_list), 100))\n",
    "    upper_bound_iterables = list(range(100, len(song_ids_list), 100))\n",
    "    upper_bound_iterables.append(len(song_ids_list))\n",
    "    \n",
    "    for idx in range(len(lower_bound_iterables)):\n",
    "        print(f\"{lower_bound_iterables[idx]} : {upper_bound_iterables[idx]}\")\n",
    "        audio_features_list = []\n",
    "    \n",
    "        for idx in range(lower_bound_iterables[idx], upper_bound_iterables[idx]):\n",
    "            song_audiofeatures = sp.audio_features(id_list[idx])[0]\n",
    "            if song_audiofeatures: # if song_audiofeatures is NOT NoneType, then skip/ignore\n",
    "                audio_features_list.append(song_audiofeatures)\n",
    "                \n",
    "        dict_to_append = dict(audio_features_list)    \n",
    "        df_base = df_base.append(dict_to_append, ignore_index=True)\n",
    "        #df_2 = df_2[[\"id\",\"danceability\",\"energy\",\"loudness\",\"speechiness\",\"acousticness\",\n",
    "                     #\"instrumentalness\",\"liveness\",\"valence\",\"tempo\",\"duration_ms\"]]\n",
    "        #df_base = pd.concat([df_base, df_2], axis=1)\n",
    "        print(f\"New Dataframe Length: {len(df_base)}\")\n",
    "\n",
    "        print(f\"{len(audio_features_list)} track audio features have been extracted!\")  \n",
    "        #return audio_features_list\n",
    "\n",
    "song_audiofeatures_list = get_playlist_track_audiofeatures(song_ids_list, df_base)"
   ]
  },
  {
   "cell_type": "markdown",
   "id": "5971f0a0",
   "metadata": {},
   "source": [
    "### Extracting song `<NAMES>`"
   ]
  },
  {
   "cell_type": "code",
   "execution_count": 17,
   "id": "f701bcb7",
   "metadata": {},
   "outputs": [],
   "source": [
    "def get_playlist_track_names(playlist):\n",
    "    song_names_list = []\n",
    "    for t in range(len(playlist)):\n",
    "        try:\n",
    "            song_names_list.append(playlist[t][\"track\"][\"name\"])\n",
    "        except:\n",
    "            pass\n",
    "    #song_names_list = [playlist[t][\"track\"][\"name\"] for t in range(len(playlist))]\n",
    "    return song_names_list\n",
    "\n",
    "song_names_list = get_playlist_track_names(playlist)"
   ]
  },
  {
   "cell_type": "markdown",
   "id": "1d7f80db",
   "metadata": {},
   "source": [
    "### Extracting song `<ARTISTS>`"
   ]
  },
  {
   "cell_type": "code",
   "execution_count": 18,
   "id": "1ce7aad9",
   "metadata": {},
   "outputs": [],
   "source": [
    "def get_playlist_track_artists(playlist):\n",
    "    song_artist_list = []\n",
    "    for artist in range(len(playlist)):\n",
    "        try:\n",
    "            song_artist_list.append(playlist[artist][\"track\"][\"artists\"][0][\"name\"])\n",
    "        except:\n",
    "            pass\n",
    "    #song_artist_list = [playlist[artist][\"track\"][\"artists\"][0][\"name\"] for artist in range(len(playlist))]\n",
    "    return song_artist_list\n",
    "\n",
    "song_artist_list = get_playlist_track_artists(playlist)"
   ]
  },
  {
   "cell_type": "markdown",
   "id": "59d20c22",
   "metadata": {},
   "source": [
    "## Create dataframe with song `<NAMEs>`, `<ARTISTs>`, `<IDs>`, `<AUDIO FEATUREs>`"
   ]
  },
  {
   "cell_type": "code",
   "execution_count": 20,
   "id": "159ed292",
   "metadata": {
    "scrolled": true
   },
   "outputs": [],
   "source": [
    "def create_df_to_concat_to_base():\n",
    "\n",
    "    df_1 = pd.DataFrame(data={\n",
    "        \"song_name\": song_names_list,\n",
    "        \"song_artist\": song_artist_list,\n",
    "        \"id\": song_ids_list_nonset\n",
    "    })\n",
    "\n",
    "    #df_2 = pd.DataFrame(song_audiofeatures_list)    \n",
    "    #df_2 = df_2[[\"id\",\"danceability\",\"energy\",\"loudness\",\"speechiness\",\"acousticness\",\n",
    "               #\"instrumentalness\",\"liveness\",\"valence\",\"tempo\",\"duration_ms\"]]\n",
    "\n",
    "    #df = pd.concat([df_1, df_2], axis=1)\n",
    "    #print(f\"Dataframe with {len(df)} entries was created as `df_to_concat`\")\n",
    "    return df_1\n",
    "\n",
    "df = create_df_to_concat_to_base()"
   ]
  },
  {
   "cell_type": "code",
   "execution_count": 22,
   "id": "470de854",
   "metadata": {
    "collapsed": true
   },
   "outputs": [
    {
     "data": {
      "text/html": [
       "<div>\n",
       "<style scoped>\n",
       "    .dataframe tbody tr th:only-of-type {\n",
       "        vertical-align: middle;\n",
       "    }\n",
       "\n",
       "    .dataframe tbody tr th {\n",
       "        vertical-align: top;\n",
       "    }\n",
       "\n",
       "    .dataframe thead th {\n",
       "        text-align: right;\n",
       "    }\n",
       "</style>\n",
       "<table border=\"1\" class=\"dataframe\">\n",
       "  <thead>\n",
       "    <tr style=\"text-align: right;\">\n",
       "      <th></th>\n",
       "      <th>song_name</th>\n",
       "      <th>song_artist</th>\n",
       "      <th>id</th>\n",
       "    </tr>\n",
       "  </thead>\n",
       "  <tbody>\n",
       "    <tr>\n",
       "      <th>0</th>\n",
       "      <td>Hey Jude - Remastered 2009</td>\n",
       "      <td>The Beatles</td>\n",
       "      <td>3m7V717IKZqZLW5qUIOxdD</td>\n",
       "    </tr>\n",
       "    <tr>\n",
       "      <th>1</th>\n",
       "      <td>Here Comes The Sun - Remastered 2009</td>\n",
       "      <td>The Beatles</td>\n",
       "      <td>6dGnYIeXmHdcikdzNNDMm2</td>\n",
       "    </tr>\n",
       "    <tr>\n",
       "      <th>2</th>\n",
       "      <td>Yesterday - Remastered 2009</td>\n",
       "      <td>The Beatles</td>\n",
       "      <td>3BQHpFgAp4l80e1XslIjNI</td>\n",
       "    </tr>\n",
       "    <tr>\n",
       "      <th>3</th>\n",
       "      <td>Come Together - Remastered 2009</td>\n",
       "      <td>The Beatles</td>\n",
       "      <td>2EqlS6tkEnglzr7tkKAAYD</td>\n",
       "    </tr>\n",
       "    <tr>\n",
       "      <th>4</th>\n",
       "      <td>Let It Be - Remastered 2009</td>\n",
       "      <td>The Beatles</td>\n",
       "      <td>7iN1s7xHE4ifF5povM6A48</td>\n",
       "    </tr>\n",
       "    <tr>\n",
       "      <th>...</th>\n",
       "      <td>...</td>\n",
       "      <td>...</td>\n",
       "      <td>...</td>\n",
       "    </tr>\n",
       "    <tr>\n",
       "      <th>335</th>\n",
       "      <td>Candy</td>\n",
       "      <td>The Byrds</td>\n",
       "      <td>63tz1a1K7kMoeRDuHsmkAf</td>\n",
       "    </tr>\n",
       "    <tr>\n",
       "      <th>336</th>\n",
       "      <td>Willin'</td>\n",
       "      <td>The Byrds</td>\n",
       "      <td>1mCVgEZT13m6ZDUdXhm5QR</td>\n",
       "    </tr>\n",
       "    <tr>\n",
       "      <th>337</th>\n",
       "      <td>It's Alright Ma (I'm Only Bleeding) - Live at ...</td>\n",
       "      <td>The Byrds</td>\n",
       "      <td>55iwHqLxDHMvIsSmmvJLFT</td>\n",
       "    </tr>\n",
       "    <tr>\n",
       "      <th>338</th>\n",
       "      <td>It Won't Be Wrong</td>\n",
       "      <td>The Byrds</td>\n",
       "      <td>46uLYXCBGVCkAFLV6YH2PQ</td>\n",
       "    </tr>\n",
       "    <tr>\n",
       "      <th>339</th>\n",
       "      <td>Child of the Universe</td>\n",
       "      <td>The Byrds</td>\n",
       "      <td>1lDxJAQFgaZqVpmoPo2TL7</td>\n",
       "    </tr>\n",
       "  </tbody>\n",
       "</table>\n",
       "<p>340 rows × 3 columns</p>\n",
       "</div>"
      ],
      "text/plain": [
       "                                             song_name  song_artist  \\\n",
       "0                           Hey Jude - Remastered 2009  The Beatles   \n",
       "1                 Here Comes The Sun - Remastered 2009  The Beatles   \n",
       "2                          Yesterday - Remastered 2009  The Beatles   \n",
       "3                      Come Together - Remastered 2009  The Beatles   \n",
       "4                          Let It Be - Remastered 2009  The Beatles   \n",
       "..                                                 ...          ...   \n",
       "335                                              Candy    The Byrds   \n",
       "336                                            Willin'    The Byrds   \n",
       "337  It's Alright Ma (I'm Only Bleeding) - Live at ...    The Byrds   \n",
       "338                                  It Won't Be Wrong    The Byrds   \n",
       "339                              Child of the Universe    The Byrds   \n",
       "\n",
       "                         id  \n",
       "0    3m7V717IKZqZLW5qUIOxdD  \n",
       "1    6dGnYIeXmHdcikdzNNDMm2  \n",
       "2    3BQHpFgAp4l80e1XslIjNI  \n",
       "3    2EqlS6tkEnglzr7tkKAAYD  \n",
       "4    7iN1s7xHE4ifF5povM6A48  \n",
       "..                      ...  \n",
       "335  63tz1a1K7kMoeRDuHsmkAf  \n",
       "336  1mCVgEZT13m6ZDUdXhm5QR  \n",
       "337  55iwHqLxDHMvIsSmmvJLFT  \n",
       "338  46uLYXCBGVCkAFLV6YH2PQ  \n",
       "339  1lDxJAQFgaZqVpmoPo2TL7  \n",
       "\n",
       "[340 rows x 3 columns]"
      ]
     },
     "execution_count": 22,
     "metadata": {},
     "output_type": "execute_result"
    }
   ],
   "source": [
    "df"
   ]
  },
  {
   "cell_type": "code",
   "execution_count": 21,
   "id": "35b1ac09",
   "metadata": {},
   "outputs": [],
   "source": [
    "csv_title_song_infos = \"Song_Collection_\" + approach_name + \"\\\\\" + str(len(df_base)) +\"_Song_Infos.csv\"\n",
    "df.to_csv(csv_title_song_infos, index=False)"
   ]
  },
  {
   "cell_type": "markdown",
   "id": "a972def5",
   "metadata": {},
   "source": [
    "## Extend csv with dataframe to concat"
   ]
  },
  {
   "cell_type": "markdown",
   "id": "1efc1152",
   "metadata": {},
   "source": [
    "def extend_collection():\n",
    "    \n",
    "    df_base = pd.read_csv(\"Song_Collection_Extended.csv\")\n",
    "    df_extended = pd.concat([df_base, df], axis=0, ignore_index=True)\n",
    "    df_extended.to_csv(\"Song_Collection_Extended.csv\", index=False)\n",
    "    print(f\"Extended base dataframe (length = {len(df_base)}) by {len(df)} songs!\")\n",
    "    return df_extended\n",
    "\n",
    "#df_extended = extend_collection()"
   ]
  },
  {
   "cell_type": "markdown",
   "id": "cfca09b3",
   "metadata": {},
   "source": [
    "### Create very first dataframe to build upon"
   ]
  },
  {
   "cell_type": "markdown",
   "id": "2f38928f",
   "metadata": {},
   "source": [
    "def create_base_dataframe():\n",
    "\n",
    "    df_1 = pd.DataFrame(data={\n",
    "        \"song_name\": song_names_list,\n",
    "        \"song_artist\": song_artist_list,\n",
    "    })\n",
    "\n",
    "    df_2 = pd.DataFrame(song_audiofeatures_list)    \n",
    "    df_2 = df_2[[\"id\",\"danceability\",\"energy\",\"loudness\",\"speechiness\",\"acousticness\",\n",
    "               \"instrumentalness\",\"liveness\",\"valence\",\"tempo\",\"duration_ms\"]]\n",
    "\n",
    "    df = pd.concat([df_1, df_2], axis=1)\n",
    "    df.to_csv(\"Song_Collection_Extended.csv\", index=False)\n",
    "    print(f\"Dataframe with {len(df)} entries was created\")\n",
    "    return df"
   ]
  },
  {
   "cell_type": "raw",
   "id": "87a20bc7",
   "metadata": {},
   "source": [
    "playlist=get_playlist_tracks(\"dimoqxn\", \"4wNlX4GrLXSgnuGZpI5xVa\")\n",
    "song_ids_list = get_playlist_track_ids(playlist)\n",
    "song_names_list = get_playlist_track_names(playlist)\n",
    "song_artist_list = get_playlist_track_artists(playlist)\n",
    "song_audiofeatures_list = get_playlist_track_audiofeatures(song_ids_list)\n",
    "df = create_df_to_concat_to_base()\n",
    "df_extended = extend_collection()"
   ]
  },
  {
   "cell_type": "markdown",
   "id": "7811d47e",
   "metadata": {},
   "source": [
    "## PIPELINE - Looping through list of playlists"
   ]
  },
  {
   "cell_type": "raw",
   "id": "31380956",
   "metadata": {},
   "source": [
    "playlists_list = [\"61hfbFZxRLYNWmqkfBSQw1\", \"4wNlX4GrLXSgnuGZpI5xVa\"]"
   ]
  },
  {
   "cell_type": "raw",
   "id": "84f4d9bb",
   "metadata": {
    "scrolled": true
   },
   "source": [
    "for idx, plist in enumerate(playlists_list):\n",
    "    try:\n",
    "        playlist=get_playlist_tracks(\"spotify\", plist)\n",
    "        song_ids_list = get_playlist_track_ids(playlist)\n",
    "        song_names_list = get_playlist_track_names(playlist)\n",
    "        song_artist_list = get_playlist_track_artists(playlist)\n",
    "        song_audiofeatures_list = get_playlist_track_audiofeatures(song_ids_list)\n",
    "        df = create_df_to_concat_to_base()\n",
    "        df_extended = extend_collection()\n",
    "    except:\n",
    "        pass"
   ]
  },
  {
   "cell_type": "code",
   "execution_count": null,
   "id": "98934d79",
   "metadata": {},
   "outputs": [],
   "source": []
  }
 ],
 "metadata": {
  "kernelspec": {
   "display_name": "Python 3 (ipykernel)",
   "language": "python",
   "name": "python3"
  },
  "language_info": {
   "codemirror_mode": {
    "name": "ipython",
    "version": 3
   },
   "file_extension": ".py",
   "mimetype": "text/x-python",
   "name": "python",
   "nbconvert_exporter": "python",
   "pygments_lexer": "ipython3",
   "version": "3.9.12"
  },
  "toc": {
   "base_numbering": 1,
   "nav_menu": {},
   "number_sections": true,
   "sideBar": true,
   "skip_h1_title": false,
   "title_cell": "Table of Contents",
   "title_sidebar": "Contents",
   "toc_cell": false,
   "toc_position": {},
   "toc_section_display": true,
   "toc_window_display": false
  },
  "varInspector": {
   "cols": {
    "lenName": 16,
    "lenType": 16,
    "lenVar": 40
   },
   "kernels_config": {
    "python": {
     "delete_cmd_postfix": "",
     "delete_cmd_prefix": "del ",
     "library": "var_list.py",
     "varRefreshCmd": "print(var_dic_list())"
    },
    "r": {
     "delete_cmd_postfix": ") ",
     "delete_cmd_prefix": "rm(",
     "library": "var_list.r",
     "varRefreshCmd": "cat(var_dic_list()) "
    }
   },
   "types_to_exclude": [
    "module",
    "function",
    "builtin_function_or_method",
    "instance",
    "_Feature"
   ],
   "window_display": false
  }
 },
 "nbformat": 4,
 "nbformat_minor": 5
}
