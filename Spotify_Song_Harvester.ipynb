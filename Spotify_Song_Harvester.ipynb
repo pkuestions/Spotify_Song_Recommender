{
 "cells": [
  {
   "cell_type": "code",
   "execution_count": 1,
   "id": "d3d431c4",
   "metadata": {},
   "outputs": [],
   "source": [
    "import spotipy\n",
    "import json\n",
    "from spotipy.oauth2 import SpotifyClientCredentials\n",
    "import config\n",
    "import pprint\n",
    "import pandas as pd\n",
    "from bs4 import BeautifulSoup\n",
    "import requests\n",
    "import random\n",
    "from time import sleep\n",
    "#from random import randint"
   ]
  },
  {
   "cell_type": "code",
   "execution_count": 2,
   "id": "f4683cce",
   "metadata": {},
   "outputs": [],
   "source": [
    "sp = spotipy.Spotify(auth_manager=SpotifyClientCredentials(client_id= config.client_id,\n",
    "                                                           client_secret= config.client_secret))"
   ]
  },
  {
   "cell_type": "markdown",
   "id": "9e23409f",
   "metadata": {},
   "source": [
    "## Searching a playlist"
   ]
  },
  {
   "cell_type": "markdown",
   "id": "4f16a9cb",
   "metadata": {},
   "source": [
    "## List of SPOTIFY Playlists"
   ]
  },
  {
   "cell_type": "markdown",
   "id": "ee2d39e4",
   "metadata": {},
   "source": [
    "### Source 1"
   ]
  },
  {
   "cell_type": "code",
   "execution_count": 12,
   "id": "9f30952b",
   "metadata": {},
   "outputs": [
    {
     "name": "stdout",
     "output_type": "stream",
     "text": [
      "200\n",
      "List of 28 playlists has been created!\n"
     ]
    }
   ],
   "source": [
    "url_1 = \"https://audiohype.io/resources/the-best-spotify-playlists/\"\n",
    "response_1 = requests.get(url_1)\n",
    "print(response_1.status_code) # 200 status code means OK!\n",
    "soup_1 = BeautifulSoup(response_1.content, \"html.parser\")\n",
    "\n",
    "playlists_list_1 = [soup_1.select(\".rank-math-link\")[pl][\"href\"].split(\"?\")[0] \n",
    "                    for pl in range(len(soup_1.select(\".rank-math-link\")))]\n",
    "playlists_list_1 = [url.split(\"/\")[-1] for url in playlists_list_1][:-1]\n",
    "print(f\"List of {len(playlists_list_1)} playlists has been created!\")"
   ]
  },
  {
   "cell_type": "markdown",
   "id": "8f22601f",
   "metadata": {},
   "source": [
    "### Source 2"
   ]
  },
  {
   "cell_type": "code",
   "execution_count": 13,
   "id": "ce6ad9d9",
   "metadata": {},
   "outputs": [
    {
     "name": "stdout",
     "output_type": "stream",
     "text": [
      "200\n",
      "List of 9 playlists has been created!\n"
     ]
    }
   ],
   "source": [
    "url_2 = \"https://www.noteburner.com/spotify-music-tips/top-10-spotify-playlist.html\"\n",
    "response_2 = requests.get(url_2)\n",
    "print(response_2.status_code) # 200 status code means OK!\n",
    "soup_2 = BeautifulSoup(response_2.content, \"html.parser\")\n",
    "\n",
    "playlists_list_2 = [soup_2.select(\"div.contaienr > div > div > ul > li > a\")[pl][\"href\"].split(\"?\")[0] \n",
    "                    for pl in range(len(soup_2.select(\"div.contaienr > div > div > ul > li > a\")))]\n",
    "playlists_list_2 = [url.split(\"/\")[-1] for url in playlists_list_2][:-1]\n",
    "print(f\"List of {len(playlists_list_2)} playlists has been created!\")"
   ]
  },
  {
   "cell_type": "markdown",
   "id": "36979dc1",
   "metadata": {},
   "source": [
    "### Create complete list of all playlists_lists"
   ]
  },
  {
   "cell_type": "code",
   "execution_count": 14,
   "id": "c0652352",
   "metadata": {
    "scrolled": true
   },
   "outputs": [
    {
     "name": "stdout",
     "output_type": "stream",
     "text": [
      "Total number of playlist IDs is 37\n"
     ]
    }
   ],
   "source": [
    "playlists_list = []\n",
    "playlists_list.extend(playlists_list_1)\n",
    "playlists_list.extend(playlists_list_2)\n",
    "print(f\"Total number of playlist IDs is {len(playlists_list)}\")"
   ]
  },
  {
   "cell_type": "markdown",
   "id": "7a3d883e",
   "metadata": {},
   "source": [
    "### Add additional playlists"
   ]
  },
  {
   "cell_type": "code",
   "execution_count": 15,
   "id": "8512b98d",
   "metadata": {},
   "outputs": [
    {
     "name": "stdout",
     "output_type": "stream",
     "text": [
      "Total number of playlist IDs is 47\n"
     ]
    }
   ],
   "source": [
    "theSoundOfEverything = \"69fEt9DN5r4JQATi52sRtq\"\n",
    "peacefulPiano = \"37i9dQZF1DX4sWSpwq3LiO\"\n",
    "rockSolid = \"37i9dQZF1DX49jUV2NfGku\"\n",
    "rockHard = \"37i9dQZF1DWWJOmJ7nRx0C\"\n",
    "nuMetalEra = \"37i9dQZF1DXcfZ6moR6J0G\"\n",
    "brainFood = \"37i9dQZF1DWXLeA8Omikj7\"\n",
    "danceClassics = \"37i9dQZF1DX8a1tdzq5tbM\"\n",
    "hype = \"37i9dQZF1DX4eRPd9frC1m\"\n",
    "dubstepDon = \"37i9dQZF1DX5Q27plkaOQ3\"\n",
    "thisIsBeethoven = \"37i9dQZF1DX12YIlzNkccL\"\n",
    "playlists_list.append(theSoundOfEverything)\n",
    "playlists_list.append(peacefulPiano)\n",
    "playlists_list.append(rockSolid)\n",
    "playlists_list.append(rockHard)\n",
    "playlists_list.append(nuMetalEra)\n",
    "playlists_list.append(brainFood)\n",
    "playlists_list.append(danceClassics)\n",
    "playlists_list.append(hype)\n",
    "playlists_list.append(dubstepDon) \n",
    "playlists_list.append(thisIsBeethoven) \n",
    "print(f\"Total number of playlist IDs is {len(playlists_list)}\")"
   ]
  },
  {
   "cell_type": "markdown",
   "id": "5b01c683",
   "metadata": {},
   "source": [
    "## Playlist functions"
   ]
  },
  {
   "cell_type": "markdown",
   "id": "8b80dfe6",
   "metadata": {},
   "source": [
    "### Extracting `<TRACKS>`"
   ]
  },
  {
   "cell_type": "code",
   "execution_count": null,
   "id": "6d4aa669",
   "metadata": {},
   "outputs": [],
   "source": [
    "def get_playlist_tracks(username, playlists_list):\n",
    "\n",
    "    tracks_base = []\n",
    "\n",
    "    for playlist in playlists_list:\n",
    "\n",
    "        results = sp.user_playlist_tracks(username,playlist,market=\"DE\")\n",
    "        tracks = results['items']\n",
    "        while results['next']:\n",
    "            results = sp.next(results)\n",
    "            tracks.extend(results['items'])\n",
    "            tracks_base.extend(tracks)\n",
    "    print(f\"{len(tracks_base)} tracks extracted!\")  \n",
    "    #tracks_base = list(filter(None, tracks_base[0]))\n",
    "    return tracks_base\n",
    "\n",
    "playlist=get_playlist_tracks(\"spotify\", playlists_list)"
   ]
  },
  {
   "cell_type": "markdown",
   "id": "bc3ec69e",
   "metadata": {},
   "source": [
    "### Extracting song `<IDs>`"
   ]
  },
  {
   "cell_type": "code",
   "execution_count": 8,
   "id": "368c66c7",
   "metadata": {},
   "outputs": [
    {
     "name": "stdout",
     "output_type": "stream",
     "text": [
      "10609 track IDs have been extracted!\n"
     ]
    }
   ],
   "source": [
    "def get_playlist_track_ids(playlist):\n",
    "    \n",
    "    song_ids_list = []\n",
    "    \n",
    "    for id in range(len(playlist)):\n",
    "        try:\n",
    "            song_ids_list.append(playlist[id][\"track\"][\"id\"])\n",
    "        except:\n",
    "            pass\n",
    "    print(f\"{len(set(song_ids_list))} track IDs have been extracted!\")    \n",
    "    return list(set(song_ids_list))\n",
    "\n",
    "song_ids_list = get_playlist_track_ids(playlist)"
   ]
  },
  {
   "cell_type": "markdown",
   "id": "a736ca95",
   "metadata": {},
   "source": [
    "### Extracting song `<AUDIO FEATURES>`"
   ]
  },
  {
   "cell_type": "code",
   "execution_count": 9,
   "id": "f849bca3",
   "metadata": {},
   "outputs": [],
   "source": [
    "#df_base = pd.DataFrame(columns=['danceability', 'energy', 'key', 'loudness', 'mode', 'speechiness',\n",
    "       #'acousticness', 'instrumentalness', 'liveness', 'valence', 'tempo',\n",
    "       #'type', 'id', 'uri', 'track_href', 'analysis_url', 'duration_ms',\n",
    "       #'time_signature'])"
   ]
  },
  {
   "cell_type": "code",
   "execution_count": null,
   "id": "fe41d8dc",
   "metadata": {},
   "outputs": [],
   "source": [
    "sleep(random.randint(0,3))"
   ]
  },
  {
   "cell_type": "code",
   "execution_count": 9,
   "id": "df4d3168",
   "metadata": {
    "scrolled": true
   },
   "outputs": [
    {
     "name": "stdout",
     "output_type": "stream",
     "text": [
      "Working on 0...\n",
      "Sleeping for None seconds...\n",
      "Sleeping for None seconds...\n",
      "Sleeping for None seconds...\n",
      "Sleeping for None seconds...\n",
      "Sleeping for None seconds...\n",
      "Sleeping for None seconds...\n",
      "Sleeping for None seconds...\n",
      "Sleeping for None seconds...\n",
      "Sleeping for None seconds...\n",
      "Sleeping for None seconds...\n",
      "Sleeping for None seconds...\n",
      "Sleeping for None seconds...\n",
      "Sleeping for None seconds...\n"
     ]
    },
    {
     "ename": "KeyboardInterrupt",
     "evalue": "",
     "output_type": "error",
     "traceback": [
      "\u001b[1;31m---------------------------------------------------------------------------\u001b[0m",
      "\u001b[1;31mKeyboardInterrupt\u001b[0m                         Traceback (most recent call last)",
      "Input \u001b[1;32mIn [9]\u001b[0m, in \u001b[0;36m<cell line: 9>\u001b[1;34m()\u001b[0m\n\u001b[0;32m     12\u001b[0m \u001b[38;5;28;01mif\u001b[39;00m item \u001b[38;5;241m%\u001b[39m \u001b[38;5;241m100\u001b[39m \u001b[38;5;241m==\u001b[39m \u001b[38;5;241m0\u001b[39m:\n\u001b[0;32m     13\u001b[0m     \u001b[38;5;28mprint\u001b[39m(\u001b[38;5;124mf\u001b[39m\u001b[38;5;124m\"\u001b[39m\u001b[38;5;124mWorking on \u001b[39m\u001b[38;5;132;01m{\u001b[39;00mitem\u001b[38;5;132;01m}\u001b[39;00m\u001b[38;5;124m...\u001b[39m\u001b[38;5;124m\"\u001b[39m)\n\u001b[1;32m---> 14\u001b[0m \u001b[38;5;28mprint\u001b[39m(\u001b[38;5;124mf\u001b[39m\u001b[38;5;124m\"\u001b[39m\u001b[38;5;124mSleeping for \u001b[39m\u001b[38;5;132;01m{\u001b[39;00msleep(random\u001b[38;5;241m.\u001b[39mrandint(\u001b[38;5;241m0\u001b[39m,\u001b[38;5;241m3\u001b[39m))\u001b[38;5;132;01m}\u001b[39;00m\u001b[38;5;124m seconds...\u001b[39m\u001b[38;5;124m\"\u001b[39m)\n\u001b[0;32m     15\u001b[0m list_of_audio_features\u001b[38;5;241m.\u001b[39mappend(sp\u001b[38;5;241m.\u001b[39maudio_features(song_ids_list[item])[\u001b[38;5;241m0\u001b[39m])\n\u001b[0;32m     16\u001b[0m list_of_audio_features \u001b[38;5;241m=\u001b[39m \u001b[38;5;28mlist\u001b[39m(\u001b[38;5;28mfilter\u001b[39m(\u001b[38;5;28;01mNone\u001b[39;00m, list_of_audio_features))\n",
      "\u001b[1;31mKeyboardInterrupt\u001b[0m: "
     ]
    }
   ],
   "source": [
    "df_base = pd.DataFrame()\n",
    "\n",
    "lower_bound_iterables = list(range(0, len(song_ids_list), 1000))\n",
    "upper_bound_iterables = list(range(1000, len(song_ids_list), 1000))\n",
    "upper_bound_iterables.append(len(song_ids_list))\n",
    "\n",
    "csv_name_list = [\"Batch\" + str(batch+1) + \".csv\" for batch in range(len(lower_bound_iterables))]\n",
    "\n",
    "for idx in range(len(lower_bound_iterables)):\n",
    "    list_of_audio_features=[]\n",
    "    print(f\"Sleeping for {sleep(random.randint(0,3))} seconds...\")\n",
    "    for item in range(lower_bound_iterables[idx],upper_bound_iterables[idx]):\n",
    "        if item % 100 == 0:\n",
    "            print(f\"Working on {item}...\")\n",
    "        \n",
    "        list_of_audio_features.append(sp.audio_features(song_ids_list[item])[0])\n",
    "        list_of_audio_features = list(filter(None, list_of_audio_features))\n",
    "\n",
    "    df=pd.DataFrame(list_of_audio_features)    \n",
    "    df=df[[\"danceability\",\"energy\",\"loudness\",\"speechiness\",\"acousticness\",\n",
    "        \"instrumentalness\",\"liveness\",\"valence\",\"tempo\",\"id\",\"duration_ms\"]]\n",
    "    df.to_csv(csv_name_list[idx], index=False)\n",
    "    df_base = pd.concat([df_base, df], ignore_index=True)\n",
    "    #df_base.append(df, ignore_index=True)"
   ]
  },
  {
   "cell_type": "code",
   "execution_count": 60,
   "id": "117fe5ee",
   "metadata": {},
   "outputs": [
    {
     "data": {
      "text/html": [
       "<div>\n",
       "<style scoped>\n",
       "    .dataframe tbody tr th:only-of-type {\n",
       "        vertical-align: middle;\n",
       "    }\n",
       "\n",
       "    .dataframe tbody tr th {\n",
       "        vertical-align: top;\n",
       "    }\n",
       "\n",
       "    .dataframe thead th {\n",
       "        text-align: right;\n",
       "    }\n",
       "</style>\n",
       "<table border=\"1\" class=\"dataframe\">\n",
       "  <thead>\n",
       "    <tr style=\"text-align: right;\">\n",
       "      <th></th>\n",
       "      <th>danceability</th>\n",
       "      <th>energy</th>\n",
       "      <th>loudness</th>\n",
       "      <th>speechiness</th>\n",
       "      <th>acousticness</th>\n",
       "      <th>instrumentalness</th>\n",
       "      <th>liveness</th>\n",
       "      <th>valence</th>\n",
       "      <th>tempo</th>\n",
       "      <th>id</th>\n",
       "      <th>duration_ms</th>\n",
       "    </tr>\n",
       "  </thead>\n",
       "  <tbody>\n",
       "    <tr>\n",
       "      <th>0</th>\n",
       "      <td>0.750</td>\n",
       "      <td>0.82100</td>\n",
       "      <td>-6.504</td>\n",
       "      <td>0.0437</td>\n",
       "      <td>0.13600</td>\n",
       "      <td>0.050300</td>\n",
       "      <td>0.3250</td>\n",
       "      <td>0.6540</td>\n",
       "      <td>130.015</td>\n",
       "      <td>3oHOObxpYRdsRwVqizxWNM</td>\n",
       "      <td>159562</td>\n",
       "    </tr>\n",
       "    <tr>\n",
       "      <th>1</th>\n",
       "      <td>0.756</td>\n",
       "      <td>0.96200</td>\n",
       "      <td>-7.526</td>\n",
       "      <td>0.0583</td>\n",
       "      <td>0.06710</td>\n",
       "      <td>0.703000</td>\n",
       "      <td>0.1940</td>\n",
       "      <td>0.7490</td>\n",
       "      <td>136.981</td>\n",
       "      <td>45bfH0GZvUyujIBiKRhXso</td>\n",
       "      <td>358267</td>\n",
       "    </tr>\n",
       "    <tr>\n",
       "      <th>2</th>\n",
       "      <td>0.546</td>\n",
       "      <td>0.87000</td>\n",
       "      <td>-6.795</td>\n",
       "      <td>0.0384</td>\n",
       "      <td>0.00362</td>\n",
       "      <td>0.659000</td>\n",
       "      <td>0.0527</td>\n",
       "      <td>0.0360</td>\n",
       "      <td>129.998</td>\n",
       "      <td>4BG4Smwt9cu1RzAKurrIN6</td>\n",
       "      <td>373167</td>\n",
       "    </tr>\n",
       "    <tr>\n",
       "      <th>3</th>\n",
       "      <td>0.705</td>\n",
       "      <td>0.88000</td>\n",
       "      <td>-8.887</td>\n",
       "      <td>0.0631</td>\n",
       "      <td>0.00481</td>\n",
       "      <td>0.862000</td>\n",
       "      <td>0.0512</td>\n",
       "      <td>0.5810</td>\n",
       "      <td>127.982</td>\n",
       "      <td>3AaGCSpUFAmtB1XGxz5IWk</td>\n",
       "      <td>245208</td>\n",
       "    </tr>\n",
       "    <tr>\n",
       "      <th>4</th>\n",
       "      <td>0.576</td>\n",
       "      <td>0.84800</td>\n",
       "      <td>-5.935</td>\n",
       "      <td>0.0333</td>\n",
       "      <td>0.00161</td>\n",
       "      <td>0.001440</td>\n",
       "      <td>0.1100</td>\n",
       "      <td>0.5320</td>\n",
       "      <td>130.026</td>\n",
       "      <td>2edB8M0PPZCoYKm8ohDaNm</td>\n",
       "      <td>277433</td>\n",
       "    </tr>\n",
       "    <tr>\n",
       "      <th>...</th>\n",
       "      <td>...</td>\n",
       "      <td>...</td>\n",
       "      <td>...</td>\n",
       "      <td>...</td>\n",
       "      <td>...</td>\n",
       "      <td>...</td>\n",
       "      <td>...</td>\n",
       "      <td>...</td>\n",
       "      <td>...</td>\n",
       "      <td>...</td>\n",
       "      <td>...</td>\n",
       "    </tr>\n",
       "    <tr>\n",
       "      <th>2984</th>\n",
       "      <td>0.384</td>\n",
       "      <td>0.00002</td>\n",
       "      <td>-45.272</td>\n",
       "      <td>0.5060</td>\n",
       "      <td>0.96900</td>\n",
       "      <td>0.939000</td>\n",
       "      <td>0.1250</td>\n",
       "      <td>0.0000</td>\n",
       "      <td>129.754</td>\n",
       "      <td>1JppKb6Em7CgtEBcjx0xt4</td>\n",
       "      <td>336246</td>\n",
       "    </tr>\n",
       "    <tr>\n",
       "      <th>2985</th>\n",
       "      <td>0.145</td>\n",
       "      <td>0.25600</td>\n",
       "      <td>-22.702</td>\n",
       "      <td>0.0392</td>\n",
       "      <td>0.95200</td>\n",
       "      <td>0.959000</td>\n",
       "      <td>0.0955</td>\n",
       "      <td>0.0543</td>\n",
       "      <td>138.581</td>\n",
       "      <td>0hX5RmR6yAjuHHC414n28y</td>\n",
       "      <td>865155</td>\n",
       "    </tr>\n",
       "    <tr>\n",
       "      <th>2986</th>\n",
       "      <td>0.603</td>\n",
       "      <td>0.49600</td>\n",
       "      <td>-8.555</td>\n",
       "      <td>0.0271</td>\n",
       "      <td>0.29300</td>\n",
       "      <td>0.000921</td>\n",
       "      <td>0.0705</td>\n",
       "      <td>0.0564</td>\n",
       "      <td>126.985</td>\n",
       "      <td>0tlnLS1RyUOXKCtFI0yF5n</td>\n",
       "      <td>248882</td>\n",
       "    </tr>\n",
       "    <tr>\n",
       "      <th>2987</th>\n",
       "      <td>0.310</td>\n",
       "      <td>0.50900</td>\n",
       "      <td>-10.122</td>\n",
       "      <td>0.0331</td>\n",
       "      <td>0.00137</td>\n",
       "      <td>0.955000</td>\n",
       "      <td>0.0981</td>\n",
       "      <td>0.2230</td>\n",
       "      <td>99.267</td>\n",
       "      <td>1cdb4cAbn3JwK6eRexqSQp</td>\n",
       "      <td>224652</td>\n",
       "    </tr>\n",
       "    <tr>\n",
       "      <th>2988</th>\n",
       "      <td>0.769</td>\n",
       "      <td>0.10400</td>\n",
       "      <td>-36.340</td>\n",
       "      <td>0.9310</td>\n",
       "      <td>0.97000</td>\n",
       "      <td>0.025000</td>\n",
       "      <td>0.5230</td>\n",
       "      <td>0.7860</td>\n",
       "      <td>112.376</td>\n",
       "      <td>3OifJkxye3rP9DFaHbmKFK</td>\n",
       "      <td>540000</td>\n",
       "    </tr>\n",
       "  </tbody>\n",
       "</table>\n",
       "<p>2989 rows × 11 columns</p>\n",
       "</div>"
      ],
      "text/plain": [
       "      danceability   energy  loudness  speechiness  acousticness  \\\n",
       "0            0.750  0.82100    -6.504       0.0437       0.13600   \n",
       "1            0.756  0.96200    -7.526       0.0583       0.06710   \n",
       "2            0.546  0.87000    -6.795       0.0384       0.00362   \n",
       "3            0.705  0.88000    -8.887       0.0631       0.00481   \n",
       "4            0.576  0.84800    -5.935       0.0333       0.00161   \n",
       "...            ...      ...       ...          ...           ...   \n",
       "2984         0.384  0.00002   -45.272       0.5060       0.96900   \n",
       "2985         0.145  0.25600   -22.702       0.0392       0.95200   \n",
       "2986         0.603  0.49600    -8.555       0.0271       0.29300   \n",
       "2987         0.310  0.50900   -10.122       0.0331       0.00137   \n",
       "2988         0.769  0.10400   -36.340       0.9310       0.97000   \n",
       "\n",
       "      instrumentalness  liveness  valence    tempo                      id  \\\n",
       "0             0.050300    0.3250   0.6540  130.015  3oHOObxpYRdsRwVqizxWNM   \n",
       "1             0.703000    0.1940   0.7490  136.981  45bfH0GZvUyujIBiKRhXso   \n",
       "2             0.659000    0.0527   0.0360  129.998  4BG4Smwt9cu1RzAKurrIN6   \n",
       "3             0.862000    0.0512   0.5810  127.982  3AaGCSpUFAmtB1XGxz5IWk   \n",
       "4             0.001440    0.1100   0.5320  130.026  2edB8M0PPZCoYKm8ohDaNm   \n",
       "...                ...       ...      ...      ...                     ...   \n",
       "2984          0.939000    0.1250   0.0000  129.754  1JppKb6Em7CgtEBcjx0xt4   \n",
       "2985          0.959000    0.0955   0.0543  138.581  0hX5RmR6yAjuHHC414n28y   \n",
       "2986          0.000921    0.0705   0.0564  126.985  0tlnLS1RyUOXKCtFI0yF5n   \n",
       "2987          0.955000    0.0981   0.2230   99.267  1cdb4cAbn3JwK6eRexqSQp   \n",
       "2988          0.025000    0.5230   0.7860  112.376  3OifJkxye3rP9DFaHbmKFK   \n",
       "\n",
       "      duration_ms  \n",
       "0          159562  \n",
       "1          358267  \n",
       "2          373167  \n",
       "3          245208  \n",
       "4          277433  \n",
       "...           ...  \n",
       "2984       336246  \n",
       "2985       865155  \n",
       "2986       248882  \n",
       "2987       224652  \n",
       "2988       540000  \n",
       "\n",
       "[2989 rows x 11 columns]"
      ]
     },
     "execution_count": 60,
     "metadata": {},
     "output_type": "execute_result"
    }
   ],
   "source": [
    "df_base"
   ]
  },
  {
   "cell_type": "raw",
   "id": "24ce7465",
   "metadata": {},
   "source": [
    "list_of_audio_features=[]\n",
    "for item in range(0,1000):\n",
    "    if item % 100 == 0:\n",
    "        print(f\"Working on {item}...\")\n",
    "    list_of_audio_features.append(sp.audio_features(song_ids_list[item])[0])\n",
    "    list_of_audio_features = list(filter(None, list_of_audio_features))\n",
    "\n",
    "df_base=pd.DataFrame(list_of_audio_features)    \n",
    "df_base=df_base[[\"danceability\",\"energy\",\"loudness\",\"speechiness\",\"acousticness\",\n",
    "    \"instrumentalness\",\"liveness\",\"valence\",\"tempo\",\"id\",\"duration_ms\"]]\n",
    "#df_base.to_csv(\"Batch1.csv\", index=False)"
   ]
  },
  {
   "cell_type": "raw",
   "id": "6e6e23d8",
   "metadata": {},
   "source": [
    "list_of_audio_features=[]\n",
    "for item in range(1000,2000):\n",
    "    if item % 100 == 0:\n",
    "        print(f\"Working on {item}...\")\n",
    "    list_of_audio_features.append(sp.audio_features(song_ids_list[item])[0])\n",
    "    list_of_audio_features = list(filter(None, list_of_audio_features))\n",
    "\n",
    "df=pd.DataFrame(list_of_audio_features)    \n",
    "df=df[[\"danceability\",\"energy\",\"loudness\",\"speechiness\",\"acousticness\",\n",
    "    \"instrumentalness\",\"liveness\",\"valence\",\"tempo\",\"id\",\"duration_ms\"]]\n",
    "df.to_csv(\"Batch2.csv\", index=False)\n",
    "#df_base.append(df, ignore_index=True)"
   ]
  },
  {
   "cell_type": "raw",
   "id": "d8b04f7d",
   "metadata": {},
   "source": [
    "list_of_audio_features=[]\n",
    "for item in range(2000,3000):\n",
    "    if item % 100 == 0:\n",
    "        print(f\"Working on {item}...\")\n",
    "    list_of_audio_features.append(sp.audio_features(song_ids_list[item])[0])\n",
    "    list_of_audio_features = list(filter(None, list_of_audio_features))\n",
    "\n",
    "df=pd.DataFrame(list_of_audio_features)    \n",
    "df=df[[\"danceability\",\"energy\",\"loudness\",\"speechiness\",\"acousticness\",\n",
    "    \"instrumentalness\",\"liveness\",\"valence\",\"tempo\",\"id\",\"duration_ms\"]]\n",
    "df.to_csv(\"Batch3.csv\", index=False)\n",
    "#df_base.append(df, ignore_index=True)"
   ]
  },
  {
   "cell_type": "raw",
   "id": "eea908be",
   "metadata": {},
   "source": [
    "list_of_audio_features=[]\n",
    "for item in range(3000,4000):\n",
    "    if item % 100 == 0:\n",
    "        print(f\"Working on {item}...\")\n",
    "    list_of_audio_features.append(sp.audio_features(song_ids_list[item])[0])\n",
    "    list_of_audio_features = list(filter(None, list_of_audio_features))\n",
    "\n",
    "df=pd.DataFrame(list_of_audio_features)    \n",
    "df=df[[\"danceability\",\"energy\",\"loudness\",\"speechiness\",\"acousticness\",\n",
    "    \"instrumentalness\",\"liveness\",\"valence\",\"tempo\",\"id\",\"duration_ms\"]]\n",
    "df.to_csv(\"Batch4.csv\", index=False)\n",
    "#df_base.append(df, ignore_index=True)"
   ]
  },
  {
   "cell_type": "raw",
   "id": "c954490a",
   "metadata": {},
   "source": [
    "list_of_audio_features=[]\n",
    "for item in range(4000,5000):\n",
    "    if item % 100 == 0:\n",
    "        print(f\"Working on {item}...\")\n",
    "    list_of_audio_features.append(sp.audio_features(song_ids_list[item])[0])\n",
    "    list_of_audio_features = list(filter(None, list_of_audio_features))\n",
    "\n",
    "df=pd.DataFrame(list_of_audio_features)    \n",
    "df=df[[\"danceability\",\"energy\",\"loudness\",\"speechiness\",\"acousticness\",\n",
    "    \"instrumentalness\",\"liveness\",\"valence\",\"tempo\",\"id\",\"duration_ms\"]]\n",
    "df.to_csv(\"Batch5.csv\", index=False)\n",
    "#df_base.append(df, ignore_index=True)"
   ]
  },
  {
   "cell_type": "raw",
   "id": "68a94b59",
   "metadata": {},
   "source": [
    "list_of_audio_features=[]\n",
    "for item in range(5000,6000):\n",
    "    if item % 100 == 0:\n",
    "        print(f\"Working on {item}...\")\n",
    "    list_of_audio_features.append(sp.audio_features(song_ids_list[item])[0])\n",
    "    list_of_audio_features = list(filter(None, list_of_audio_features))\n",
    "\n",
    "df=pd.DataFrame(list_of_audio_features)    \n",
    "df=df[[\"danceability\",\"energy\",\"loudness\",\"speechiness\",\"acousticness\",\n",
    "    \"instrumentalness\",\"liveness\",\"valence\",\"tempo\",\"id\",\"duration_ms\"]]\n",
    "df.to_csv(\"Batch6.csv\", index=False)\n",
    "#df_base.append(df, ignore_index=True)"
   ]
  },
  {
   "cell_type": "raw",
   "id": "5a2e9a90",
   "metadata": {},
   "source": [
    "list_of_audio_features=[]\n",
    "for item in range(6000,7000):\n",
    "    if item % 100 == 0:\n",
    "        print(f\"Working on {item}...\")\n",
    "    list_of_audio_features.append(sp.audio_features(song_ids_list[item])[0])\n",
    "    list_of_audio_features = list(filter(None, list_of_audio_features))\n",
    "\n",
    "df=pd.DataFrame(list_of_audio_features)    \n",
    "df=df[[\"danceability\",\"energy\",\"loudness\",\"speechiness\",\"acousticness\",\n",
    "    \"instrumentalness\",\"liveness\",\"valence\",\"tempo\",\"id\",\"duration_ms\"]]\n",
    "df.to_csv(\"Batch7.csv\", index=False)\n",
    "#df_base.append(df, ignore_index=True)"
   ]
  },
  {
   "cell_type": "raw",
   "id": "b4a243a6",
   "metadata": {},
   "source": [
    "list_of_audio_features=[]\n",
    "for item in range(7000,8000):\n",
    "    if item % 100 == 0:\n",
    "        print(f\"Working on {item}...\")\n",
    "    list_of_audio_features.append(sp.audio_features(song_ids_list[item])[0])\n",
    "    list_of_audio_features = list(filter(None, list_of_audio_features))\n",
    "\n",
    "df=pd.DataFrame(list_of_audio_features)    \n",
    "df=df[[\"danceability\",\"energy\",\"loudness\",\"speechiness\",\"acousticness\",\n",
    "    \"instrumentalness\",\"liveness\",\"valence\",\"tempo\",\"id\",\"duration_ms\"]]\n",
    "df.to_csv(\"Batch8.csv\", index=False)\n",
    "#df_base.append(df, ignore_index=True)"
   ]
  },
  {
   "cell_type": "raw",
   "id": "c3fb5cd4",
   "metadata": {},
   "source": [
    "list_of_audio_features=[]\n",
    "for item in range(8000,9000):\n",
    "    if item % 100 == 0:\n",
    "        print(f\"Working on {item}...\")\n",
    "    list_of_audio_features.append(sp.audio_features(song_ids_list[item])[0])\n",
    "    list_of_audio_features = list(filter(None, list_of_audio_features))\n",
    "\n",
    "df=pd.DataFrame(list_of_audio_features)    \n",
    "df=df[[\"danceability\",\"energy\",\"loudness\",\"speechiness\",\"acousticness\",\n",
    "    \"instrumentalness\",\"liveness\",\"valence\",\"tempo\",\"id\",\"duration_ms\"]]\n",
    "df.to_csv(\"Batch9.csv\", index=False)\n",
    "#df_base.append(df, ignore_index=True)"
   ]
  },
  {
   "cell_type": "raw",
   "id": "2b349d78",
   "metadata": {},
   "source": [
    "list_of_audio_features=[]\n",
    "for item in range(9000,10000):\n",
    "    if item % 100 == 0:\n",
    "        print(f\"Working on {item}...\")\n",
    "    list_of_audio_features.append(sp.audio_features(song_ids_list[item])[0])\n",
    "    list_of_audio_features = list(filter(None, list_of_audio_features))\n",
    "\n",
    "df=pd.DataFrame(list_of_audio_features)    \n",
    "df=df[[\"danceability\",\"energy\",\"loudness\",\"speechiness\",\"acousticness\",\n",
    "    \"instrumentalness\",\"liveness\",\"valence\",\"tempo\",\"id\",\"duration_ms\"]]\n",
    "df.to_csv(\"Batch10.csv\", index=False)\n",
    "#df_base.append(df, ignore_index=True)"
   ]
  },
  {
   "cell_type": "raw",
   "id": "64faf546",
   "metadata": {},
   "source": [
    "list_of_audio_features=[]\n",
    "for item in range(10000,11000):\n",
    "    if item % 100 == 0:\n",
    "        print(f\"Working on {item}...\")\n",
    "    list_of_audio_features.append(sp.audio_features(song_ids_list[item])[0])\n",
    "    list_of_audio_features = list(filter(None, list_of_audio_features))\n",
    "\n",
    "df=pd.DataFrame(list_of_audio_features)    \n",
    "df=df[[\"danceability\",\"energy\",\"loudness\",\"speechiness\",\"acousticness\",\n",
    "    \"instrumentalness\",\"liveness\",\"valence\",\"tempo\",\"id\",\"duration_ms\"]]\n",
    "df.to_csv(\"Batch11.csv\", index=False)\n",
    "#df_base.append(df, ignore_index=True)"
   ]
  },
  {
   "cell_type": "raw",
   "id": "f6c1ed20",
   "metadata": {},
   "source": [
    "list_of_audio_features=[]\n",
    "for item in range(11000,12000):\n",
    "    if item % 100 == 0:\n",
    "        print(f\"Working on {item}...\")\n",
    "    list_of_audio_features.append(sp.audio_features(song_ids_list[item])[0])\n",
    "    list_of_audio_features = list(filter(None, list_of_audio_features))\n",
    "\n",
    "df=pd.DataFrame(list_of_audio_features)    \n",
    "df=df[[\"danceability\",\"energy\",\"loudness\",\"speechiness\",\"acousticness\",\n",
    "    \"instrumentalness\",\"liveness\",\"valence\",\"tempo\",\"id\",\"duration_ms\"]]\n",
    "df.to_csv(\"Batch12.csv\", index=False)\n",
    "#df_base.append(df, ignore_index=True)"
   ]
  },
  {
   "cell_type": "raw",
   "id": "e0d0ef10",
   "metadata": {},
   "source": [
    "list_of_audio_features=[]\n",
    "for item in range(12000,12093):\n",
    "    if item % 100 == 0:\n",
    "        print(f\"Working on {item}...\")\n",
    "    list_of_audio_features.append(sp.audio_features(song_ids_list[item])[0])\n",
    "    list_of_audio_features = list(filter(None, list_of_audio_features))\n",
    "\n",
    "df=pd.DataFrame(list_of_audio_features)    \n",
    "df=df[[\"danceability\",\"energy\",\"loudness\",\"speechiness\",\"acousticness\",\n",
    "    \"instrumentalness\",\"liveness\",\"valence\",\"tempo\",\"id\",\"duration_ms\"]]\n",
    "df.to_csv(\"Batch13.csv\", index=False)\n",
    "#df_base.append(df, ignore_index=True)"
   ]
  },
  {
   "cell_type": "code",
   "execution_count": null,
   "id": "fc56a045",
   "metadata": {},
   "outputs": [],
   "source": []
  },
  {
   "cell_type": "code",
   "execution_count": null,
   "id": "1cda38a3",
   "metadata": {},
   "outputs": [],
   "source": []
  },
  {
   "cell_type": "raw",
   "id": "e3afbb15",
   "metadata": {},
   "source": [
    "def get_playlist_track_audiofeatures(id_list, df_base):\n",
    "    \n",
    "    lower_bound_iterables = list(range(0, len(song_ids_list), 100))\n",
    "    upper_bound_iterables = list(range(100, len(song_ids_list), 100))\n",
    "    upper_bound_iterables.append(len(song_ids_list))\n",
    "    \n",
    "    for idx in range(len(lower_bound_iterables)):\n",
    "        print(f\"{lower_bound_iterables[idx]} : {upper_bound_iterables[idx]}\")\n",
    "        audio_features_list = []\n",
    "    \n",
    "        for idx in range(lower_bound_iterables[idx], upper_bound_iterables[idx]):\n",
    "            song_audiofeatures = sp.audio_features(id_list[idx])[0]\n",
    "            if song_audiofeatures: # if song_audiofeatures is NOT NoneType, then skip/ignore\n",
    "                audio_features_list.append(song_audiofeatures)\n",
    "                \n",
    "        dict_to_append = dict(audio_features_list)    \n",
    "        df_base = df_base.append(dict_to_append, ignore_index=True)\n",
    "        #df_2 = df_2[[\"id\",\"danceability\",\"energy\",\"loudness\",\"speechiness\",\"acousticness\",\n",
    "                     #\"instrumentalness\",\"liveness\",\"valence\",\"tempo\",\"duration_ms\"]]\n",
    "        #df_base = pd.concat([df_base, df_2], axis=1)\n",
    "        print(f\"New Dataframe Length: {len(df_base)}\")\n",
    "\n",
    "        print(f\"{len(audio_features_list)} track audio features have been extracted!\")  \n",
    "        #return audio_features_list\n",
    "\n",
    "song_audiofeatures_list = get_playlist_track_audiofeatures(song_ids_list, df_base)"
   ]
  },
  {
   "cell_type": "raw",
   "id": "e7e87d7d",
   "metadata": {},
   "source": [
    "sleep(randint(0,2))"
   ]
  },
  {
   "cell_type": "raw",
   "id": "bb23a035",
   "metadata": {},
   "source": [
    "test = (filter(None, song_audiofeatures_list))"
   ]
  },
  {
   "cell_type": "markdown",
   "id": "5971f0a0",
   "metadata": {},
   "source": [
    "### Extracting song `<NAMES>`"
   ]
  },
  {
   "cell_type": "code",
   "execution_count": 7,
   "id": "f701bcb7",
   "metadata": {},
   "outputs": [],
   "source": [
    "def get_playlist_track_names(playlist):\n",
    "    song_names_list = []\n",
    "    for t in range(len(playlist)):\n",
    "        try:\n",
    "            song_names_list.append(playlist[t][\"track\"][\"name\"])\n",
    "        except:\n",
    "            pass\n",
    "    #song_names_list = [playlist[t][\"track\"][\"name\"] for t in range(len(playlist))]\n",
    "    return song_names_list\n",
    "\n",
    "song_names_list = get_playlist_track_names(playlist)"
   ]
  },
  {
   "cell_type": "markdown",
   "id": "1d7f80db",
   "metadata": {},
   "source": [
    "### Extracting song `<ARTISTS>`"
   ]
  },
  {
   "cell_type": "code",
   "execution_count": 8,
   "id": "1ce7aad9",
   "metadata": {},
   "outputs": [],
   "source": [
    "def get_playlist_track_artists(playlist):\n",
    "    song_artist_list = []\n",
    "    for artist in range(len(playlist)):\n",
    "        try:\n",
    "            song_artist_list.append(playlist[artist][\"track\"][\"artists\"][0][\"name\"])\n",
    "        except:\n",
    "            pass\n",
    "    #song_artist_list = [playlist[artist][\"track\"][\"artists\"][0][\"name\"] for artist in range(len(playlist))]\n",
    "    return song_artist_list\n",
    "\n",
    "song_artist_list = get_playlist_track_artists(playlist)"
   ]
  },
  {
   "cell_type": "markdown",
   "id": "59d20c22",
   "metadata": {},
   "source": [
    "## Create dataframe with song `<NAMEs>`, `<ARTISTs>`, `<IDs>`, `<AUDIO FEATUREs>`"
   ]
  },
  {
   "cell_type": "code",
   "execution_count": 15,
   "id": "159ed292",
   "metadata": {
    "scrolled": true
   },
   "outputs": [],
   "source": [
    "def create_df_to_concat_to_base():\n",
    "\n",
    "    df_1 = pd.DataFrame(data={\n",
    "        \"song_name\": song_names_list,\n",
    "        \"song_artist\": song_artist_list,\n",
    "        \"id\": song_ids_list\n",
    "    })\n",
    "\n",
    "    #df_2 = pd.DataFrame(song_audiofeatures_list)    \n",
    "    #df_2 = df_2[[\"id\",\"danceability\",\"energy\",\"loudness\",\"speechiness\",\"acousticness\",\n",
    "               #\"instrumentalness\",\"liveness\",\"valence\",\"tempo\",\"duration_ms\"]]\n",
    "\n",
    "    #df = pd.concat([df_1, df_2], axis=1)\n",
    "    #print(f\"Dataframe with {len(df)} entries was created as `df_to_concat`\")\n",
    "    return df_1\n",
    "\n",
    "df = create_df_to_concat_to_base()"
   ]
  },
  {
   "cell_type": "code",
   "execution_count": 16,
   "id": "aa1e710f",
   "metadata": {},
   "outputs": [],
   "source": [
    "df.to_csv(\"Song_Infos.csv\", index=False)"
   ]
  },
  {
   "cell_type": "markdown",
   "id": "a972def5",
   "metadata": {},
   "source": [
    "## Extend csv with dataframe to concat"
   ]
  },
  {
   "cell_type": "code",
   "execution_count": 12,
   "id": "6727ebd7",
   "metadata": {},
   "outputs": [],
   "source": [
    "def extend_collection():\n",
    "    \n",
    "    df_base = pd.read_csv(\"Song_Collection_Extended.csv\")\n",
    "    df_extended = pd.concat([df_base, df], axis=0, ignore_index=True)\n",
    "    df_extended.to_csv(\"Song_Collection_Extended.csv\", index=False)\n",
    "    print(f\"Extended base dataframe (length = {len(df_base)}) by {len(df)} songs!\")\n",
    "    return df_extended\n",
    "\n",
    "#df_extended = extend_collection()"
   ]
  },
  {
   "cell_type": "markdown",
   "id": "cfca09b3",
   "metadata": {},
   "source": [
    "### Create very first dataframe to build upon"
   ]
  },
  {
   "cell_type": "code",
   "execution_count": 13,
   "id": "fb432dfb",
   "metadata": {},
   "outputs": [],
   "source": [
    "def create_base_dataframe():\n",
    "\n",
    "    df_1 = pd.DataFrame(data={\n",
    "        \"song_name\": song_names_list,\n",
    "        \"song_artist\": song_artist_list,\n",
    "    })\n",
    "\n",
    "    df_2 = pd.DataFrame(song_audiofeatures_list)    \n",
    "    df_2 = df_2[[\"id\",\"danceability\",\"energy\",\"loudness\",\"speechiness\",\"acousticness\",\n",
    "               \"instrumentalness\",\"liveness\",\"valence\",\"tempo\",\"duration_ms\"]]\n",
    "\n",
    "    df = pd.concat([df_1, df_2], axis=1)\n",
    "    df.to_csv(\"Song_Collection_Extended.csv\", index=False)\n",
    "    print(f\"Dataframe with {len(df)} entries was created\")\n",
    "    return df"
   ]
  },
  {
   "cell_type": "raw",
   "id": "87a20bc7",
   "metadata": {},
   "source": [
    "playlist=get_playlist_tracks(\"dimoqxn\", \"4wNlX4GrLXSgnuGZpI5xVa\")\n",
    "song_ids_list = get_playlist_track_ids(playlist)\n",
    "song_names_list = get_playlist_track_names(playlist)\n",
    "song_artist_list = get_playlist_track_artists(playlist)\n",
    "song_audiofeatures_list = get_playlist_track_audiofeatures(song_ids_list)\n",
    "df = create_df_to_concat_to_base()\n",
    "df_extended = extend_collection()"
   ]
  },
  {
   "cell_type": "markdown",
   "id": "7811d47e",
   "metadata": {},
   "source": [
    "## PIPELINE - Looping through list of playlists"
   ]
  },
  {
   "cell_type": "raw",
   "id": "31380956",
   "metadata": {},
   "source": [
    "playlists_list = [\"61hfbFZxRLYNWmqkfBSQw1\", \"4wNlX4GrLXSgnuGZpI5xVa\"]"
   ]
  },
  {
   "cell_type": "raw",
   "id": "84f4d9bb",
   "metadata": {
    "scrolled": true
   },
   "source": [
    "for idx, plist in enumerate(playlists_list):\n",
    "    try:\n",
    "        playlist=get_playlist_tracks(\"spotify\", plist)\n",
    "        song_ids_list = get_playlist_track_ids(playlist)\n",
    "        song_names_list = get_playlist_track_names(playlist)\n",
    "        song_artist_list = get_playlist_track_artists(playlist)\n",
    "        song_audiofeatures_list = get_playlist_track_audiofeatures(song_ids_list)\n",
    "        df = create_df_to_concat_to_base()\n",
    "        df_extended = extend_collection()\n",
    "    except:\n",
    "        pass"
   ]
  },
  {
   "cell_type": "code",
   "execution_count": null,
   "id": "98934d79",
   "metadata": {},
   "outputs": [],
   "source": []
  }
 ],
 "metadata": {
  "kernelspec": {
   "display_name": "Python 3 (ipykernel)",
   "language": "python",
   "name": "python3"
  },
  "language_info": {
   "codemirror_mode": {
    "name": "ipython",
    "version": 3
   },
   "file_extension": ".py",
   "mimetype": "text/x-python",
   "name": "python",
   "nbconvert_exporter": "python",
   "pygments_lexer": "ipython3",
   "version": "3.9.12"
  },
  "toc": {
   "base_numbering": 1,
   "nav_menu": {},
   "number_sections": true,
   "sideBar": true,
   "skip_h1_title": false,
   "title_cell": "Table of Contents",
   "title_sidebar": "Contents",
   "toc_cell": false,
   "toc_position": {},
   "toc_section_display": true,
   "toc_window_display": true
  },
  "varInspector": {
   "cols": {
    "lenName": 16,
    "lenType": 16,
    "lenVar": 40
   },
   "kernels_config": {
    "python": {
     "delete_cmd_postfix": "",
     "delete_cmd_prefix": "del ",
     "library": "var_list.py",
     "varRefreshCmd": "print(var_dic_list())"
    },
    "r": {
     "delete_cmd_postfix": ") ",
     "delete_cmd_prefix": "rm(",
     "library": "var_list.r",
     "varRefreshCmd": "cat(var_dic_list()) "
    }
   },
   "types_to_exclude": [
    "module",
    "function",
    "builtin_function_or_method",
    "instance",
    "_Feature"
   ],
   "window_display": false
  }
 },
 "nbformat": 4,
 "nbformat_minor": 5
}
