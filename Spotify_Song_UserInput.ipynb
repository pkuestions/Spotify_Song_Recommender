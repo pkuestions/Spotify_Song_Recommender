{
 "cells": [
  {
   "cell_type": "markdown",
   "id": "0a8fe2e9",
   "metadata": {},
   "source": [
    "# TO DOs"
   ]
  },
  {
   "cell_type": "markdown",
   "id": "9b39a767",
   "metadata": {},
   "source": [
    "1) load the pandas data frame songs of the audio features (minimum 500 songs as diverse as possible))✅ <br> \n",
    "2) standardise the data using standardscaler (using fit and then transform)✅ <br>\n",
    "3) save the scaler for future use for the new user input song. save it using pickle✅ <br>\n",
    "4) choosing the number of clusters k.✅ <br>\n",
    "5) fitting k means cluster.✅ <br>\n",
    "6) build the elbow graph to find the best k.✅ <br>\n",
    "7) use the model with the best k to assign every observation in your data frame to its cluster number ( adding cluster columns to the pandas data frame) using model.predict ✅ <br>\n",
    "8) save the model with the best k as your final model using pickle. ✅ <br>\n",
    "\n",
    "**For the user input tasks and the full scenario:**\n",
    "1) get the song name from the user as an input ✅ <br>\n",
    "2) play the input song in music embed player. ✅ <br>\n",
    "3a) get the audio features for that song from spotify API. using sp.audio_features(trackid) ✅ <br>\n",
    "3b) pay attention to keep only the audio features columns. ✅<br>\n",
    "4) load the standardscaler using pickle and use it to scale the new song. (scaler.transform) ✅<br>\n",
    "5) using mode.predict(new scaled audio record for the new song) to predict the cluster (label) for the new song. ✅ <br>\n",
    "6) return random song from the same cluster that the new song belongs to from your data frame and suggest it to the user. ✅<br>\n",
    "7) play it using embedded music player. (edited) (bearbeitet) ✅"
   ]
  },
  {
   "cell_type": "markdown",
   "id": "577d397c",
   "metadata": {},
   "source": [
    "- CHECK TOP 100"
   ]
  },
  {
   "cell_type": "markdown",
   "id": "ab49e938",
   "metadata": {},
   "source": [
    "# Import Packages"
   ]
  },
  {
   "cell_type": "code",
   "execution_count": 1,
   "id": "2d86850c",
   "metadata": {},
   "outputs": [],
   "source": [
    "import requests\n",
    "import spotipy\n",
    "from spotipy.oauth2 import SpotifyClientCredentials\n",
    "import config\n",
    "import json\n",
    "from bs4 import BeautifulSoup\n",
    "\n",
    "import pprint\n",
    "import random\n",
    "from time import sleep\n",
    "import pickle\n",
    "from IPython.display import IFrame\n",
    "import numpy as np\n",
    "import pandas as pd\n",
    "import seaborn as sns\n",
    "import matplotlib.pyplot as plt\n",
    "from sklearn.preprocessing import StandardScaler\n",
    "from sklearn.cluster import KMeans\n",
    "from sklearn.metrics import silhouette_score\n",
    "\n",
    "import difflib\n",
    "import warnings\n",
    "warnings.filterwarnings('ignore')"
   ]
  },
  {
   "cell_type": "markdown",
   "id": "9fb13faa",
   "metadata": {},
   "source": [
    "## Authenticate Spotipy"
   ]
  },
  {
   "cell_type": "code",
   "execution_count": 39,
   "id": "473a9715",
   "metadata": {},
   "outputs": [],
   "source": [
    "sp = spotipy.Spotify(auth_manager=SpotifyClientCredentials(client_id= config.client_id,\n",
    "                                                           client_secret= config.client_secret))"
   ]
  },
  {
   "cell_type": "markdown",
   "id": "1b4ecb36",
   "metadata": {},
   "source": [
    "# Load Model & Scaler"
   ]
  },
  {
   "cell_type": "code",
   "execution_count": 3,
   "id": "8513a894",
   "metadata": {},
   "outputs": [],
   "source": [
    "def load(filename = \"filename.pickle\"): \n",
    "    try: \n",
    "        with open(filename, \"rb\") as f: \n",
    "            return pickle.load(f) \n",
    "        \n",
    "    except FileNotFoundError: \n",
    "        print(\"File not found!\") "
   ]
  },
  {
   "cell_type": "raw",
   "id": "721fd615",
   "metadata": {},
   "source": [
    "# WEBSCRAPINGPLAYLIST APPROACH\n",
    "# K = 9\n",
    "scaler2 = load(r\"C:\\Users\\p.kollhof\\Documents\\IRONHACK_GitHub\\Spotify_Song_Recommender\\Model_WebscrapingPlaylistApproach\\scaler.pickle\")\n",
    "kmeans2 = load(r\"C:\\Users\\p.kollhof\\Documents\\IRONHACK_GitHub\\Spotify_Song_Recommender\\Model_WebscrapingPlaylistApproach\\kmeans_9.pickle\")"
   ]
  },
  {
   "cell_type": "raw",
   "id": "58e853a1",
   "metadata": {},
   "source": [
    "# DIVERSIFIEDPLAYLIST APPROACH\n",
    "# K = 4 to 19\n",
    "scaler = load(r\"C:\\Users\\p.kollhof\\Documents\\IRONHACK_GitHub\\Spotify_Song_Recommender\\Model_DiversifiedPlaylistApproach\\scaler_DiversifiedPlaylistApproach.pickle\")\n",
    "kmeans_4 = load(r\"C:\\Users\\p.kollhof\\Documents\\IRONHACK_GitHub\\Spotify_Song_Recommender\\Model_DiversifiedPlaylistApproach\\kmeans_4.pickle\")\n",
    "kmeans_5 = load(r\"C:\\Users\\p.kollhof\\Documents\\IRONHACK_GitHub\\Spotify_Song_Recommender\\Model_DiversifiedPlaylistApproach\\kmeans_5.pickle\")\n",
    "kmeans_6 = load(r\"C:\\Users\\p.kollhof\\Documents\\IRONHACK_GitHub\\Spotify_Song_Recommender\\Model_DiversifiedPlaylistApproach\\kmeans_6.pickle\")\n",
    "kmeans_7 = load(r\"C:\\Users\\p.kollhof\\Documents\\IRONHACK_GitHub\\Spotify_Song_Recommender\\Model_DiversifiedPlaylistApproach\\kmeans_7.pickle\")\n",
    "kmeans_8 = load(r\"C:\\Users\\p.kollhof\\Documents\\IRONHACK_GitHub\\Spotify_Song_Recommender\\Model_DiversifiedPlaylistApproach\\kmeans_8.pickle\")\n",
    "kmeans_9 = load(r\"C:\\Users\\p.kollhof\\Documents\\IRONHACK_GitHub\\Spotify_Song_Recommender\\Model_DiversifiedPlaylistApproach\\kmeans_9.pickle\")\n",
    "kmeans_10 = load(r\"C:\\Users\\p.kollhof\\Documents\\IRONHACK_GitHub\\Spotify_Song_Recommender\\Model_DiversifiedPlaylistApproach\\kmeans_10.pickle\")\n",
    "kmeans_11 = load(r\"C:\\Users\\p.kollhof\\Documents\\IRONHACK_GitHub\\Spotify_Song_Recommender\\Model_DiversifiedPlaylistApproach\\kmeans_11.pickle\")\n",
    "kmeans_12 = load(r\"C:\\Users\\p.kollhof\\Documents\\IRONHACK_GitHub\\Spotify_Song_Recommender\\Model_DiversifiedPlaylistApproach\\kmeans_12.pickle\")\n",
    "kmeans_13 = load(r\"C:\\Users\\p.kollhof\\Documents\\IRONHACK_GitHub\\Spotify_Song_Recommender\\Model_DiversifiedPlaylistApproach\\kmeans_13.pickle\")\n",
    "kmeans_14 = load(r\"C:\\Users\\p.kollhof\\Documents\\IRONHACK_GitHub\\Spotify_Song_Recommender\\Model_DiversifiedPlaylistApproach\\kmeans_14.pickle\")\n",
    "kmeans_15 = load(r\"C:\\Users\\p.kollhof\\Documents\\IRONHACK_GitHub\\Spotify_Song_Recommender\\Model_DiversifiedPlaylistApproach\\kmeans_15.pickle\")\n",
    "kmeans_16 = load(r\"C:\\Users\\p.kollhof\\Documents\\IRONHACK_GitHub\\Spotify_Song_Recommender\\Model_DiversifiedPlaylistApproach\\kmeans_16.pickle\")\n",
    "kmeans_17 = load(r\"C:\\Users\\p.kollhof\\Documents\\IRONHACK_GitHub\\Spotify_Song_Recommender\\Model_DiversifiedPlaylistApproach\\kmeans_17.pickle\")\n",
    "kmeans_18 = load(r\"C:\\Users\\p.kollhof\\Documents\\IRONHACK_GitHub\\Spotify_Song_Recommender\\Model_DiversifiedPlaylistApproach\\kmeans_18.pickle\")\n",
    "kmeans_19 = load(r\"C:\\Users\\p.kollhof\\Documents\\IRONHACK_GitHub\\Spotify_Song_Recommender\\Model_DiversifiedPlaylistApproach\\kmeans_19.pickle\")\n"
   ]
  },
  {
   "cell_type": "raw",
   "id": "39513975",
   "metadata": {},
   "source": [
    "# DIVERSIFIEDPLAYLIST APPROACH - NO ACCOUSTICNESS\n",
    "# K = 4 to 19\n",
    "scaler = load(r\"C:\\Users\\p.kollhof\\Documents\\IRONHACK_GitHub\\Spotify_Song_Recommender\\Model_DiversifiedPlaylistApproach_no_accousticness\\scaler_no_accousticness.pickle\")\n",
    "kmeans_4 = load(r\"C:\\Users\\p.kollhof\\Documents\\IRONHACK_GitHub\\Spotify_Song_Recommender\\Model_DiversifiedPlaylistApproach_no_accousticness\\kmeans_4.pickle\")\n",
    "kmeans_5 = load(r\"C:\\Users\\p.kollhof\\Documents\\IRONHACK_GitHub\\Spotify_Song_Recommender\\Model_DiversifiedPlaylistApproach_no_accousticness\\kmeans_5.pickle\")\n",
    "kmeans_6 = load(r\"C:\\Users\\p.kollhof\\Documents\\IRONHACK_GitHub\\Spotify_Song_Recommender\\Model_DiversifiedPlaylistApproach_no_accousticness\\kmeans_6.pickle\")\n",
    "kmeans_7 = load(r\"C:\\Users\\p.kollhof\\Documents\\IRONHACK_GitHub\\Spotify_Song_Recommender\\Model_DiversifiedPlaylistApproach_no_accousticness\\kmeans_7.pickle\")\n",
    "kmeans_8 = load(r\"C:\\Users\\p.kollhof\\Documents\\IRONHACK_GitHub\\Spotify_Song_Recommender\\Model_DiversifiedPlaylistApproach_no_accousticness\\kmeans_8.pickle\")\n",
    "kmeans_9 = load(r\"C:\\Users\\p.kollhof\\Documents\\IRONHACK_GitHub\\Spotify_Song_Recommender\\Model_DiversifiedPlaylistApproach_no_accousticness\\kmeans_9.pickle\")\n",
    "kmeans_10 = load(r\"C:\\Users\\p.kollhof\\Documents\\IRONHACK_GitHub\\Spotify_Song_Recommender\\Model_DiversifiedPlaylistApproach_no_accousticness\\kmeans_10.pickle\")\n",
    "kmeans_11 = load(r\"C:\\Users\\p.kollhof\\Documents\\IRONHACK_GitHub\\Spotify_Song_Recommender\\Model_DiversifiedPlaylistApproach_no_accousticness\\kmeans_11.pickle\")\n",
    "kmeans_12 = load(r\"C:\\Users\\p.kollhof\\Documents\\IRONHACK_GitHub\\Spotify_Song_Recommender\\Model_DiversifiedPlaylistApproach_no_accousticness\\kmeans_12.pickle\")\n",
    "kmeans_13 = load(r\"C:\\Users\\p.kollhof\\Documents\\IRONHACK_GitHub\\Spotify_Song_Recommender\\Model_DiversifiedPlaylistApproach_no_accousticness\\kmeans_13.pickle\")\n",
    "kmeans_14 = load(r\"C:\\Users\\p.kollhof\\Documents\\IRONHACK_GitHub\\Spotify_Song_Recommender\\Model_DiversifiedPlaylistApproach_no_accousticness\\kmeans_14.pickle\")\n",
    "kmeans_15 = load(r\"C:\\Users\\p.kollhof\\Documents\\IRONHACK_GitHub\\Spotify_Song_Recommender\\Model_DiversifiedPlaylistApproach_no_accousticness\\kmeans_15.pickle\")\n",
    "kmeans_16 = load(r\"C:\\Users\\p.kollhof\\Documents\\IRONHACK_GitHub\\Spotify_Song_Recommender\\Model_DiversifiedPlaylistApproach_no_accousticness\\kmeans_16.pickle\")\n",
    "kmeans_17 = load(r\"C:\\Users\\p.kollhof\\Documents\\IRONHACK_GitHub\\Spotify_Song_Recommender\\Model_DiversifiedPlaylistApproach_no_accousticness\\kmeans_17.pickle\")\n",
    "kmeans_18 = load(r\"C:\\Users\\p.kollhof\\Documents\\IRONHACK_GitHub\\Spotify_Song_Recommender\\Model_DiversifiedPlaylistApproach_no_accousticness\\kmeans_18.pickle\")\n",
    "kmeans_19 = load(r\"C:\\Users\\p.kollhof\\Documents\\IRONHACK_GitHub\\Spotify_Song_Recommender\\Model_DiversifiedPlaylistApproach_no_accousticness\\kmeans_19.pickle\")\n"
   ]
  },
  {
   "cell_type": "raw",
   "id": "eb7d705e",
   "metadata": {},
   "source": [
    "# DIVERSIFIEDPLAYLIST APPROACH - NO ACCOUSTICNESS NO INSTRUMENTALNESS\n",
    "# K = 4 to 19\n",
    "scaler = load(r\"C:\\Users\\p.kollhof\\Documents\\IRONHACK_GitHub\\Spotify_Song_Recommender\\Model_DiversifiedPlaylistApproach_no_accousticness_no_instrumentalness\\scaler_no_accousticness_no_instrumentalness.pickle\")\n",
    "kmeans_4 = load(r\"C:\\Users\\p.kollhof\\Documents\\IRONHACK_GitHub\\Spotify_Song_Recommender\\Model_DiversifiedPlaylistApproach_no_accousticness_no_instrumentalness\\kmeans_4.pickle\")\n",
    "kmeans_5 = load(r\"C:\\Users\\p.kollhof\\Documents\\IRONHACK_GitHub\\Spotify_Song_Recommender\\Model_DiversifiedPlaylistApproach_no_accousticness_no_instrumentalness\\kmeans_5.pickle\")\n",
    "kmeans_6 = load(r\"C:\\Users\\p.kollhof\\Documents\\IRONHACK_GitHub\\Spotify_Song_Recommender\\Model_DiversifiedPlaylistApproach_no_accousticness_no_instrumentalness\\kmeans_6.pickle\")\n",
    "kmeans_7 = load(r\"C:\\Users\\p.kollhof\\Documents\\IRONHACK_GitHub\\Spotify_Song_Recommender\\Model_DiversifiedPlaylistApproach_no_accousticness_no_instrumentalness\\kmeans_7.pickle\")\n",
    "kmeans_8 = load(r\"C:\\Users\\p.kollhof\\Documents\\IRONHACK_GitHub\\Spotify_Song_Recommender\\Model_DiversifiedPlaylistApproach_no_accousticness_no_instrumentalness\\kmeans_8.pickle\")\n",
    "kmeans_9 = load(r\"C:\\Users\\p.kollhof\\Documents\\IRONHACK_GitHub\\Spotify_Song_Recommender\\Model_DiversifiedPlaylistApproach_no_accousticness_no_instrumentalness\\kmeans_9.pickle\")\n",
    "kmeans_10 = load(r\"C:\\Users\\p.kollhof\\Documents\\IRONHACK_GitHub\\Spotify_Song_Recommender\\Model_DiversifiedPlaylistApproach_no_accousticness_no_instrumentalness\\kmeans_10.pickle\")\n",
    "kmeans_11 = load(r\"C:\\Users\\p.kollhof\\Documents\\IRONHACK_GitHub\\Spotify_Song_Recommender\\Model_DiversifiedPlaylistApproach_no_accousticness_no_instrumentalness\\kmeans_11.pickle\")\n",
    "kmeans_12 = load(r\"C:\\Users\\p.kollhof\\Documents\\IRONHACK_GitHub\\Spotify_Song_Recommender\\Model_DiversifiedPlaylistApproach_no_accousticness_no_instrumentalness\\kmeans_12.pickle\")\n",
    "kmeans_13 = load(r\"C:\\Users\\p.kollhof\\Documents\\IRONHACK_GitHub\\Spotify_Song_Recommender\\Model_DiversifiedPlaylistApproach_no_accousticness_no_instrumentalness\\kmeans_13.pickle\")\n",
    "kmeans_14 = load(r\"C:\\Users\\p.kollhof\\Documents\\IRONHACK_GitHub\\Spotify_Song_Recommender\\Model_DiversifiedPlaylistApproach_no_accousticness_no_instrumentalness\\kmeans_14.pickle\")\n",
    "kmeans_15 = load(r\"C:\\Users\\p.kollhof\\Documents\\IRONHACK_GitHub\\Spotify_Song_Recommender\\Model_DiversifiedPlaylistApproach_no_accousticness_no_instrumentalness\\kmeans_15.pickle\")\n",
    "kmeans_16 = load(r\"C:\\Users\\p.kollhof\\Documents\\IRONHACK_GitHub\\Spotify_Song_Recommender\\Model_DiversifiedPlaylistApproach_no_accousticness_no_instrumentalness\\kmeans_16.pickle\")\n",
    "kmeans_17 = load(r\"C:\\Users\\p.kollhof\\Documents\\IRONHACK_GitHub\\Spotify_Song_Recommender\\Model_DiversifiedPlaylistApproach_no_accousticness_no_instrumentalness\\kmeans_17.pickle\")\n",
    "kmeans_18 = load(r\"C:\\Users\\p.kollhof\\Documents\\IRONHACK_GitHub\\Spotify_Song_Recommender\\Model_DiversifiedPlaylistApproach_no_accousticness_no_instrumentalness\\kmeans_18.pickle\")\n",
    "kmeans_19 = load(r\"C:\\Users\\p.kollhof\\Documents\\IRONHACK_GitHub\\Spotify_Song_Recommender\\Model_DiversifiedPlaylistApproach_no_accousticness_no_instrumentalness\\kmeans_19.pickle\")\n"
   ]
  },
  {
   "cell_type": "code",
   "execution_count": 42,
   "id": "21875d2a",
   "metadata": {},
   "outputs": [],
   "source": [
    "# DIVERSIFIEDPLAYLIST APPROACH - NO ACCOUSTICNESS NO SPEECHINESS\n",
    "# K = 4 to 19\n",
    "scaler = load(r\"C:\\Users\\p.kollhof\\Documents\\IRONHACK_GitHub\\Spotify_Song_Recommender\\Model_DiversifiedPlaylistApproach_no_accousticness_no_speechiness\\scaler_no_accousticness_no_speechiness.pickle\")\n",
    "kmeans_4 = load(r\"C:\\Users\\p.kollhof\\Documents\\IRONHACK_GitHub\\Spotify_Song_Recommender\\Model_DiversifiedPlaylistApproach_no_accousticness_no_speechiness\\kmeans_4.pickle\")\n",
    "kmeans_5 = load(r\"C:\\Users\\p.kollhof\\Documents\\IRONHACK_GitHub\\Spotify_Song_Recommender\\Model_DiversifiedPlaylistApproach_no_accousticness_no_speechiness\\kmeans_5.pickle\")\n",
    "kmeans_6 = load(r\"C:\\Users\\p.kollhof\\Documents\\IRONHACK_GitHub\\Spotify_Song_Recommender\\Model_DiversifiedPlaylistApproach_no_accousticness_no_speechiness\\kmeans_6.pickle\")\n",
    "kmeans_7 = load(r\"C:\\Users\\p.kollhof\\Documents\\IRONHACK_GitHub\\Spotify_Song_Recommender\\Model_DiversifiedPlaylistApproach_no_accousticness_no_speechiness\\kmeans_7.pickle\")\n",
    "kmeans_8 = load(r\"C:\\Users\\p.kollhof\\Documents\\IRONHACK_GitHub\\Spotify_Song_Recommender\\Model_DiversifiedPlaylistApproach_no_accousticness_no_speechiness\\kmeans_8.pickle\")\n",
    "kmeans_9 = load(r\"C:\\Users\\p.kollhof\\Documents\\IRONHACK_GitHub\\Spotify_Song_Recommender\\Model_DiversifiedPlaylistApproach_no_accousticness_no_speechiness\\kmeans_9.pickle\")\n",
    "kmeans_10 = load(r\"C:\\Users\\p.kollhof\\Documents\\IRONHACK_GitHub\\Spotify_Song_Recommender\\Model_DiversifiedPlaylistApproach_no_accousticness_no_speechiness\\kmeans_10.pickle\")\n",
    "kmeans_11 = load(r\"C:\\Users\\p.kollhof\\Documents\\IRONHACK_GitHub\\Spotify_Song_Recommender\\Model_DiversifiedPlaylistApproach_no_accousticness_no_speechiness\\kmeans_11.pickle\")\n",
    "kmeans_12 = load(r\"C:\\Users\\p.kollhof\\Documents\\IRONHACK_GitHub\\Spotify_Song_Recommender\\Model_DiversifiedPlaylistApproach_no_accousticness_no_speechiness\\kmeans_12.pickle\")\n",
    "kmeans_13 = load(r\"C:\\Users\\p.kollhof\\Documents\\IRONHACK_GitHub\\Spotify_Song_Recommender\\Model_DiversifiedPlaylistApproach_no_accousticness_no_speechiness\\kmeans_13.pickle\")\n",
    "kmeans_14 = load(r\"C:\\Users\\p.kollhof\\Documents\\IRONHACK_GitHub\\Spotify_Song_Recommender\\Model_DiversifiedPlaylistApproach_no_accousticness_no_speechiness\\kmeans_14.pickle\")\n",
    "kmeans_15 = load(r\"C:\\Users\\p.kollhof\\Documents\\IRONHACK_GitHub\\Spotify_Song_Recommender\\Model_DiversifiedPlaylistApproach_no_accousticness_no_speechiness\\kmeans_15.pickle\")\n",
    "kmeans_16 = load(r\"C:\\Users\\p.kollhof\\Documents\\IRONHACK_GitHub\\Spotify_Song_Recommender\\Model_DiversifiedPlaylistApproach_no_accousticness_no_speechiness\\kmeans_16.pickle\")\n",
    "kmeans_17 = load(r\"C:\\Users\\p.kollhof\\Documents\\IRONHACK_GitHub\\Spotify_Song_Recommender\\Model_DiversifiedPlaylistApproach_no_accousticness_no_speechiness\\kmeans_17.pickle\")\n",
    "kmeans_18 = load(r\"C:\\Users\\p.kollhof\\Documents\\IRONHACK_GitHub\\Spotify_Song_Recommender\\Model_DiversifiedPlaylistApproach_no_accousticness_no_speechiness\\kmeans_18.pickle\")\n",
    "kmeans_19 = load(r\"C:\\Users\\p.kollhof\\Documents\\IRONHACK_GitHub\\Spotify_Song_Recommender\\Model_DiversifiedPlaylistApproach_no_accousticness_no_speechiness\\kmeans_19.pickle\")\n"
   ]
  },
  {
   "cell_type": "markdown",
   "id": "a22586e7",
   "metadata": {},
   "source": [
    "# I/O - User Input"
   ]
  },
  {
   "cell_type": "code",
   "execution_count": 5,
   "id": "b76d3dac",
   "metadata": {},
   "outputs": [],
   "source": [
    "def play_song(track_id):\n",
    "    display(IFrame(src=\"https://open.spotify.com/embed/track/\"+track_id,\n",
    "       width=\"320\",\n",
    "       height=\"80\",\n",
    "       frameborder=\"0\",\n",
    "       allowtransparency=\"true\",\n",
    "       allow=\"encrypted-media\",))"
   ]
  },
  {
   "cell_type": "code",
   "execution_count": 17,
   "id": "0304ac0b",
   "metadata": {},
   "outputs": [],
   "source": [
    "def load_song_collection():\n",
    "    df_song_collection = pd.read_csv(r\"C:\\Users\\p.kollhof\\Documents\\IRONHACK_GitHub\\Spotify_Song_Recommender\\Model_DiversifiedPlaylistApproach\\11137_Song_Collection_CLUSTERED.csv\")\n",
    "    return df_song_collection, df_song_collection[['danceability', 'energy', 'loudness', 'liveness', 'valence', \n",
    "                                                 'tempo', 'speechiness', 'acousticness', 'instrumentalness']]\n",
    "\n",
    "df_song_collection_full, df_song_collection = load_song_collection()"
   ]
  },
  {
   "cell_type": "code",
   "execution_count": 7,
   "id": "df998a9a",
   "metadata": {},
   "outputs": [],
   "source": [
    "def load_scaler():\n",
    "    # STANDARD, ALL FEATURES\n",
    "    scaler = load(r\"C:\\Users\\p.kollhof\\Documents\\IRONHACK_GitHub\\Spotify_Song_Recommender\\Model_DiversifiedPlaylistApproach\\scaler_DiversifiedPlaylistApproach.pickle\")\n",
    "    \n",
    "    # NO ACOUSTIC, NO SPEECHINESS\n",
    "    #scaler = load(r\"C:\\Users\\p.kollhof\\Documents\\IRONHACK_GitHub\\Spotify_Song_Recommender\\Model_DiversifiedPlaylistApproach_no_accousticness_no_speechiness\\scaler_no_accousticness_no_speechiness.pickle\")\n",
    "    return scaler"
   ]
  },
  {
   "cell_type": "code",
   "execution_count": 30,
   "id": "527f65c6",
   "metadata": {},
   "outputs": [],
   "source": [
    "def get_scaler_kmeans():\n",
    "\n",
    "    df_song_collection = load_song_collection()[1]\n",
    "\n",
    "    scaler = StandardScaler()\n",
    "    scaler.fit(df_song_collection)\n",
    "    \n",
    "    X_scaled = scaler.transform(df_song_collection)\n",
    "    X_scaled_df = pd.DataFrame(X_scaled, columns = df_song_collection.columns)\n",
    "    kmeans = KMeans(n_clusters = 8, random_state = 1234)\n",
    "    kmeans.fit(X_scaled_df)\n",
    "    clusters = kmeans.predict(X_scaled_df)\n",
    "    \n",
    "    return scaler, kmeans, clusters"
   ]
  },
  {
   "cell_type": "markdown",
   "id": "272a7fb2",
   "metadata": {},
   "source": [
    "## Prompt User Song Input, "
   ]
  },
  {
   "cell_type": "code",
   "execution_count": 8,
   "id": "789c426c",
   "metadata": {},
   "outputs": [],
   "source": [
    "def get_user_song_input():\n",
    "    user_song_input = input(\"Pick any song: \")\n",
    "    return user_song_input"
   ]
  },
  {
   "cell_type": "markdown",
   "id": "1294f0ec",
   "metadata": {},
   "source": [
    "## Check User Song Top 100"
   ]
  },
  {
   "cell_type": "raw",
   "id": "cf1fb505",
   "metadata": {},
   "source": [
    "def check_user_song_top_100(user_song_input):\n",
    "    df = pd.read_csv(r\"C:\\Users\\p.kollhof\\Documents\\IRONHACK_GitHub\\01-Labs\\Billboard_Top_100.csv\")\n",
    "    df.columns = [col.lower() for col in df.columns]\n",
    "\n",
    "    df[\"song_lower\"] = [song.lower() for song in df[\"song\"]]\n",
    "    df[\"song_lower_shorthand\"] = [song.lower().replace(\"'\", \"\").replace(\".\", \"\").replace(\",\", \"\").replace(\"(\",\"\").replace(\")\",\"\").strip() \n",
    "                                    for song in df[\"song\"]]\n",
    "\n",
    "    df = df[[\"song\", \"song_lower\", \"song_lower_shorthand\", \"artist\"]]\n",
    "\n",
    "    song_list = list(df[\"song\"])\n",
    "    song_list_lower = list(df[\"song_lower\"])\n",
    "    song_list_lower_shorthand = list(df[\"song_lower_shorthand\"])\n",
    "    \n",
    "    ui_easified = user_song_input.split(\"(\")[0].lower().replace(\"'\", \"\").replace(\".\", \"\").replace(\",\", \"\").strip()\n",
    "    \n",
    "    if ui_easified in song_list_lower_shorthand:\n",
    "        return difflib.get_close_matches(ui_easified, song_list, cutoff=0.65)[0]\n",
    "\n",
    "    else:\n",
    "        diff_match = difflib.get_close_matches(ui_easified, song_list, cutoff=0.65)\n",
    "        if len(diff_match) == 0:\n",
    "            print(\"Your chosen song is not in the Top 100!\")\n",
    "        return user_song_input"
   ]
  },
  {
   "cell_type": "markdown",
   "id": "19eaa9f3",
   "metadata": {},
   "source": [
    "## Get Song Data and play embedded"
   ]
  },
  {
   "cell_type": "code",
   "execution_count": 9,
   "id": "ae71d814",
   "metadata": {},
   "outputs": [],
   "source": [
    "def get_user_song_id():\n",
    "    user_song_name =  get_user_song_input()\n",
    "    user_song = sp.search(q=user_song_name,limit=10,market=\"DE\")\n",
    "    user_song_id = user_song[\"tracks\"][\"items\"][0][\"id\"]\n",
    "    return user_song_id"
   ]
  },
  {
   "cell_type": "code",
   "execution_count": 10,
   "id": "e35cf01c",
   "metadata": {},
   "outputs": [],
   "source": [
    "def get_user_song_id_given(user_song_name):\n",
    "    user_song = sp.search(q=user_song_name,limit=10,market=\"DE\")\n",
    "    user_song_id = user_song[\"tracks\"][\"items\"][0][\"id\"]\n",
    "    return user_song_id"
   ]
  },
  {
   "cell_type": "markdown",
   "id": "2de4f230",
   "metadata": {},
   "source": [
    "## Get Song Features"
   ]
  },
  {
   "cell_type": "code",
   "execution_count": 11,
   "id": "6c8e8eb7",
   "metadata": {},
   "outputs": [],
   "source": [
    "def get_user_song_audiofeatures(user_song_id):\n",
    "    user_song_audiofeatures = sp.audio_features(user_song_id)\n",
    "    df_user_input = pd.DataFrame(user_song_audiofeatures)\n",
    "    df_user_input = df_user_input[['danceability', 'energy', 'loudness', 'liveness', 'valence', \n",
    "                                 'tempo', 'instrumentalness']] #, 'speechiness', 'acousticness'\n",
    "    return df_user_input"
   ]
  },
  {
   "cell_type": "markdown",
   "id": "4fba19f7",
   "metadata": {},
   "source": [
    "## Scale User Song"
   ]
  },
  {
   "cell_type": "code",
   "execution_count": 12,
   "id": "0adcca9f",
   "metadata": {},
   "outputs": [],
   "source": [
    "def scale_user_song(scaler, df):\n",
    "    X_scaled_user = scaler.transform(df)\n",
    "    X_scaled_user_df = pd.DataFrame(X_scaled_user, columns = df.columns)\n",
    "    return X_scaled_user_df"
   ]
  },
  {
   "cell_type": "markdown",
   "id": "0f696e0d",
   "metadata": {},
   "source": [
    "## Return User Song Cluster"
   ]
  },
  {
   "cell_type": "code",
   "execution_count": 13,
   "id": "f8408c8f",
   "metadata": {},
   "outputs": [],
   "source": [
    "def get_user_song_cluster(scaled_df, kmeans):\n",
    "    user_song_cluster = kmeans.predict(scaled_df)[0]\n",
    "    return user_song_cluster"
   ]
  },
  {
   "cell_type": "markdown",
   "id": "56e4e66e",
   "metadata": {},
   "source": [
    "# Give Recommendation based on User Song Input"
   ]
  },
  {
   "cell_type": "code",
   "execution_count": 14,
   "id": "f360d8d4",
   "metadata": {},
   "outputs": [],
   "source": [
    "def give_recommendation_sample(df_song_collection, user_song_cluster, n):\n",
    "    sample_df = df_song_collection_full[df_song_collection_full['cluster'] == user_song_cluster].sample(n)\n",
    "    #sample_df = sample[['danceability', 'energy', 'loudness', 'liveness', 'valence', \n",
    "                     #'tempo', 'speechiness', 'acousticness', 'instrumentalness']]\n",
    "    return sample_df\n",
    "\n",
    "#def give_recommendation_text(sample, user_song_cluster, df_song_collection):\n",
    "    #recom_song_name = list(sample[\"song_name\"])\n",
    "    #recom_song_artist = list(sample[\"song_artist\"])\n",
    "    #recom_song_id = list(sample[\"id\"])\n",
    "    #recommendation = list(zip(recom_song_name, recom_song_artist, recom_song_id))\n",
    "    #return recommendation\n",
    "\n",
    "def sort_recommendation_user_song_similarities():\n",
    "    X_scaled_recom = scaler.transform(sample)\n",
    "    X_scaled_recom_df = pd.DataFrame(X_scaled_recom, columns=sample.columns)\n",
    "    \n",
    "    X_scaled_user_df_features = list(X_scaled_user_df.values[0])#\n",
    "    X_scaled_recom_df_features = np.array(X_scaled_recom_df).tolist()\n",
    "\n",
    "    diff_matrix = [[]] * len(X_scaled_recom_df_features)\n",
    "\n",
    "    for idx in range(len(diff_matrix)):\n",
    "        for val in range(len(X_scaled_user_df_features)):\n",
    "            diff_matrix[idx].append( X_scaled_user_df_features[val] + X_scaled_recom_df_features[idx][val] )\n",
    "\n",
    "    diff_matrix = diff_matrix[0]\n",
    "    diff_matrix = [diff_matrix[:7], diff_matrix[7:-7], diff_matrix[-7:]]\n",
    "    diff_matrix_sums = [abs(sum(submatrix)) for submatrix in diff_matrix]\n",
    "    diff_matrix_sums_min = diff_matrix_sums.index(min(diff_matrix_sums))\n",
    "    diff_matrix_sums_max = diff_matrix_sums.index(max(diff_matrix_sums))\n",
    "    diff_matrix_sums_min, diff_matrix_sums_max\n",
    "\n",
    "    similarity_sorter = [diff_matrix_sums_min,\n",
    "                        list(set(range(len(diff_matrix))) - set([diff_matrix_sums_min, diff_matrix_sums_max]))[0],\n",
    "                        diff_matrix_sums_max]\n",
    "    return similarity_sorter, X_scaled_recom_df\n",
    "\n",
    "def play_sorted3_recommendations(sample):\n",
    "    similarity_sorter = sort_recommendation_user_song_similarities()[0]\n",
    "    recom_song_name = list(sample[\"song_name\"])\n",
    "    recom_song_artist = list(sample[\"song_artist\"])\n",
    "    recom_song_id = list(sample[\"id\"])\n",
    "    recommendation = list(zip(recom_song_name, recom_song_artist, recom_song_id))\n",
    "\n",
    "    for recom in similarity_sorter:\n",
    "        play_song(recommendation[recom][2])\n",
    "        #print(f\"You might also like '{recommendation[recom][0]}' by {recommendation[recom][1]}!\")\n",
    "        \n",
    "def play_recommendations(sample_df):\n",
    "    recom_song_name = list(sample_df[\"song_name\"])\n",
    "    recom_song_artist = list(sample_df[\"song_artist\"])\n",
    "    recom_song_id = list(sample_df[\"id\"])\n",
    "    recommendation = list(zip(recom_song_name, recom_song_artist, recom_song_id))\n",
    "\n",
    "    for recom in range(len(recommendation)):\n",
    "        play_song(recommendation[recom][2])\n",
    "        #print(f\"You might also like '{recommendation[recom][0]}' by {recommendation[recom][1]}!\")"
   ]
  },
  {
   "cell_type": "markdown",
   "id": "67807128",
   "metadata": {},
   "source": [
    "# Output Pipeline"
   ]
  },
  {
   "cell_type": "markdown",
   "id": "225f8179",
   "metadata": {},
   "source": [
    "################################################################################################################"
   ]
  },
  {
   "cell_type": "code",
   "execution_count": 40,
   "id": "44e5b304",
   "metadata": {},
   "outputs": [
    {
     "name": "stdout",
     "output_type": "stream",
     "text": [
      "Pick any song: mein block\n"
     ]
    },
    {
     "data": {
      "text/html": [
       "\n",
       "        <iframe\n",
       "            width=\"320\"\n",
       "            height=\"80\"\n",
       "            src=\"https://open.spotify.com/embed/track/4T1tVhQahmAOvTF65lKq4o?frameborder=0&allowtransparency=true&allow=encrypted-media\"\n",
       "            frameborder=\"0\"\n",
       "            allowfullscreen\n",
       "            \n",
       "        ></iframe>\n",
       "        "
      ],
      "text/plain": [
       "<IPython.lib.display.IFrame at 0x2eb2994e3a0>"
      ]
     },
     "metadata": {},
     "output_type": "display_data"
    }
   ],
   "source": [
    "kmeans_ = kmeans_8\n",
    "\n",
    "user_song_id = get_user_song_id()\n",
    "df_user_input = get_user_song_audiofeatures(user_song_id)\n",
    "\n",
    "play_song(user_song_id)"
   ]
  },
  {
   "cell_type": "code",
   "execution_count": 43,
   "id": "25721617",
   "metadata": {},
   "outputs": [],
   "source": [
    "X_scaled_user_df = scale_user_song(scaler, df_user_input)"
   ]
  },
  {
   "cell_type": "code",
   "execution_count": 19,
   "id": "5a7b42c4",
   "metadata": {},
   "outputs": [
    {
     "data": {
      "text/html": [
       "\n",
       "        <iframe\n",
       "            width=\"320\"\n",
       "            height=\"80\"\n",
       "            src=\"https://open.spotify.com/embed/track/2NPHU2WJaI3rrtCNNuQ8L1?frameborder=0&allowtransparency=true&allow=encrypted-media\"\n",
       "            frameborder=\"0\"\n",
       "            allowfullscreen\n",
       "            \n",
       "        ></iframe>\n",
       "        "
      ],
      "text/plain": [
       "<IPython.lib.display.IFrame at 0x2eb29adfca0>"
      ]
     },
     "metadata": {},
     "output_type": "display_data"
    },
    {
     "data": {
      "text/html": [
       "\n",
       "        <iframe\n",
       "            width=\"320\"\n",
       "            height=\"80\"\n",
       "            src=\"https://open.spotify.com/embed/track/0UfVfRSmy4xMyi67LKH5zZ?frameborder=0&allowtransparency=true&allow=encrypted-media\"\n",
       "            frameborder=\"0\"\n",
       "            allowfullscreen\n",
       "            \n",
       "        ></iframe>\n",
       "        "
      ],
      "text/plain": [
       "<IPython.lib.display.IFrame at 0x2eb29adfca0>"
      ]
     },
     "metadata": {},
     "output_type": "display_data"
    },
    {
     "data": {
      "text/html": [
       "\n",
       "        <iframe\n",
       "            width=\"320\"\n",
       "            height=\"80\"\n",
       "            src=\"https://open.spotify.com/embed/track/11SQnfm9cxgIjRREQWgbsP?frameborder=0&allowtransparency=true&allow=encrypted-media\"\n",
       "            frameborder=\"0\"\n",
       "            allowfullscreen\n",
       "            \n",
       "        ></iframe>\n",
       "        "
      ],
      "text/plain": [
       "<IPython.lib.display.IFrame at 0x2eb29adfca0>"
      ]
     },
     "metadata": {},
     "output_type": "display_data"
    }
   ],
   "source": [
    "X_scaled_user_df = scale_user_song(scaler, df_user_input)\n",
    "user_song_cluster = get_user_song_cluster(X_scaled_user_df, kmeans_)\n",
    "sample_df = give_recommendation_sample(df_song_collection, user_song_cluster, 3)\n",
    "play_recommendations(sample_df)"
   ]
  },
  {
   "cell_type": "code",
   "execution_count": 31,
   "id": "8b2841d1",
   "metadata": {},
   "outputs": [
    {
     "data": {
      "text/html": [
       "<div>\n",
       "<style scoped>\n",
       "    .dataframe tbody tr th:only-of-type {\n",
       "        vertical-align: middle;\n",
       "    }\n",
       "\n",
       "    .dataframe tbody tr th {\n",
       "        vertical-align: top;\n",
       "    }\n",
       "\n",
       "    .dataframe thead th {\n",
       "        text-align: right;\n",
       "    }\n",
       "</style>\n",
       "<table border=\"1\" class=\"dataframe\">\n",
       "  <thead>\n",
       "    <tr style=\"text-align: right;\">\n",
       "      <th></th>\n",
       "      <th>danceability</th>\n",
       "      <th>energy</th>\n",
       "      <th>loudness</th>\n",
       "      <th>liveness</th>\n",
       "      <th>valence</th>\n",
       "      <th>tempo</th>\n",
       "      <th>instrumentalness</th>\n",
       "    </tr>\n",
       "  </thead>\n",
       "  <tbody>\n",
       "    <tr>\n",
       "      <th>0</th>\n",
       "      <td>-1.850729</td>\n",
       "      <td>-1.824074</td>\n",
       "      <td>-2.673733</td>\n",
       "      <td>0.479021</td>\n",
       "      <td>4.722034</td>\n",
       "      <td>585.932528</td>\n",
       "      <td>-3.994922</td>\n",
       "    </tr>\n",
       "  </tbody>\n",
       "</table>\n",
       "</div>"
      ],
      "text/plain": [
       "   danceability    energy  loudness  liveness   valence       tempo  \\\n",
       "0     -1.850729 -1.824074 -2.673733  0.479021  4.722034  585.932528   \n",
       "\n",
       "   instrumentalness  \n",
       "0         -3.994922  "
      ]
     },
     "execution_count": 31,
     "metadata": {},
     "output_type": "execute_result"
    }
   ],
   "source": [
    "X_scaled_user_df = scale_user_song(scaler, df_user_input)\n",
    "X_scaled_user_df"
   ]
  },
  {
   "cell_type": "code",
   "execution_count": null,
   "id": "a748e072",
   "metadata": {},
   "outputs": [],
   "source": []
  },
  {
   "cell_type": "raw",
   "id": "1e2dbf4f",
   "metadata": {},
   "source": [
    "MOZARD 9 VARIATIONs / CLUSTER 5\n",
    "\tdanceability \tenergy \tloudness \tliveness \tvalence \ttempo \tinstrumentalness\n",
    "0 \t-1.850729 \t-1.824074 \t-2.673733 \t0.479021 \t4.722034 \t585.932528 \t-3.994922"
   ]
  },
  {
   "cell_type": "raw",
   "id": "77bb9b4b",
   "metadata": {},
   "source": [
    "ED SHEERAN SHAPE OF YOU\n",
    "\tdanceability \tenergy \tloudness \tliveness \tvalence \ttempo \tinstrumentalness\n",
    "0 \t1.379633 \t0.188224 \t1.120944 \t-0.047809 \t5.291784 \t392.903439 \t-4.027382"
   ]
  },
  {
   "cell_type": "raw",
   "id": "883d7371",
   "metadata": {},
   "source": [
    "KOLLEGAH MONDFINSTERNIS / CLUSTER 5\n",
    "\tdanceability \tenergy \tloudness \tliveness \tvalence \ttempo \tinstrumentalness\n",
    "0 \t0.507199 \t1.408313 \t0.87471 \t-0.163797 \t4.117115 \t614.633322 \t-4.027382"
   ]
  }
 ],
 "metadata": {
  "celltoolbar": "Raw Cell Format",
  "kernelspec": {
   "display_name": "Python 3 (ipykernel)",
   "language": "python",
   "name": "python3"
  },
  "language_info": {
   "codemirror_mode": {
    "name": "ipython",
    "version": 3
   },
   "file_extension": ".py",
   "mimetype": "text/x-python",
   "name": "python",
   "nbconvert_exporter": "python",
   "pygments_lexer": "ipython3",
   "version": "3.9.12"
  },
  "toc": {
   "base_numbering": 1,
   "nav_menu": {},
   "number_sections": true,
   "sideBar": true,
   "skip_h1_title": false,
   "title_cell": "Table of Contents",
   "title_sidebar": "Contents",
   "toc_cell": false,
   "toc_position": {},
   "toc_section_display": true,
   "toc_window_display": false
  },
  "varInspector": {
   "cols": {
    "lenName": 16,
    "lenType": 16,
    "lenVar": 40
   },
   "kernels_config": {
    "python": {
     "delete_cmd_postfix": "",
     "delete_cmd_prefix": "del ",
     "library": "var_list.py",
     "varRefreshCmd": "print(var_dic_list())"
    },
    "r": {
     "delete_cmd_postfix": ") ",
     "delete_cmd_prefix": "rm(",
     "library": "var_list.r",
     "varRefreshCmd": "cat(var_dic_list()) "
    }
   },
   "types_to_exclude": [
    "module",
    "function",
    "builtin_function_or_method",
    "instance",
    "_Feature"
   ],
   "window_display": false
  }
 },
 "nbformat": 4,
 "nbformat_minor": 5
}
