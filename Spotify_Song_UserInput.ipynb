{
 "cells": [
  {
   "cell_type": "markdown",
   "id": "0a8fe2e9",
   "metadata": {},
   "source": [
    "# TO DOs"
   ]
  },
  {
   "cell_type": "markdown",
   "id": "9b39a767",
   "metadata": {},
   "source": [
    "1) load the pandas data frame songs of the audio features (minimum 500 songs as diverse as possible))✅ <br> \n",
    "2) standardise the data using standardscaler (using fit and then transform)✅ <br>\n",
    "3) save the scaler for future use for the new user input song. save it using pickle✅ <br>\n",
    "4) choosing the number of clusters k.✅ <br>\n",
    "5) fitting k means cluster.✅ <br>\n",
    "6) build the elbow graph to find the best k.✅ <br>\n",
    "7) use the model with the best k to assign every observation in your data frame to its cluster number ( adding cluster columns to the pandas data frame) using model.predict ✅ <br>\n",
    "8) save the model with the best k as your final model using pickle. ✅ <br>\n",
    "\n",
    "**For the user input tasks and the full scenario:**\n",
    "1) get the song name from the user as an input ✅ <br>\n",
    "2) play the input song in music embed player. ✅ <br>\n",
    "3a) get the audio features for that song from spotify API. using sp.audio_features(trackid) ✅ <br>\n",
    "3b) pay attention to keep only the audio features columns. ✅<br>\n",
    "4) load the standardscaler using pickle and use it to scale the new song. (scaler.transform) ✅<br>\n",
    "5) using mode.predict(new scaled audio record for the new song) to predict the cluster (label) for the new song. ✅ <br>\n",
    "6) return random song from the same cluster that the new song belongs to from your data frame and suggest it to the user. ✅<br>\n",
    "7) play it using embedded music player. (edited) (bearbeitet) "
   ]
  },
  {
   "cell_type": "markdown",
   "id": "ab49e938",
   "metadata": {},
   "source": [
    "# Import Packages"
   ]
  },
  {
   "cell_type": "code",
   "execution_count": 1,
   "id": "2d86850c",
   "metadata": {},
   "outputs": [],
   "source": [
    "import requests\n",
    "import spotipy\n",
    "from spotipy.oauth2 import SpotifyClientCredentials\n",
    "import config\n",
    "import json\n",
    "from bs4 import BeautifulSoup\n",
    "\n",
    "import pprint\n",
    "import random\n",
    "from time import sleep\n",
    "import pickle\n",
    "from IPython.display import IFrame\n",
    "import numpy as np\n",
    "import pandas as pd\n",
    "from sklearn.preprocessing import StandardScaler\n",
    "from sklearn.cluster import KMeans\n",
    "from sklearn.metrics import silhouette_score\n",
    "import matplotlib.pyplot as plt\n",
    "%matplotlib inline\n",
    "from yellowbrick.cluster import SilhouetteVisualizer\n",
    "from kneed import KneeLocator"
   ]
  },
  {
   "cell_type": "markdown",
   "id": "9fb13faa",
   "metadata": {},
   "source": [
    "## Authenticate Spotipy"
   ]
  },
  {
   "cell_type": "code",
   "execution_count": 2,
   "id": "473a9715",
   "metadata": {},
   "outputs": [],
   "source": [
    "sp = spotipy.Spotify(auth_manager=SpotifyClientCredentials(client_id= config.client_id,\n",
    "                                                           client_secret= config.client_secret))"
   ]
  },
  {
   "cell_type": "markdown",
   "id": "1b4ecb36",
   "metadata": {},
   "source": [
    "# Load Model & Scaler"
   ]
  },
  {
   "cell_type": "code",
   "execution_count": 3,
   "id": "8513a894",
   "metadata": {},
   "outputs": [],
   "source": [
    "def load(filename = \"filename.pickle\"): \n",
    "    try: \n",
    "        with open(filename, \"rb\") as f: \n",
    "            return pickle.load(f) \n",
    "        \n",
    "    except FileNotFoundError: \n",
    "        print(\"File not found!\") "
   ]
  },
  {
   "cell_type": "code",
   "execution_count": 4,
   "id": "4f589134",
   "metadata": {},
   "outputs": [],
   "source": [
    "scaler2 = load(\"Model/scaler.pickle\")\n",
    "kmeans2 = load(\"Model/kmeans_9.pickle\")"
   ]
  },
  {
   "cell_type": "markdown",
   "id": "a22586e7",
   "metadata": {},
   "source": [
    "# I/O - User Input"
   ]
  },
  {
   "cell_type": "code",
   "execution_count": 5,
   "id": "b76d3dac",
   "metadata": {},
   "outputs": [],
   "source": [
    "def play_song(track_id):\n",
    "    return IFrame(src=\"https://open.spotify.com/embed/track/\"+track_id,\n",
    "       width=\"320\",\n",
    "       height=\"80\",\n",
    "       frameborder=\"0\",\n",
    "       allowtransparency=\"true\",\n",
    "       allow=\"encrypted-media\",)"
   ]
  },
  {
   "cell_type": "code",
   "execution_count": 6,
   "id": "0304ac0b",
   "metadata": {},
   "outputs": [],
   "source": [
    "def load_song_collection():\n",
    "    df_song_collection = pd.read_csv(\"3983_Song_Collection_CLUSTERED.csv\")\n",
    "    return df_song_collection\n",
    "\n",
    "df_song_collection = load_song_collection()"
   ]
  },
  {
   "cell_type": "markdown",
   "id": "272a7fb2",
   "metadata": {},
   "source": [
    "## Prompt User Song Input, "
   ]
  },
  {
   "cell_type": "code",
   "execution_count": 7,
   "id": "789c426c",
   "metadata": {},
   "outputs": [],
   "source": [
    "def get_user_song_input():\n",
    "    user_song_input = input(\"Pick any song: \")\n",
    "    return user_song_input"
   ]
  },
  {
   "cell_type": "markdown",
   "id": "19eaa9f3",
   "metadata": {},
   "source": [
    "## Get Song Data and play embedded"
   ]
  },
  {
   "cell_type": "code",
   "execution_count": 16,
   "id": "ae71d814",
   "metadata": {},
   "outputs": [],
   "source": [
    "def get_user_song_id():\n",
    "    user_song_name =  get_user_song_input()\n",
    "    user_song = sp.search(q=user_song_name,limit=10,market=\"DE\")\n",
    "    user_song_id = user_song[\"tracks\"][\"items\"][0][\"id\"]\n",
    "    return user_song_id"
   ]
  },
  {
   "cell_type": "markdown",
   "id": "2de4f230",
   "metadata": {},
   "source": [
    "## Get Song Features"
   ]
  },
  {
   "cell_type": "code",
   "execution_count": 9,
   "id": "6c8e8eb7",
   "metadata": {},
   "outputs": [],
   "source": [
    "def get_user_song_audiofeatures(user_song_id):\n",
    "    user_song_audiofeatures = sp.audio_features(user_song_id)\n",
    "    df_user_input = pd.DataFrame(user_song_audiofeatures)\n",
    "    df_user_input = df_user_input[['danceability', 'energy', 'loudness', 'speechiness', 'acousticness', 'instrumentalness', \n",
    "                   'liveness', 'valence', 'tempo']]\n",
    "    return df_user_input"
   ]
  },
  {
   "cell_type": "markdown",
   "id": "4fba19f7",
   "metadata": {},
   "source": [
    "## Scale User Song"
   ]
  },
  {
   "cell_type": "code",
   "execution_count": 10,
   "id": "0adcca9f",
   "metadata": {},
   "outputs": [],
   "source": [
    "def scale_user_song(df):\n",
    "    X_scaled_user = scaler2.transform(df)\n",
    "    X_scaled_user_df = pd.DataFrame(X_scaled_user, columns=df.columns)\n",
    "    return X_scaled_user_df"
   ]
  },
  {
   "cell_type": "markdown",
   "id": "0f696e0d",
   "metadata": {},
   "source": [
    "## Return User Song Cluster"
   ]
  },
  {
   "cell_type": "code",
   "execution_count": 11,
   "id": "f8408c8f",
   "metadata": {},
   "outputs": [],
   "source": [
    "def get_user_song_cluster(scaled_df):\n",
    "    user_song_cluster = kmeans2.predict(scaled_df)\n",
    "    user_song_cluster = user_song_cluster[0]\n",
    "    return user_song_cluster"
   ]
  },
  {
   "cell_type": "markdown",
   "id": "56e4e66e",
   "metadata": {},
   "source": [
    "# Give Recommendation based on User Song Input"
   ]
  },
  {
   "cell_type": "code",
   "execution_count": 12,
   "id": "a56a838e",
   "metadata": {},
   "outputs": [],
   "source": [
    "def give_recommendation(user_song_cluster, df_song_collection):\n",
    "    sample = df_song_collection[df_song_collection['cluster'] == user_song_cluster].sample(3)\n",
    "    recom_song_name = list(sample[\"song_name\"])\n",
    "    recom_song_artist = list(sample[\"song_artist\"])\n",
    "    recom_song_id = list(sample[\"id\"])\n",
    "    recommendation = list(zip(recom_song_name, recom_song_artist, recom_song_id))\n",
    "    return recommendation"
   ]
  },
  {
   "cell_type": "markdown",
   "id": "1fc82363",
   "metadata": {},
   "source": [
    "# Input Pipeline"
   ]
  },
  {
   "cell_type": "markdown",
   "id": "29211190",
   "metadata": {},
   "source": [
    "**`misspelling song names yields unexpected results`** <br>\n",
    "e.g.: \"mathew effects\" yielded \"Extent\" by /The Matthew Effect/\n",
    "\n",
    "TO FIX:\n",
    "- adjust number of results returned from user input\n",
    "- make sure to only select songs, NOT artists!"
   ]
  },
  {
   "cell_type": "code",
   "execution_count": 17,
   "id": "fdcf7a35",
   "metadata": {},
   "outputs": [
    {
     "name": "stdout",
     "output_type": "stream",
     "text": [
      "Pick any song: egypt central\n"
     ]
    },
    {
     "data": {
      "text/html": [
       "\n",
       "        <iframe\n",
       "            width=\"320\"\n",
       "            height=\"80\"\n",
       "            src=\"https://open.spotify.com/embed/track/4QhSscYz3TPLEwD6lMezvG?frameborder=0&allowtransparency=true&allow=encrypted-media\"\n",
       "            frameborder=\"0\"\n",
       "            allowfullscreen\n",
       "            \n",
       "        ></iframe>\n",
       "        "
      ],
      "text/plain": [
       "<IPython.lib.display.IFrame at 0x1e3356f3370>"
      ]
     },
     "execution_count": 17,
     "metadata": {},
     "output_type": "execute_result"
    }
   ],
   "source": [
    "user_song_id = get_user_song_id()\n",
    "play_song(user_song_id)"
   ]
  },
  {
   "cell_type": "code",
   "execution_count": 18,
   "id": "5bcc373f",
   "metadata": {},
   "outputs": [],
   "source": [
    "user_song_audiofeatures = get_user_song_audiofeatures(user_song_id)\n",
    "user_scaled_df = scale_user_song(user_song_audiofeatures)"
   ]
  },
  {
   "cell_type": "markdown",
   "id": "67807128",
   "metadata": {},
   "source": [
    "# Output Pipeline"
   ]
  },
  {
   "cell_type": "code",
   "execution_count": 19,
   "id": "0ff34ccf",
   "metadata": {},
   "outputs": [
    {
     "name": "stdout",
     "output_type": "stream",
     "text": [
      "User Song Cluster = 1\n",
      "You might also like 'Never Give Up' by Maduk!\n",
      "You might also like 'Demons - Lexurus Remix' by T & Sugah!\n",
      "You might also like 'Trying Not To Love You' by Artino!\n"
     ]
    }
   ],
   "source": [
    "user_song_cluster = get_user_song_cluster(user_scaled_df)\n",
    "print(f\"User Song Cluster = {user_song_cluster}\")\n",
    "recommendation = give_recommendation(user_song_cluster, df_song_collection)\n",
    "\n",
    "for recom in range(len(recommendation)):\n",
    "    print(f\"You might also like '{recommendation[recom][0]}' by {recommendation[recom][1]}!\")\n"
   ]
  },
  {
   "cell_type": "code",
   "execution_count": null,
   "id": "50d80ae6",
   "metadata": {},
   "outputs": [],
   "source": []
  }
 ],
 "metadata": {
  "kernelspec": {
   "display_name": "Python 3 (ipykernel)",
   "language": "python",
   "name": "python3"
  },
  "language_info": {
   "codemirror_mode": {
    "name": "ipython",
    "version": 3
   },
   "file_extension": ".py",
   "mimetype": "text/x-python",
   "name": "python",
   "nbconvert_exporter": "python",
   "pygments_lexer": "ipython3",
   "version": "3.9.12"
  },
  "toc": {
   "base_numbering": 1,
   "nav_menu": {},
   "number_sections": true,
   "sideBar": true,
   "skip_h1_title": false,
   "title_cell": "Table of Contents",
   "title_sidebar": "Contents",
   "toc_cell": false,
   "toc_position": {},
   "toc_section_display": true,
   "toc_window_display": true
  },
  "varInspector": {
   "cols": {
    "lenName": 16,
    "lenType": 16,
    "lenVar": 40
   },
   "kernels_config": {
    "python": {
     "delete_cmd_postfix": "",
     "delete_cmd_prefix": "del ",
     "library": "var_list.py",
     "varRefreshCmd": "print(var_dic_list())"
    },
    "r": {
     "delete_cmd_postfix": ") ",
     "delete_cmd_prefix": "rm(",
     "library": "var_list.r",
     "varRefreshCmd": "cat(var_dic_list()) "
    }
   },
   "types_to_exclude": [
    "module",
    "function",
    "builtin_function_or_method",
    "instance",
    "_Feature"
   ],
   "window_display": false
  }
 },
 "nbformat": 4,
 "nbformat_minor": 5
}
