{
 "cells": [
  {
   "cell_type": "markdown",
   "id": "ab49e938",
   "metadata": {},
   "source": [
    "# Import Packages"
   ]
  },
  {
   "cell_type": "code",
   "execution_count": 2,
   "id": "2d86850c",
   "metadata": {},
   "outputs": [],
   "source": [
    "import requests\n",
    "import spotipy\n",
    "from spotipy.oauth2 import SpotifyClientCredentials\n",
    "import config\n",
    "import json\n",
    "from bs4 import BeautifulSoup\n",
    "import colorama\n",
    "from colorama import Fore\n",
    "\n",
    "import pprint\n",
    "import random\n",
    "from time import sleep\n",
    "import pickle\n",
    "from IPython.display import IFrame\n",
    "import numpy as np\n",
    "import pandas as pd\n",
    "import seaborn as sns\n",
    "import matplotlib.pyplot as plt\n",
    "from sklearn.preprocessing import StandardScaler\n",
    "from sklearn.cluster import KMeans\n",
    "from sklearn.metrics import silhouette_score\n",
    "\n",
    "import difflib\n",
    "import warnings\n",
    "warnings.filterwarnings('ignore')"
   ]
  },
  {
   "cell_type": "markdown",
   "id": "9fb13faa",
   "metadata": {},
   "source": [
    "## Authenticate Spotipy"
   ]
  },
  {
   "cell_type": "code",
   "execution_count": 3,
   "id": "473a9715",
   "metadata": {},
   "outputs": [],
   "source": [
    "sp = spotipy.Spotify(auth_manager=SpotifyClientCredentials(client_id= config.client_id,\n",
    "                                                           client_secret= config.client_secret))"
   ]
  },
  {
   "cell_type": "code",
   "execution_count": 4,
   "id": "b76d3dac",
   "metadata": {},
   "outputs": [],
   "source": [
    "def play_song(track_id):\n",
    "    display(IFrame(src=\"https://open.spotify.com/embed/track/\"+track_id,\n",
    "       width=\"320\",\n",
    "       height=\"80\",\n",
    "       frameborder=\"0\",\n",
    "       allowtransparency=\"true\",\n",
    "       allow=\"encrypted-media\",))"
   ]
  },
  {
   "cell_type": "markdown",
   "id": "a22586e7",
   "metadata": {},
   "source": [
    "# Load Song Collection, Train Scaler & Kmeans"
   ]
  },
  {
   "cell_type": "code",
   "execution_count": 5,
   "id": "85ad4e28",
   "metadata": {},
   "outputs": [],
   "source": [
    "df_song_collection = pd.read_csv(r\"C:\\Users\\p.kollhof\\Documents\\IRONHACK_GitHub\\Spotify_Song_Recommender\\Model_DiversifiedPlaylistApproach_no_accousticness_no_speechiness_KickOutliersRecluster\\11137_Song_Collection_noFliers_reCLUSTERED.csv\")\n",
    "df_song_collection_features = df_song_collection[['danceability', 'energy', 'loudness', 'liveness', 'valence', \n",
    "                                                 'tempo', 'acousticness']] # ,'speechiness', 'instrumentalness\n",
    "X = df_song_collection_features\n",
    "scaler = StandardScaler()\n",
    "scaler.fit(X)\n",
    "X_scaled = scaler.transform(X)\n",
    "X_scaled_df = pd.DataFrame(X_scaled, columns = X.columns)\n",
    "\n",
    "kmeans = KMeans(n_clusters = 8, random_state=1234)\n",
    "kmeans.fit(X_scaled_df)\n",
    "\n",
    "clusters = kmeans.predict(X_scaled_df)\n",
    "X[\"clusters\"] = clusters"
   ]
  },
  {
   "cell_type": "markdown",
   "id": "272a7fb2",
   "metadata": {},
   "source": [
    "## Prompt User Song Input, "
   ]
  },
  {
   "cell_type": "code",
   "execution_count": 6,
   "id": "789c426c",
   "metadata": {},
   "outputs": [],
   "source": [
    "def get_user_song_input():\n",
    "    user_song_input = input(\"Pick any song: \")\n",
    "    return user_song_input"
   ]
  },
  {
   "cell_type": "markdown",
   "id": "19eaa9f3",
   "metadata": {},
   "source": [
    "## Get Song Data and play embedded"
   ]
  },
  {
   "cell_type": "code",
   "execution_count": 7,
   "id": "ae71d814",
   "metadata": {},
   "outputs": [],
   "source": [
    "def get_user_song_id():\n",
    "    user_song_name =  get_user_song_input()\n",
    "    user_song = sp.search(q=user_song_name,limit=10,market=\"DE\")\n",
    "    user_song_id = user_song[\"tracks\"][\"items\"][0][\"id\"]\n",
    "    return user_song_id"
   ]
  },
  {
   "cell_type": "code",
   "execution_count": 8,
   "id": "e35cf01c",
   "metadata": {},
   "outputs": [],
   "source": [
    "def get_user_song_id_given(user_song_name):\n",
    "    user_song = sp.search(q=user_song_name,limit=10,market=\"DE\")\n",
    "    user_song_id = user_song[\"tracks\"][\"items\"][0][\"id\"]\n",
    "    return user_song_id"
   ]
  },
  {
   "cell_type": "markdown",
   "id": "2de4f230",
   "metadata": {},
   "source": [
    "## Get Song Features"
   ]
  },
  {
   "cell_type": "code",
   "execution_count": 9,
   "id": "6c8e8eb7",
   "metadata": {},
   "outputs": [],
   "source": [
    "def get_user_song_audiofeatures(user_song_id):\n",
    "    user_song_audiofeatures = sp.audio_features(user_song_id)\n",
    "    df_user_input = pd.DataFrame(user_song_audiofeatures)\n",
    "    df_user_input = df_user_input[['danceability', 'energy', 'loudness', 'liveness', 'valence', \n",
    "                                     'tempo', 'acousticness']] # ,'speechiness', 'instrumentalness\n",
    "    return df_user_input"
   ]
  },
  {
   "cell_type": "markdown",
   "id": "4fba19f7",
   "metadata": {},
   "source": [
    "## Scale User Song"
   ]
  },
  {
   "cell_type": "code",
   "execution_count": 10,
   "id": "0adcca9f",
   "metadata": {},
   "outputs": [],
   "source": [
    "def scale_user_song(scaler, df):\n",
    "    X_scaled_user = scaler.transform(df)\n",
    "    X_scaled_user_df = pd.DataFrame(X_scaled_user, columns=df.columns)\n",
    "    return X_scaled_user_df"
   ]
  },
  {
   "cell_type": "markdown",
   "id": "0f696e0d",
   "metadata": {},
   "source": [
    "## Return User Song Cluster"
   ]
  },
  {
   "cell_type": "code",
   "execution_count": 11,
   "id": "f8408c8f",
   "metadata": {},
   "outputs": [],
   "source": [
    "def get_user_song_cluster(scaled_df, kmeans):\n",
    "    user_song_cluster = kmeans.predict(scaled_df)[0]\n",
    "    return user_song_cluster"
   ]
  },
  {
   "cell_type": "markdown",
   "id": "56e4e66e",
   "metadata": {},
   "source": [
    "# Give Recommendation based on User Song Input"
   ]
  },
  {
   "cell_type": "code",
   "execution_count": 12,
   "id": "f360d8d4",
   "metadata": {},
   "outputs": [],
   "source": [
    "def give_recommendation_sample(df_song_collection, user_song_cluster, n):\n",
    "    sample_df = df_song_collection[df_song_collection['cluster'] == user_song_cluster].sample(n)\n",
    "    #sample_df = sample[['danceability', 'energy', 'loudness', 'liveness', 'valence', \n",
    "                     #'tempo', 'speechiness', 'acousticness', 'instrumentalness']]\n",
    "    return sample_df\n",
    "\n",
    "#def give_recommendation_text(sample, user_song_cluster, df_song_collection):\n",
    "    #recom_song_name = list(sample[\"song_name\"])\n",
    "    #recom_song_artist = list(sample[\"song_artist\"])\n",
    "    #recom_song_id = list(sample[\"id\"])\n",
    "    #recommendation = list(zip(recom_song_name, recom_song_artist, recom_song_id))\n",
    "    #return recommendation\n",
    "\n",
    "def sort_recommendation_user_song_similarities():\n",
    "    X_scaled_recom = scaler.transform(sample)\n",
    "    X_scaled_recom_df = pd.DataFrame(X_scaled_recom, columns=sample.columns)\n",
    "    \n",
    "    X_scaled_user_df_features = list(X_scaled_user_df.values[0])#\n",
    "    X_scaled_recom_df_features = np.array(X_scaled_recom_df).tolist()\n",
    "\n",
    "    diff_matrix = [[]] * len(X_scaled_recom_df_features)\n",
    "\n",
    "    for idx in range(len(diff_matrix)):\n",
    "        for val in range(len(X_scaled_user_df_features)):\n",
    "            diff_matrix[idx].append( X_scaled_user_df_features[val] + X_scaled_recom_df_features[idx][val] )\n",
    "\n",
    "    diff_matrix = diff_matrix[0]\n",
    "    diff_matrix = [diff_matrix[:7], diff_matrix[7:-7], diff_matrix[-7:]]\n",
    "    diff_matrix_sums = [abs(sum(submatrix)) for submatrix in diff_matrix]\n",
    "    diff_matrix_sums_min = diff_matrix_sums.index(min(diff_matrix_sums))\n",
    "    diff_matrix_sums_max = diff_matrix_sums.index(max(diff_matrix_sums))\n",
    "    diff_matrix_sums_min, diff_matrix_sums_max\n",
    "\n",
    "    similarity_sorter = [diff_matrix_sums_min,\n",
    "                        list(set(range(len(diff_matrix))) - set([diff_matrix_sums_min, diff_matrix_sums_max]))[0],\n",
    "                        diff_matrix_sums_max]\n",
    "    return similarity_sorter, X_scaled_recom_df\n",
    "\n",
    "def play_sorted3_recommendations(sample):\n",
    "    similarity_sorter = sort_recommendation_user_song_similarities()[0]\n",
    "    recom_song_name = list(sample[\"song_name\"])\n",
    "    recom_song_artist = list(sample[\"song_artist\"])\n",
    "    recom_song_id = list(sample[\"id\"])\n",
    "    recommendation = list(zip(recom_song_name, recom_song_artist, recom_song_id))\n",
    "\n",
    "    for recom in similarity_sorter:\n",
    "        play_song(recommendation[recom][2])\n",
    "        #print(f\"You might also like '{recommendation[recom][0]}' by {recommendation[recom][1]}!\")\n",
    "        \n",
    "def play_recommendations(sample_df):\n",
    "    recom_song_name = list(sample_df[\"song_name\"])\n",
    "    recom_song_artist = list(sample_df[\"song_artist\"])\n",
    "    recom_song_id = list(sample_df[\"id\"])\n",
    "    recommendation = list(zip(recom_song_name, recom_song_artist, recom_song_id))\n",
    "\n",
    "    for recom in range(len(recommendation)):\n",
    "        play_song(recommendation[recom][2])\n",
    "        #print(f\"You might also like '{recommendation[recom][0]}' by {recommendation[recom][1]}!\")"
   ]
  },
  {
   "cell_type": "markdown",
   "id": "67807128",
   "metadata": {},
   "source": [
    "# Output Pipeline"
   ]
  },
  {
   "cell_type": "markdown",
   "id": "225f8179",
   "metadata": {},
   "source": [
    "################################################################################################################"
   ]
  },
  {
   "cell_type": "code",
   "execution_count": 35,
   "id": "ed21dd5d",
   "metadata": {},
   "outputs": [
    {
     "name": "stdout",
     "output_type": "stream",
     "text": [
      "Pick any song: lose yourself\n"
     ]
    },
    {
     "data": {
      "text/html": [
       "\n",
       "        <iframe\n",
       "            width=\"320\"\n",
       "            height=\"80\"\n",
       "            src=\"https://open.spotify.com/embed/track/1v7L65Lzy0j0vdpRjJewt1?frameborder=0&allowtransparency=true&allow=encrypted-media\"\n",
       "            frameborder=\"0\"\n",
       "            allowfullscreen\n",
       "            \n",
       "        ></iframe>\n",
       "        "
      ],
      "text/plain": [
       "<IPython.lib.display.IFrame at 0x26b436710d0>"
      ]
     },
     "metadata": {},
     "output_type": "display_data"
    }
   ],
   "source": [
    "user_song_id = get_user_song_id()\n",
    "df_user_input = get_user_song_audiofeatures(user_song_id)\n",
    "\n",
    "play_song(user_song_id)"
   ]
  },
  {
   "cell_type": "code",
   "execution_count": 36,
   "id": "ed799a8b",
   "metadata": {},
   "outputs": [
    {
     "data": {
      "text/html": [
       "\n",
       "        <iframe\n",
       "            width=\"320\"\n",
       "            height=\"80\"\n",
       "            src=\"https://open.spotify.com/embed/track/1Bg2CNZw6S4e9cGWPmi0uI?frameborder=0&allowtransparency=true&allow=encrypted-media\"\n",
       "            frameborder=\"0\"\n",
       "            allowfullscreen\n",
       "            \n",
       "        ></iframe>\n",
       "        "
      ],
      "text/plain": [
       "<IPython.lib.display.IFrame at 0x26b4df7f070>"
      ]
     },
     "metadata": {},
     "output_type": "display_data"
    },
    {
     "data": {
      "text/html": [
       "\n",
       "        <iframe\n",
       "            width=\"320\"\n",
       "            height=\"80\"\n",
       "            src=\"https://open.spotify.com/embed/track/368hMk29q0OhJuRjWL44Fm?frameborder=0&allowtransparency=true&allow=encrypted-media\"\n",
       "            frameborder=\"0\"\n",
       "            allowfullscreen\n",
       "            \n",
       "        ></iframe>\n",
       "        "
      ],
      "text/plain": [
       "<IPython.lib.display.IFrame at 0x26b4df7f070>"
      ]
     },
     "metadata": {},
     "output_type": "display_data"
    },
    {
     "data": {
      "text/html": [
       "\n",
       "        <iframe\n",
       "            width=\"320\"\n",
       "            height=\"80\"\n",
       "            src=\"https://open.spotify.com/embed/track/3vSLSOhE8HWBC2WiN0j0hD?frameborder=0&allowtransparency=true&allow=encrypted-media\"\n",
       "            frameborder=\"0\"\n",
       "            allowfullscreen\n",
       "            \n",
       "        ></iframe>\n",
       "        "
      ],
      "text/plain": [
       "<IPython.lib.display.IFrame at 0x26b4df7f070>"
      ]
     },
     "metadata": {},
     "output_type": "display_data"
    }
   ],
   "source": [
    "X_scaled_user_df = scale_user_song(scaler, df_user_input)\n",
    "user_song_cluster = get_user_song_cluster(X_scaled_user_df, kmeans)\n",
    "sample_df = give_recommendation_sample(df_song_collection, user_song_cluster, 3)\n",
    "play_recommendations(sample_df)\n"
   ]
  },
  {
   "cell_type": "code",
   "execution_count": null,
   "id": "be0dc555",
   "metadata": {},
   "outputs": [],
   "source": []
  }
 ],
 "metadata": {
  "celltoolbar": "Raw Cell Format",
  "kernelspec": {
   "display_name": "Python 3 (ipykernel)",
   "language": "python",
   "name": "python3"
  },
  "language_info": {
   "codemirror_mode": {
    "name": "ipython",
    "version": 3
   },
   "file_extension": ".py",
   "mimetype": "text/x-python",
   "name": "python",
   "nbconvert_exporter": "python",
   "pygments_lexer": "ipython3",
   "version": "3.9.12"
  },
  "toc": {
   "base_numbering": 1,
   "nav_menu": {},
   "number_sections": true,
   "sideBar": true,
   "skip_h1_title": false,
   "title_cell": "Table of Contents",
   "title_sidebar": "Contents",
   "toc_cell": false,
   "toc_position": {},
   "toc_section_display": true,
   "toc_window_display": false
  },
  "varInspector": {
   "cols": {
    "lenName": 16,
    "lenType": 16,
    "lenVar": 40
   },
   "kernels_config": {
    "python": {
     "delete_cmd_postfix": "",
     "delete_cmd_prefix": "del ",
     "library": "var_list.py",
     "varRefreshCmd": "print(var_dic_list())"
    },
    "r": {
     "delete_cmd_postfix": ") ",
     "delete_cmd_prefix": "rm(",
     "library": "var_list.r",
     "varRefreshCmd": "cat(var_dic_list()) "
    }
   },
   "types_to_exclude": [
    "module",
    "function",
    "builtin_function_or_method",
    "instance",
    "_Feature"
   ],
   "window_display": false
  }
 },
 "nbformat": 4,
 "nbformat_minor": 5
}
