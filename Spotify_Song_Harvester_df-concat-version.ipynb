{
 "cells": [
  {
   "cell_type": "code",
   "execution_count": 1,
   "id": "d3d431c4",
   "metadata": {},
   "outputs": [],
   "source": [
    "import spotipy\n",
    "import json\n",
    "from spotipy.oauth2 import SpotifyClientCredentials\n",
    "import config\n",
    "import pprint\n",
    "import pandas as pd\n",
    "from bs4 import BeautifulSoup\n",
    "import requests\n",
    "pd.set_option('display.max_rows', None)\n",
    "import random"
   ]
  },
  {
   "cell_type": "code",
   "execution_count": 2,
   "id": "f4683cce",
   "metadata": {},
   "outputs": [],
   "source": [
    "sp = spotipy.Spotify(auth_manager=SpotifyClientCredentials(client_id= config.client_id,\n",
    "                                                           client_secret= config.client_secret))"
   ]
  },
  {
   "cell_type": "raw",
   "id": "eee7c1bc",
   "metadata": {},
   "source": [
    "results = sp.search(q=\"Keeno\",limit=50,market=\"DE\")"
   ]
  },
  {
   "cell_type": "raw",
   "id": "c769a3e8",
   "metadata": {},
   "source": [
    "track_id=results[\"tracks\"][\"items\"][0][\"id\"]"
   ]
  },
  {
   "cell_type": "raw",
   "id": "821d6343",
   "metadata": {},
   "source": [
    "def play_song(track_id):\n",
    "    return IFrame(src=\"https://open.spotify.com/embed/track/\"+track_id,\n",
    "       width=\"320\",\n",
    "       height=\"80\",\n",
    "       frameborder=\"0\",\n",
    "       allowtransparency=\"true\",\n",
    "       allow=\"encrypted-media\",\n",
    "      )"
   ]
  },
  {
   "cell_type": "raw",
   "id": "e66937f2",
   "metadata": {
    "scrolled": true
   },
   "source": [
    "for item in results['tracks']['items']:\n",
    "    print(\"The name of song is: '{}' and the id is: {}\".format(item['name'],item[\"id\"]))"
   ]
  },
  {
   "cell_type": "markdown",
   "id": "37d933c6",
   "metadata": {},
   "source": [
    "## Understanding the json"
   ]
  },
  {
   "cell_type": "raw",
   "id": "7fde6255",
   "metadata": {},
   "source": [
    "print(\"The json file has the following keys: \",list(results.keys())) # We can see that we only have tracks\n",
    "print(\"The 'tracks' key has the following child keys: \",list(results[\"tracks\"].keys())) # Let's check the values\n",
    "print(\"The query we made is: \",results[\"tracks\"][\"href\"]) # Query we have searched \n",
    "print(\"The song's info is contained in: \",results[\"tracks\"][\"items\"]) #items (actual tracks)\n",
    "print(\"The limit of the query we've made is: \",results[\"tracks\"][\"limit\"]) #Limit we have chosen\n",
    "print(\"The next page if any: \",results[\"tracks\"][\"next\"]) #link to the next page (next 50 tracks)\n",
    "print(\"The starting webpage: \",results[\"tracks\"][\"offset\"]) # Actual offset (starting point)\n",
    "print(\"Starting webpage: \",results[\"tracks\"][\"previous\"]) #Previous search\n",
    "print(\"Total number of results: \",results[\"tracks\"][\"total\"]) # Number of matches"
   ]
  },
  {
   "cell_type": "raw",
   "id": "549fcb63",
   "metadata": {},
   "source": [
    "## Getting the Audio feature of a song"
   ]
  },
  {
   "cell_type": "raw",
   "id": "22b398db",
   "metadata": {},
   "source": [
    "sp.audio_features(results[\"tracks\"][\"items\"][0][\"id\"] )"
   ]
  },
  {
   "cell_type": "raw",
   "id": "0071cae1",
   "metadata": {},
   "source": [
    "## Building Data frame of audio features"
   ]
  },
  {
   "cell_type": "raw",
   "id": "282a4d79",
   "metadata": {
    "scrolled": true
   },
   "source": [
    "#my_dict = sp.audio_features(song[\"tracks\"][\"items\"][0][\"uri\"])[0] # you can provide a list of uri's\n",
    "\n",
    "list_of_songs=[]\n",
    "for index in range(0,len(results[\"tracks\"][\"items\"])):\n",
    "    list_of_songs.append(sp.audio_features(results[\"tracks\"][\"items\"][index][\"uri\"])[0])\n",
    "df=pd.DataFrame(list_of_songs)    \n",
    "df=df[[\"danceability\",\"energy\",\"loudness\",\"speechiness\",\"acousticness\",\n",
    "    \"instrumentalness\",\"liveness\",\"valence\",\"tempo\",\"id\",\"duration_ms\"]]\n",
    "\n",
    "df"
   ]
  },
  {
   "cell_type": "markdown",
   "id": "9e23409f",
   "metadata": {},
   "source": [
    "## Searching a playlist"
   ]
  },
  {
   "cell_type": "markdown",
   "id": "4f16a9cb",
   "metadata": {},
   "source": [
    "## List of SPOTIFY Playlists"
   ]
  },
  {
   "cell_type": "markdown",
   "id": "ee2d39e4",
   "metadata": {},
   "source": [
    "### Source 1"
   ]
  },
  {
   "cell_type": "code",
   "execution_count": 3,
   "id": "9f30952b",
   "metadata": {},
   "outputs": [
    {
     "name": "stdout",
     "output_type": "stream",
     "text": [
      "200\n",
      "List of 28 playlists has been created!\n"
     ]
    }
   ],
   "source": [
    "url_1 = \"https://audiohype.io/resources/the-best-spotify-playlists/\"\n",
    "response_1 = requests.get(url_1)\n",
    "print(response_1.status_code) # 200 status code means OK!\n",
    "soup_1 = BeautifulSoup(response_1.content, \"html.parser\")\n",
    "\n",
    "playlists_list_1 = [soup_1.select(\".rank-math-link\")[pl][\"href\"].split(\"?\")[0] \n",
    "                    for pl in range(len(soup_1.select(\".rank-math-link\")))]\n",
    "playlists_list_1 = [url.split(\"/\")[-1] for url in playlists_list_1][:-1]\n",
    "print(f\"List of {len(playlists_list_1)} playlists has been created!\")"
   ]
  },
  {
   "cell_type": "markdown",
   "id": "8f22601f",
   "metadata": {},
   "source": [
    "### Source 2"
   ]
  },
  {
   "cell_type": "code",
   "execution_count": 4,
   "id": "ce6ad9d9",
   "metadata": {},
   "outputs": [
    {
     "name": "stdout",
     "output_type": "stream",
     "text": [
      "200\n",
      "List of 9 playlists has been created!\n"
     ]
    }
   ],
   "source": [
    "url_2 = \"https://www.noteburner.com/spotify-music-tips/top-10-spotify-playlist.html\"\n",
    "response_2 = requests.get(url_2)\n",
    "print(response_2.status_code) # 200 status code means OK!\n",
    "soup_2 = BeautifulSoup(response_2.content, \"html.parser\")\n",
    "\n",
    "playlists_list_2 = [soup_2.select(\"div.contaienr > div > div > ul > li > a\")[pl][\"href\"].split(\"?\")[0] \n",
    "                    for pl in range(len(soup_2.select(\"div.contaienr > div > div > ul > li > a\")))]\n",
    "playlists_list_2 = [url.split(\"/\")[-1] for url in playlists_list_2][:-1]\n",
    "print(f\"List of {len(playlists_list_2)} playlists has been created!\")"
   ]
  },
  {
   "cell_type": "markdown",
   "id": "36979dc1",
   "metadata": {},
   "source": [
    "### Create complete list of all playlists_lists"
   ]
  },
  {
   "cell_type": "code",
   "execution_count": 5,
   "id": "c0652352",
   "metadata": {
    "scrolled": true
   },
   "outputs": [
    {
     "name": "stdout",
     "output_type": "stream",
     "text": [
      "Total number of playlist IDs is 37\n"
     ]
    }
   ],
   "source": [
    "playlists_list = []\n",
    "playlists_list.extend(playlists_list_1)\n",
    "playlists_list.extend(playlists_list_2)\n",
    "print(f\"Total number of playlist IDs is {len(playlists_list)}\")"
   ]
  },
  {
   "cell_type": "code",
   "execution_count": null,
   "id": "491facf6",
   "metadata": {},
   "outputs": [],
   "source": []
  },
  {
   "cell_type": "markdown",
   "id": "5b01c683",
   "metadata": {},
   "source": [
    "## Playlist functions"
   ]
  },
  {
   "cell_type": "markdown",
   "id": "8b80dfe6",
   "metadata": {},
   "source": [
    "### Extracting `<TRACKS>`"
   ]
  },
  {
   "cell_type": "code",
   "execution_count": 6,
   "id": "9635ce08",
   "metadata": {},
   "outputs": [],
   "source": [
    "def get_playlist_tracks(username, playlist_id):\n",
    "    results = sp.user_playlist_tracks(username,playlist_id,market=\"DE\")\n",
    "    tracks = results['items']\n",
    "    while results['next']:\n",
    "        results = sp.next(results)\n",
    "        tracks.extend(results['items'])\n",
    "    return tracks"
   ]
  },
  {
   "cell_type": "markdown",
   "id": "bc3ec69e",
   "metadata": {},
   "source": [
    "### Extracting song `<IDs>`"
   ]
  },
  {
   "cell_type": "code",
   "execution_count": 7,
   "id": "0b764b22",
   "metadata": {},
   "outputs": [],
   "source": [
    "def get_playlist_track_ids(playlist):\n",
    "    song_ids_list = [playlist[id][\"track\"][\"id\"] for id in range(len(playlist))]\n",
    "    return song_ids_list\n",
    "\n",
    "#song_ids_list = get_playlist_track_ids(playlist)"
   ]
  },
  {
   "cell_type": "markdown",
   "id": "5971f0a0",
   "metadata": {},
   "source": [
    "### Extracting song `<NAMES>`"
   ]
  },
  {
   "cell_type": "code",
   "execution_count": 8,
   "id": "f701bcb7",
   "metadata": {},
   "outputs": [],
   "source": [
    "def get_playlist_track_names(playlist):\n",
    "    song_names_list = [playlist[t][\"track\"][\"name\"] for t in range(len(playlist))]\n",
    "    return song_names_list\n",
    "\n",
    "#song_names_list = get_playlist_track_names(playlist)"
   ]
  },
  {
   "cell_type": "markdown",
   "id": "1d7f80db",
   "metadata": {},
   "source": [
    "### Extracting song `<ARTISTS>`"
   ]
  },
  {
   "cell_type": "code",
   "execution_count": 9,
   "id": "1ce7aad9",
   "metadata": {},
   "outputs": [],
   "source": [
    "def get_playlist_track_artists(playlist):\n",
    "    song_artist_list = [playlist[artist][\"track\"][\"artists\"][0][\"name\"] for artist in range(len(playlist))]\n",
    "    return song_artist_list\n",
    "\n",
    "#song_artist_list = get_playlist_track_artists(playlist)"
   ]
  },
  {
   "cell_type": "markdown",
   "id": "a736ca95",
   "metadata": {},
   "source": [
    "### Extracting song `<AUDIO FEATURES>`"
   ]
  },
  {
   "cell_type": "code",
   "execution_count": 10,
   "id": "21dee99c",
   "metadata": {},
   "outputs": [],
   "source": [
    "def get_playlist_track_audiofeatures(id_list):\n",
    "    \n",
    "    audio_features_list = []\n",
    "    \n",
    "    if len(song_ids_list) > 100:\n",
    "        lower_bound_iterables = list(range(0, len(song_ids_list), 100))\n",
    "        upper_bound_iterables = list(range(100, len(song_ids_list), 100))\n",
    "        upper_bound_iterables.append(len(song_ids_list))\n",
    "    \n",
    "        for idx, bound in enumerate(lower_bound_iterables):\n",
    "            song_audiofeatures_list = sp.audio_features(song_ids_list[lower_bound_iterables[idx]:upper_bound_iterables[idx]])\n",
    "            audio_features_list.extend(song_audiofeatures_list)\n",
    "    \n",
    "    else:\n",
    "        audio_features_list = sp.audio_features(song_ids_list)\n",
    "    return audio_features_list\n",
    "\n",
    "#song_audiofeatures_list = get_playlist_track_audiofeatures(song_ids_list)"
   ]
  },
  {
   "cell_type": "markdown",
   "id": "59d20c22",
   "metadata": {},
   "source": [
    "## Create dataframe with song `<NAMEs>`, `<ARTISTs>`, `<IDs>`, `<AUDIO FEATUREs>`"
   ]
  },
  {
   "cell_type": "code",
   "execution_count": 11,
   "id": "159ed292",
   "metadata": {
    "scrolled": true
   },
   "outputs": [],
   "source": [
    "def create_df_to_concat_to_base():\n",
    "\n",
    "    df_1 = pd.DataFrame(data={\n",
    "        \"song_name\": song_names_list,\n",
    "        \"song_artist\": song_artist_list,\n",
    "    })\n",
    "\n",
    "    df_2 = pd.DataFrame(song_audiofeatures_list)    \n",
    "    df_2 = df_2[[\"id\",\"danceability\",\"energy\",\"loudness\",\"speechiness\",\"acousticness\",\n",
    "               \"instrumentalness\",\"liveness\",\"valence\",\"tempo\",\"duration_ms\"]]\n",
    "\n",
    "    df = pd.concat([df_1, df_2], axis=1)\n",
    "    print(f\"Dataframe with {len(df)} entries was created as `df_to_concat`\")\n",
    "    return df\n",
    "\n",
    "#df = create_df_to_concat_to_base()"
   ]
  },
  {
   "cell_type": "markdown",
   "id": "a972def5",
   "metadata": {},
   "source": [
    "## Extend csv with dataframe to concat"
   ]
  },
  {
   "cell_type": "code",
   "execution_count": 12,
   "id": "6727ebd7",
   "metadata": {},
   "outputs": [],
   "source": [
    "def extend_collection():\n",
    "    \n",
    "    df_base = pd.read_csv(\"Song_Collection_Extended.csv\")\n",
    "    df_extended = pd.concat([df_base, df], axis=0, ignore_index=True)\n",
    "    df_extended.to_csv(\"Song_Collection_Extended.csv\", index=False)\n",
    "    print(f\"Extended base dataframe (length = {len(df_base)}) by {len(df)} songs!\")\n",
    "    return df_extended\n",
    "\n",
    "#df_extended = extend_collection()"
   ]
  },
  {
   "cell_type": "markdown",
   "id": "cfca09b3",
   "metadata": {},
   "source": [
    "### Create very first dataframe to build upon"
   ]
  },
  {
   "cell_type": "code",
   "execution_count": 13,
   "id": "fb432dfb",
   "metadata": {},
   "outputs": [],
   "source": [
    "def create_base_dataframe():\n",
    "\n",
    "    df_1 = pd.DataFrame(data={\n",
    "        \"song_name\": song_names_list,\n",
    "        \"song_artist\": song_artist_list,\n",
    "    })\n",
    "\n",
    "    df_2 = pd.DataFrame(song_audiofeatures_list)    \n",
    "    df_2 = df_2[[\"id\",\"danceability\",\"energy\",\"loudness\",\"speechiness\",\"acousticness\",\n",
    "               \"instrumentalness\",\"liveness\",\"valence\",\"tempo\",\"duration_ms\"]]\n",
    "\n",
    "    df = pd.concat([df_1, df_2], axis=1)\n",
    "    df.to_csv(\"Song_Collection_Extended.csv\", index=False)\n",
    "    print(f\"Dataframe with {len(df)} entries was created\")\n",
    "    return df"
   ]
  },
  {
   "cell_type": "markdown",
   "id": "df9ac970",
   "metadata": {},
   "source": [
    "playlist=get_playlist_tracks(\"dimoqxn\", \"4wNlX4GrLXSgnuGZpI5xVa\")\n",
    "song_ids_list = get_playlist_track_ids(playlist)\n",
    "song_names_list = get_playlist_track_names(playlist)\n",
    "song_artist_list = get_playlist_track_artists(playlist)\n",
    "song_audiofeatures_list = get_playlist_track_audiofeatures(song_ids_list)\n",
    "df = create_df_to_concat_to_base()\n",
    "df_extended = extend_collection()"
   ]
  },
  {
   "cell_type": "markdown",
   "id": "e4f8128d",
   "metadata": {},
   "source": [
    "## PIPELINE - Looping through list of playlists"
   ]
  },
  {
   "cell_type": "code",
   "execution_count": 11,
   "id": "dcf0c040",
   "metadata": {},
   "outputs": [],
   "source": [
    "playlists_list = [\"61hfbFZxRLYNWmqkfBSQw1\", \"4wNlX4GrLXSgnuGZpI5xVa\"]"
   ]
  },
  {
   "cell_type": "code",
   "execution_count": 14,
   "id": "16a00706",
   "metadata": {
    "scrolled": true
   },
   "outputs": [
    {
     "name": "stdout",
     "output_type": "stream",
     "text": [
      "Dataframe with 50 entries was created as `df_to_concat`\n",
      "Extended base dataframe (length = 278) by 50 songs!\n",
      "Dataframe with 100 entries was created as `df_to_concat`\n",
      "Extended base dataframe (length = 328) by 100 songs!\n",
      "Dataframe with 50 entries was created as `df_to_concat`\n",
      "Extended base dataframe (length = 428) by 50 songs!\n",
      "Dataframe with 50 entries was created as `df_to_concat`\n",
      "Extended base dataframe (length = 478) by 50 songs!\n",
      "Dataframe with 129 entries was created as `df_to_concat`\n",
      "Extended base dataframe (length = 528) by 129 songs!\n",
      "Dataframe with 60 entries was created as `df_to_concat`\n",
      "Extended base dataframe (length = 657) by 60 songs!\n",
      "Dataframe with 39 entries was created as `df_to_concat`\n",
      "Extended base dataframe (length = 717) by 39 songs!\n",
      "Dataframe with 90 entries was created as `df_to_concat`\n",
      "Extended base dataframe (length = 756) by 90 songs!\n",
      "Dataframe with 60 entries was created as `df_to_concat`\n",
      "Extended base dataframe (length = 846) by 60 songs!\n",
      "Dataframe with 180 entries was created as `df_to_concat`\n",
      "Extended base dataframe (length = 906) by 180 songs!\n",
      "Dataframe with 985 entries was created as `df_to_concat`\n",
      "Extended base dataframe (length = 1086) by 985 songs!\n",
      "Dataframe with 150 entries was created as `df_to_concat`\n",
      "Extended base dataframe (length = 2071) by 150 songs!\n",
      "Dataframe with 171 entries was created as `df_to_concat`\n",
      "Extended base dataframe (length = 2221) by 171 songs!\n",
      "Dataframe with 97 entries was created as `df_to_concat`\n",
      "Extended base dataframe (length = 2392) by 97 songs!\n",
      "Dataframe with 50 entries was created as `df_to_concat`\n",
      "Extended base dataframe (length = 2489) by 50 songs!\n",
      "Dataframe with 55 entries was created as `df_to_concat`\n",
      "Extended base dataframe (length = 2539) by 55 songs!\n",
      "Dataframe with 50 entries was created as `df_to_concat`\n",
      "Extended base dataframe (length = 2594) by 50 songs!\n",
      "Dataframe with 101 entries was created as `df_to_concat`\n",
      "Extended base dataframe (length = 2644) by 101 songs!\n",
      "Dataframe with 159 entries was created as `df_to_concat`\n",
      "Extended base dataframe (length = 2745) by 159 songs!\n",
      "Dataframe with 300 entries was created as `df_to_concat`\n",
      "Extended base dataframe (length = 2904) by 300 songs!\n",
      "Dataframe with 252 entries was created as `df_to_concat`\n",
      "Extended base dataframe (length = 3204) by 252 songs!\n",
      "Dataframe with 90 entries was created as `df_to_concat`\n",
      "Extended base dataframe (length = 3456) by 90 songs!\n",
      "Dataframe with 100 entries was created as `df_to_concat`\n",
      "Extended base dataframe (length = 3546) by 100 songs!\n",
      "Dataframe with 387 entries was created as `df_to_concat`\n",
      "Extended base dataframe (length = 3646) by 387 songs!\n",
      "Dataframe with 50 entries was created as `df_to_concat`\n",
      "Extended base dataframe (length = 4033) by 50 songs!\n",
      "Dataframe with 80 entries was created as `df_to_concat`\n",
      "Extended base dataframe (length = 4083) by 80 songs!\n",
      "Dataframe with 50 entries was created as `df_to_concat`\n",
      "Extended base dataframe (length = 4163) by 50 songs!\n",
      "Dataframe with 125 entries was created as `df_to_concat`\n",
      "Extended base dataframe (length = 4213) by 125 songs!\n",
      "Dataframe with 64 entries was created as `df_to_concat`\n",
      "Extended base dataframe (length = 4338) by 64 songs!\n",
      "Dataframe with 40 entries was created as `df_to_concat`\n",
      "Extended base dataframe (length = 4402) by 40 songs!\n",
      "Dataframe with 65 entries was created as `df_to_concat`\n",
      "Extended base dataframe (length = 4442) by 65 songs!\n",
      "Dataframe with 100 entries was created as `df_to_concat`\n",
      "Extended base dataframe (length = 4507) by 100 songs!\n",
      "Dataframe with 126 entries was created as `df_to_concat`\n",
      "Extended base dataframe (length = 4607) by 126 songs!\n",
      "Dataframe with 80 entries was created as `df_to_concat`\n",
      "Extended base dataframe (length = 4733) by 80 songs!\n",
      "Dataframe with 150 entries was created as `df_to_concat`\n",
      "Extended base dataframe (length = 4813) by 150 songs!\n"
     ]
    }
   ],
   "source": [
    "for idx, plist in enumerate(playlists_list):\n",
    "    try:\n",
    "        playlist=get_playlist_tracks(\"spotify\", plist)\n",
    "        song_ids_list = get_playlist_track_ids(playlist)\n",
    "        song_names_list = get_playlist_track_names(playlist)\n",
    "        song_artist_list = get_playlist_track_artists(playlist)\n",
    "        song_audiofeatures_list = get_playlist_track_audiofeatures(song_ids_list)\n",
    "        df = create_df_to_concat_to_base()\n",
    "        df_extended = extend_collection()\n",
    "    except:\n",
    "        pass"
   ]
  },
  {
   "cell_type": "code",
   "execution_count": null,
   "id": "98934d79",
   "metadata": {},
   "outputs": [],
   "source": []
  }
 ],
 "metadata": {
  "kernelspec": {
   "display_name": "Python 3 (ipykernel)",
   "language": "python",
   "name": "python3"
  },
  "language_info": {
   "codemirror_mode": {
    "name": "ipython",
    "version": 3
   },
   "file_extension": ".py",
   "mimetype": "text/x-python",
   "name": "python",
   "nbconvert_exporter": "python",
   "pygments_lexer": "ipython3",
   "version": "3.9.12"
  },
  "toc": {
   "base_numbering": 1,
   "nav_menu": {},
   "number_sections": true,
   "sideBar": true,
   "skip_h1_title": false,
   "title_cell": "Table of Contents",
   "title_sidebar": "Contents",
   "toc_cell": false,
   "toc_position": {},
   "toc_section_display": true,
   "toc_window_display": true
  },
  "varInspector": {
   "cols": {
    "lenName": 16,
    "lenType": 16,
    "lenVar": 40
   },
   "kernels_config": {
    "python": {
     "delete_cmd_postfix": "",
     "delete_cmd_prefix": "del ",
     "library": "var_list.py",
     "varRefreshCmd": "print(var_dic_list())"
    },
    "r": {
     "delete_cmd_postfix": ") ",
     "delete_cmd_prefix": "rm(",
     "library": "var_list.r",
     "varRefreshCmd": "cat(var_dic_list()) "
    }
   },
   "types_to_exclude": [
    "module",
    "function",
    "builtin_function_or_method",
    "instance",
    "_Feature"
   ],
   "window_display": false
  }
 },
 "nbformat": 4,
 "nbformat_minor": 5
}
