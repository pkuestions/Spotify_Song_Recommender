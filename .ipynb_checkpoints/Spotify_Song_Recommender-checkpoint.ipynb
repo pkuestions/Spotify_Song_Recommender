{
 "cells": [
  {
   "cell_type": "code",
   "execution_count": 1,
   "id": "30456e60",
   "metadata": {},
   "outputs": [],
   "source": [
    "import spotipy\n",
    "import json\n",
    "from spotipy.oauth2 import SpotifyClientCredentials\n",
    "import config\n",
    "import pprint\n",
    "import pandas as pd\n",
    "from bs4 import BeautifulSoup\n",
    "import requests\n",
    "import random\n",
    "from time import sleep\n",
    "#from random import randint"
   ]
  },
  {
   "cell_type": "code",
   "execution_count": 2,
   "id": "98dfdd4f",
   "metadata": {},
   "outputs": [],
   "source": [
    "sp = spotipy.Spotify(auth_manager=SpotifyClientCredentials(client_id= config.client_id,\n",
    "                                                           client_secret= config.client_secret))"
   ]
  },
  {
   "cell_type": "code",
   "execution_count": 49,
   "id": "1b390bee",
   "metadata": {},
   "outputs": [
    {
     "name": "stdout",
     "output_type": "stream",
     "text": [
      "Length Master: 12078 // Length Slave: 12093\n"
     ]
    }
   ],
   "source": [
    "pathlist = [r\"C:\\Users\\p.kollhof\\Documents\\IRONHACK_GitHub\\Spotify_Song_Recommender\\Song_Collection_Batches\\Batch\" + \\\n",
    " str(n) + \".csv\" for n in range(1,14)]\n",
    "\n",
    "df_batch_1 = pd.read_csv(pathlist[0])\n",
    "df_batch_2 = pd.read_csv(pathlist[1])\n",
    "df_batch_3 = pd.read_csv(pathlist[2])\n",
    "df_batch_4 = pd.read_csv(pathlist[3])\n",
    "df_batch_5 = pd.read_csv(pathlist[4])\n",
    "df_batch_6 = pd.read_csv(pathlist[5])\n",
    "df_batch_7 = pd.read_csv(pathlist[6])\n",
    "df_batch_8 = pd.read_csv(pathlist[7])\n",
    "df_batch_9 = pd.read_csv(pathlist[8])\n",
    "df_batch_10 = pd.read_csv(pathlist[9])\n",
    "df_batch_11 = pd.read_csv(pathlist[10])\n",
    "df_batch_12 = pd.read_csv(pathlist[11])\n",
    "df_batch_13 = pd.read_csv(pathlist[12])\n",
    "\n",
    "df_master_batch = pd.concat([df_batch_1, df_batch_2, df_batch_3, df_batch_4, df_batch_5, \n",
    "                             df_batch_6, df_batch_7, df_batch_8, df_batch_9, df_batch_10,\n",
    "                             df_batch_11, df_batch_12, df_batch_13]).reset_index(drop=True)\n",
    "\n",
    "df_song_infos = pd.read_csv(\"Song_Infos.csv\")\n",
    "\n",
    "print(f\"Length Master: {len(df_master_batch)} // Length Slave: {len(df_song_infos)}\")\n",
    "\n",
    "song_ids_master = list(df_master_batch[\"id\"])\n",
    "song_ids_slave = list(df_song_infos[\"id\"])"
   ]
  },
  {
   "cell_type": "code",
   "execution_count": 54,
   "id": "dcc2de2b",
   "metadata": {},
   "outputs": [],
   "source": [
    "df_combi = df_song_infos[pd.DataFrame(df_song_infos[\"id\"].tolist()).isin(song_ids_master).any(1)].reset_index(drop=True)"
   ]
  },
  {
   "cell_type": "code",
   "execution_count": 56,
   "id": "6ba4e4fa",
   "metadata": {},
   "outputs": [],
   "source": [
    "df_complete = pd.concat([df_combi[[\"song_name\", \"song_artist\"]], df_master_batch], axis=1)\n",
    "df_complete.to_csv(\"12K_Song_Collection.csv\", index=False)"
   ]
  }
 ],
 "metadata": {
  "kernelspec": {
   "display_name": "Python 3 (ipykernel)",
   "language": "python",
   "name": "python3"
  },
  "language_info": {
   "codemirror_mode": {
    "name": "ipython",
    "version": 3
   },
   "file_extension": ".py",
   "mimetype": "text/x-python",
   "name": "python",
   "nbconvert_exporter": "python",
   "pygments_lexer": "ipython3",
   "version": "3.9.12"
  },
  "toc": {
   "base_numbering": 1,
   "nav_menu": {},
   "number_sections": true,
   "sideBar": true,
   "skip_h1_title": false,
   "title_cell": "Table of Contents",
   "title_sidebar": "Contents",
   "toc_cell": false,
   "toc_position": {},
   "toc_section_display": true,
   "toc_window_display": true
  },
  "varInspector": {
   "cols": {
    "lenName": 16,
    "lenType": 16,
    "lenVar": 40
   },
   "kernels_config": {
    "python": {
     "delete_cmd_postfix": "",
     "delete_cmd_prefix": "del ",
     "library": "var_list.py",
     "varRefreshCmd": "print(var_dic_list())"
    },
    "r": {
     "delete_cmd_postfix": ") ",
     "delete_cmd_prefix": "rm(",
     "library": "var_list.r",
     "varRefreshCmd": "cat(var_dic_list()) "
    }
   },
   "types_to_exclude": [
    "module",
    "function",
    "builtin_function_or_method",
    "instance",
    "_Feature"
   ],
   "window_display": false
  }
 },
 "nbformat": 4,
 "nbformat_minor": 5
}
