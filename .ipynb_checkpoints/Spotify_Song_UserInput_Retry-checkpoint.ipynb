{
 "cells": [
  {
   "cell_type": "markdown",
   "id": "ab49e938",
   "metadata": {},
   "source": [
    "# Import Packages"
   ]
  },
  {
   "cell_type": "code",
   "execution_count": 1,
   "id": "2d86850c",
   "metadata": {},
   "outputs": [],
   "source": [
    "import requests\n",
    "import spotipy\n",
    "from spotipy.oauth2 import SpotifyClientCredentials\n",
    "import config\n",
    "import json\n",
    "from bs4 import BeautifulSoup\n",
    "import colorama\n",
    "from colorama import Fore\n",
    "\n",
    "import pprint\n",
    "import random\n",
    "from time import sleep\n",
    "import pickle\n",
    "from IPython.display import IFrame\n",
    "import numpy as np\n",
    "import pandas as pd\n",
    "import seaborn as sns\n",
    "import matplotlib.pyplot as plt\n",
    "from sklearn.preprocessing import StandardScaler\n",
    "from sklearn.cluster import KMeans\n",
    "from sklearn.metrics import silhouette_score\n",
    "\n",
    "import difflib\n",
    "import warnings\n",
    "warnings.filterwarnings('ignore')"
   ]
  },
  {
   "cell_type": "markdown",
   "id": "9fb13faa",
   "metadata": {},
   "source": [
    "## Authenticate Spotipy"
   ]
  },
  {
   "cell_type": "code",
   "execution_count": 2,
   "id": "473a9715",
   "metadata": {},
   "outputs": [],
   "source": [
    "sp = spotipy.Spotify(auth_manager=SpotifyClientCredentials(client_id= config.client_id,\n",
    "                                                           client_secret= config.client_secret))"
   ]
  },
  {
   "cell_type": "markdown",
   "id": "1b4ecb36",
   "metadata": {},
   "source": [
    "# Load Model & Scaler"
   ]
  },
  {
   "cell_type": "raw",
   "id": "8224ed13",
   "metadata": {},
   "source": [
    "def load(filename = \"filename.pickle\"): \n",
    "    try: \n",
    "        with open(filename, \"rb\") as f: \n",
    "            return pickle.load(f) \n",
    "        \n",
    "    except FileNotFoundError: \n",
    "        print(\"File not found!\") "
   ]
  },
  {
   "cell_type": "raw",
   "id": "ddc24a87",
   "metadata": {},
   "source": [
    "# DIVERSIFIEDPLAYLIST APPROACH - NO ACCOUSTICNESS NO SPEECHINESS\n",
    "# K = 4 to 19\n",
    "scaler = load(r\"C:\\Users\\p.kollhof\\Documents\\IRONHACK_GitHub\\Spotify_Song_Recommender\\Model_DiversifiedPlaylistApproach_no_accousticness_no_speechiness\\scaler_no_accousticness_no_speechiness.pickle\")\n",
    "kmeans_4 = load(r\"C:\\Users\\p.kollhof\\Documents\\IRONHACK_GitHub\\Spotify_Song_Recommender\\Model_DiversifiedPlaylistApproach_no_accousticness_no_speechiness\\kmeans_4.pickle\")\n",
    "kmeans_5 = load(r\"C:\\Users\\p.kollhof\\Documents\\IRONHACK_GitHub\\Spotify_Song_Recommender\\Model_DiversifiedPlaylistApproach_no_accousticness_no_speechiness\\kmeans_5.pickle\")\n",
    "kmeans_6 = load(r\"C:\\Users\\p.kollhof\\Documents\\IRONHACK_GitHub\\Spotify_Song_Recommender\\Model_DiversifiedPlaylistApproach_no_accousticness_no_speechiness\\kmeans_6.pickle\")\n",
    "kmeans_7 = load(r\"C:\\Users\\p.kollhof\\Documents\\IRONHACK_GitHub\\Spotify_Song_Recommender\\Model_DiversifiedPlaylistApproach_no_accousticness_no_speechiness\\kmeans_7.pickle\")\n",
    "kmeans_8 = load(r\"C:\\Users\\p.kollhof\\Documents\\IRONHACK_GitHub\\Spotify_Song_Recommender\\Model_DiversifiedPlaylistApproach_no_accousticness_no_speechiness\\kmeans_8.pickle\")\n",
    "kmeans_9 = load(r\"C:\\Users\\p.kollhof\\Documents\\IRONHACK_GitHub\\Spotify_Song_Recommender\\Model_DiversifiedPlaylistApproach_no_accousticness_no_speechiness\\kmeans_9.pickle\")\n",
    "kmeans_10 = load(r\"C:\\Users\\p.kollhof\\Documents\\IRONHACK_GitHub\\Spotify_Song_Recommender\\Model_DiversifiedPlaylistApproach_no_accousticness_no_speechiness\\kmeans_10.pickle\")\n",
    "kmeans_11 = load(r\"C:\\Users\\p.kollhof\\Documents\\IRONHACK_GitHub\\Spotify_Song_Recommender\\Model_DiversifiedPlaylistApproach_no_accousticness_no_speechiness\\kmeans_11.pickle\")\n",
    "kmeans_12 = load(r\"C:\\Users\\p.kollhof\\Documents\\IRONHACK_GitHub\\Spotify_Song_Recommender\\Model_DiversifiedPlaylistApproach_no_accousticness_no_speechiness\\kmeans_12.pickle\")\n",
    "kmeans_13 = load(r\"C:\\Users\\p.kollhof\\Documents\\IRONHACK_GitHub\\Spotify_Song_Recommender\\Model_DiversifiedPlaylistApproach_no_accousticness_no_speechiness\\kmeans_13.pickle\")\n",
    "kmeans_14 = load(r\"C:\\Users\\p.kollhof\\Documents\\IRONHACK_GitHub\\Spotify_Song_Recommender\\Model_DiversifiedPlaylistApproach_no_accousticness_no_speechiness\\kmeans_14.pickle\")\n",
    "kmeans_15 = load(r\"C:\\Users\\p.kollhof\\Documents\\IRONHACK_GitHub\\Spotify_Song_Recommender\\Model_DiversifiedPlaylistApproach_no_accousticness_no_speechiness\\kmeans_15.pickle\")\n",
    "kmeans_16 = load(r\"C:\\Users\\p.kollhof\\Documents\\IRONHACK_GitHub\\Spotify_Song_Recommender\\Model_DiversifiedPlaylistApproach_no_accousticness_no_speechiness\\kmeans_16.pickle\")\n",
    "kmeans_17 = load(r\"C:\\Users\\p.kollhof\\Documents\\IRONHACK_GitHub\\Spotify_Song_Recommender\\Model_DiversifiedPlaylistApproach_no_accousticness_no_speechiness\\kmeans_17.pickle\")\n",
    "kmeans_18 = load(r\"C:\\Users\\p.kollhof\\Documents\\IRONHACK_GitHub\\Spotify_Song_Recommender\\Model_DiversifiedPlaylistApproach_no_accousticness_no_speechiness\\kmeans_18.pickle\")\n",
    "kmeans_19 = load(r\"C:\\Users\\p.kollhof\\Documents\\IRONHACK_GitHub\\Spotify_Song_Recommender\\Model_DiversifiedPlaylistApproach_no_accousticness_no_speechiness\\kmeans_19.pickle\")\n"
   ]
  },
  {
   "cell_type": "code",
   "execution_count": null,
   "id": "8f1cb6d6",
   "metadata": {},
   "outputs": [],
   "source": []
  },
  {
   "cell_type": "code",
   "execution_count": 6,
   "id": "b76d3dac",
   "metadata": {},
   "outputs": [],
   "source": [
    "def play_song(track_id):\n",
    "    display(IFrame(src=\"https://open.spotify.com/embed/track/\"+track_id,\n",
    "       width=\"320\",\n",
    "       height=\"80\",\n",
    "       frameborder=\"0\",\n",
    "       allowtransparency=\"true\",\n",
    "       allow=\"encrypted-media\",))"
   ]
  },
  {
   "cell_type": "markdown",
   "id": "a22586e7",
   "metadata": {},
   "source": [
    "# Load Song Collection, Train Scaler & Kmeans"
   ]
  },
  {
   "cell_type": "code",
   "execution_count": 11,
   "id": "7804e41d",
   "metadata": {},
   "outputs": [],
   "source": [
    "df_song_collection = pd.read_csv(r\"C:\\Users\\p.kollhof\\Documents\\IRONHACK_GitHub\\Spotify_Song_Recommender\\Model_DiversifiedPlaylistApproach\\11137_Song_Collection_CLUSTERED.csv\")\n",
    "df_song_collection_features = df_song_collection[['danceability', 'energy', 'loudness', 'liveness', 'valence', \n",
    "                                                 'tempo', 'speechiness', 'acousticness', 'instrumentalness']]\n",
    "X = df_song_collection_features\n",
    "scaler = StandardScaler()\n",
    "scaler.fit(X)\n",
    "X_scaled = scaler.transform(X)\n",
    "X_scaled_df = pd.DataFrame(X_scaled, columns = X.columns)\n",
    "\n",
    "kmeans = KMeans(n_clusters = 8, random_state=1234)\n",
    "kmeans.fit(X_scaled_df)\n",
    "\n",
    "clusters = kmeans.predict(X_scaled_df)\n",
    "X[\"clusters\"] = clusters"
   ]
  },
  {
   "cell_type": "code",
   "execution_count": null,
   "id": "b4f86553",
   "metadata": {},
   "outputs": [],
   "source": []
  },
  {
   "cell_type": "code",
   "execution_count": null,
   "id": "72a22712",
   "metadata": {},
   "outputs": [],
   "source": []
  },
  {
   "cell_type": "raw",
   "id": "97bdd09f",
   "metadata": {},
   "source": [
    "def load_song_collection():\n",
    "    df_song_collection = pd.read_csv(r\"C:\\Users\\p.kollhof\\Documents\\IRONHACK_GitHub\\Spotify_Song_Recommender\\Model_DiversifiedPlaylistApproach\\11137_Song_Collection_CLUSTERED.csv\")\n",
    "    return df_song_collection, df_song_collection[['danceability', 'energy', 'loudness', 'liveness', 'valence', \n",
    "                                                 'tempo', 'speechiness', 'acousticness', 'instrumentalness']]\n",
    "\n",
    "#df_song_collection_full, df_song_collection = load_song_collection()"
   ]
  },
  {
   "cell_type": "markdown",
   "id": "272a7fb2",
   "metadata": {},
   "source": [
    "## Prompt User Song Input, "
   ]
  },
  {
   "cell_type": "code",
   "execution_count": 9,
   "id": "789c426c",
   "metadata": {},
   "outputs": [],
   "source": [
    "def get_user_song_input():\n",
    "    user_song_input = input(\"Pick any song: \")\n",
    "    return user_song_input"
   ]
  },
  {
   "cell_type": "markdown",
   "id": "19eaa9f3",
   "metadata": {},
   "source": [
    "## Get Song Data and play embedded"
   ]
  },
  {
   "cell_type": "code",
   "execution_count": 10,
   "id": "ae71d814",
   "metadata": {},
   "outputs": [],
   "source": [
    "def get_user_song_id():\n",
    "    user_song_name =  get_user_song_input()\n",
    "    user_song = sp.search(q=user_song_name,limit=10,market=\"DE\")\n",
    "    user_song_id = user_song[\"tracks\"][\"items\"][0][\"id\"]\n",
    "    return user_song_id"
   ]
  },
  {
   "cell_type": "code",
   "execution_count": 11,
   "id": "e35cf01c",
   "metadata": {},
   "outputs": [],
   "source": [
    "def get_user_song_id_given(user_song_name):\n",
    "    user_song = sp.search(q=user_song_name,limit=10,market=\"DE\")\n",
    "    user_song_id = user_song[\"tracks\"][\"items\"][0][\"id\"]\n",
    "    return user_song_id"
   ]
  },
  {
   "cell_type": "markdown",
   "id": "2de4f230",
   "metadata": {},
   "source": [
    "## Get Song Features"
   ]
  },
  {
   "cell_type": "code",
   "execution_count": 24,
   "id": "6c8e8eb7",
   "metadata": {},
   "outputs": [],
   "source": [
    "def get_user_song_audiofeatures(user_song_id):\n",
    "    user_song_audiofeatures = sp.audio_features(user_song_id)\n",
    "    df_user_input = pd.DataFrame(user_song_audiofeatures)\n",
    "    df_user_input = df_user_input[['danceability', 'energy', 'loudness', 'liveness', 'valence', \n",
    "                                 'tempo', 'speechiness', 'acousticness', 'instrumentalness']] #\n",
    "    return df_user_input"
   ]
  },
  {
   "cell_type": "markdown",
   "id": "4fba19f7",
   "metadata": {},
   "source": [
    "## Scale User Song"
   ]
  },
  {
   "cell_type": "code",
   "execution_count": 13,
   "id": "0adcca9f",
   "metadata": {},
   "outputs": [],
   "source": [
    "def scale_user_song(scaler, df):\n",
    "    X_scaled_user = scaler.transform(df)\n",
    "    X_scaled_user_df = pd.DataFrame(X_scaled_user, columns=df.columns)\n",
    "    return X_scaled_user_df"
   ]
  },
  {
   "cell_type": "markdown",
   "id": "0f696e0d",
   "metadata": {},
   "source": [
    "## Return User Song Cluster"
   ]
  },
  {
   "cell_type": "code",
   "execution_count": 14,
   "id": "f8408c8f",
   "metadata": {},
   "outputs": [],
   "source": [
    "def get_user_song_cluster(scaled_df, kmeans):\n",
    "    user_song_cluster = kmeans.predict(scaled_df)[0]\n",
    "    return user_song_cluster"
   ]
  },
  {
   "cell_type": "markdown",
   "id": "56e4e66e",
   "metadata": {},
   "source": [
    "# Give Recommendation based on User Song Input"
   ]
  },
  {
   "cell_type": "code",
   "execution_count": 15,
   "id": "f360d8d4",
   "metadata": {},
   "outputs": [],
   "source": [
    "def give_recommendation_sample(df_song_collection, user_song_cluster, n):\n",
    "    sample_df = df_song_collection_full[df_song_collection_full['cluster'] == user_song_cluster].sample(n)\n",
    "    #sample_df = sample[['danceability', 'energy', 'loudness', 'liveness', 'valence', \n",
    "                     #'tempo', 'speechiness', 'acousticness', 'instrumentalness']]\n",
    "    return sample_df\n",
    "\n",
    "#def give_recommendation_text(sample, user_song_cluster, df_song_collection):\n",
    "    #recom_song_name = list(sample[\"song_name\"])\n",
    "    #recom_song_artist = list(sample[\"song_artist\"])\n",
    "    #recom_song_id = list(sample[\"id\"])\n",
    "    #recommendation = list(zip(recom_song_name, recom_song_artist, recom_song_id))\n",
    "    #return recommendation\n",
    "\n",
    "def sort_recommendation_user_song_similarities():\n",
    "    X_scaled_recom = scaler.transform(sample)\n",
    "    X_scaled_recom_df = pd.DataFrame(X_scaled_recom, columns=sample.columns)\n",
    "    \n",
    "    X_scaled_user_df_features = list(X_scaled_user_df.values[0])#\n",
    "    X_scaled_recom_df_features = np.array(X_scaled_recom_df).tolist()\n",
    "\n",
    "    diff_matrix = [[]] * len(X_scaled_recom_df_features)\n",
    "\n",
    "    for idx in range(len(diff_matrix)):\n",
    "        for val in range(len(X_scaled_user_df_features)):\n",
    "            diff_matrix[idx].append( X_scaled_user_df_features[val] + X_scaled_recom_df_features[idx][val] )\n",
    "\n",
    "    diff_matrix = diff_matrix[0]\n",
    "    diff_matrix = [diff_matrix[:7], diff_matrix[7:-7], diff_matrix[-7:]]\n",
    "    diff_matrix_sums = [abs(sum(submatrix)) for submatrix in diff_matrix]\n",
    "    diff_matrix_sums_min = diff_matrix_sums.index(min(diff_matrix_sums))\n",
    "    diff_matrix_sums_max = diff_matrix_sums.index(max(diff_matrix_sums))\n",
    "    diff_matrix_sums_min, diff_matrix_sums_max\n",
    "\n",
    "    similarity_sorter = [diff_matrix_sums_min,\n",
    "                        list(set(range(len(diff_matrix))) - set([diff_matrix_sums_min, diff_matrix_sums_max]))[0],\n",
    "                        diff_matrix_sums_max]\n",
    "    return similarity_sorter, X_scaled_recom_df\n",
    "\n",
    "def play_sorted3_recommendations(sample):\n",
    "    similarity_sorter = sort_recommendation_user_song_similarities()[0]\n",
    "    recom_song_name = list(sample[\"song_name\"])\n",
    "    recom_song_artist = list(sample[\"song_artist\"])\n",
    "    recom_song_id = list(sample[\"id\"])\n",
    "    recommendation = list(zip(recom_song_name, recom_song_artist, recom_song_id))\n",
    "\n",
    "    for recom in similarity_sorter:\n",
    "        play_song(recommendation[recom][2])\n",
    "        #print(f\"You might also like '{recommendation[recom][0]}' by {recommendation[recom][1]}!\")\n",
    "        \n",
    "def play_recommendations(sample_df):\n",
    "    recom_song_name = list(sample_df[\"song_name\"])\n",
    "    recom_song_artist = list(sample_df[\"song_artist\"])\n",
    "    recom_song_id = list(sample_df[\"id\"])\n",
    "    recommendation = list(zip(recom_song_name, recom_song_artist, recom_song_id))\n",
    "\n",
    "    for recom in range(len(recommendation)):\n",
    "        play_song(recommendation[recom][2])\n",
    "        #print(f\"You might also like '{recommendation[recom][0]}' by {recommendation[recom][1]}!\")"
   ]
  },
  {
   "cell_type": "markdown",
   "id": "67807128",
   "metadata": {},
   "source": [
    "# Output Pipeline"
   ]
  },
  {
   "cell_type": "markdown",
   "id": "225f8179",
   "metadata": {},
   "source": [
    "################################################################################################################"
   ]
  },
  {
   "cell_type": "code",
   "execution_count": null,
   "id": "8b490e93",
   "metadata": {},
   "outputs": [],
   "source": [
    "kmeans_ = kmeans_13\n",
    "\n",
    "user_song_id = get_user_song_id()\n",
    "df_user_input = get_user_song_audiofeatures(user_song_id)\n",
    "\n",
    "play_song(user_song_id)"
   ]
  },
  {
   "cell_type": "code",
   "execution_count": null,
   "id": "6d386984",
   "metadata": {},
   "outputs": [],
   "source": [
    "X_scaled_user_df = scale_user_song(scaler, df_user_input)\n",
    "user_song_cluster = get_user_song_cluster(X_scaled_user_df, kmeans_)\n",
    "sample_df = give_recommendation_sample(df_song_collection, user_song_cluster, 3)\n",
    "play_recommendations(sample_df)"
   ]
  },
  {
   "cell_type": "code",
   "execution_count": null,
   "id": "24858a74",
   "metadata": {},
   "outputs": [],
   "source": []
  },
  {
   "cell_type": "markdown",
   "id": "a1a85c9e",
   "metadata": {},
   "source": [
    "--------------------------------------"
   ]
  },
  {
   "cell_type": "raw",
   "id": "319b4550",
   "metadata": {},
   "source": [
    "def song_recommender():\n",
    "    df = pd.read_csv(r\"C:\\Users\\p.kollhof\\Documents\\IRONHACK_GitHub\\Spotify_Song_Recommender\\Model_DiversifiedPlaylistApproach\\11137_Song_Collection_CLUSTERED.csv\")\n",
    "    #df = df.drop(labels='Unnamed: 0', axis=1)\n",
    "    X = df[[\"danceability\",\"energy\",\"loudness\",\"speechiness\",\"acousticness\",\"instrumentalness\",\"liveness\",\"valence\",\"tempo\"]]\n",
    "    \n",
    "    scaler = StandardScaler()\n",
    "    scaler.fit(X)\n",
    "    X_scaled = scaler.transform(X)\n",
    "    X_scaled_df = pd.DataFrame(X_scaled, columns = X.columns)\n",
    "   \n",
    "    \n",
    "    kmeans = KMeans(n_clusters=8, random_state=1234)\n",
    "    kmeans.fit(X_scaled_df)\n",
    "    \n",
    "    \n",
    "    \n",
    "    clusters = kmeans.predict(X_scaled_df)\n",
    "    #clusters\n",
    "    pd.Series(clusters).value_counts().sort_index()\n",
    "    \n",
    "    \n",
    "    song_name = str(input(\"Pic your song: \"))\n",
    "\n",
    "    results = sp.search(q=song_name,limit=10,market=\"GB\")\n",
    "    track_id=track_id=results[\"tracks\"][\"items\"][0][\"id\"]\n",
    "    for item in results['tracks']['items']:\n",
    "        print(\"The name of song is:\", Fore.RED +'\\033[1m' + item['name'] + '\\033[0m')  \n",
    "              #and the id is: {}\",item[\"id\"]))\n",
    "        \n",
    "    print()\n",
    "    song_name1 = str(input(\"Which song do you mean? \"))\n",
    "    print()\n",
    "    results = sp.search(q=song_name1,limit=1,market=\"GB\")\n",
    "    track_id=track_id=results[\"tracks\"][\"items\"][0][\"id\"]\n",
    "    for item in results['tracks']['items']:\n",
    "        print(\"You picked song: \", Fore.RED +'\\033[1m' + item['name'] + '\\033[0m') \n",
    "    \n",
    "    from IPython.display import IFrame\n",
    "\n",
    "    display(IFrame(src=\"https://open.spotify.com/embed/track/\"+track_id,\n",
    "           width=\"320\",\n",
    "           height=\"80\",\n",
    "           frameborder=\"0\",\n",
    "           allowtransparency=\"true\",\n",
    "           allow=\"encrypted-media\",\n",
    "          ))\n",
    "    \n",
    "    list_of_songs=[]\n",
    "    for index in range(0,len(results[\"tracks\"][\"items\"])):\n",
    "        list_of_songs.append(sp.audio_features(results[\"tracks\"][\"items\"][index][\"uri\"])[0])\n",
    "    df_new=pd.DataFrame(list_of_songs)    \n",
    "    df_new=df_new[[\"danceability\",\"energy\",\"loudness\",\"speechiness\",\"acousticness\",\n",
    "        \"instrumentalness\",\"liveness\",\"valence\",\"tempo\",\"id\",\"duration_ms\"]]\n",
    "\n",
    "    X_new = df_new[[\"danceability\",\"energy\",\"loudness\",\"speechiness\",\"acousticness\",\"instrumentalness\",\"liveness\",\"valence\",\"tempo\"]]\n",
    "    scaler3 = StandardScaler()\n",
    "    scaler.fit(X)\n",
    "    X_new_scaled = scaler.transform(X_new)\n",
    "    X_new_scaled_df = pd.DataFrame(X_new_scaled, columns = X_new.columns)\n",
    "    \n",
    "    print(Fore.RED +'\\033[1m'+\"Our recommendations for you: \"+ '\\033[0m')\n",
    "    \n",
    "    \n",
    "    X[\"cluster\"] = clusters\n",
    "    \n",
    "    X = X.join(df[\"id\"])\n",
    "    \n",
    "    #Prediction\n",
    "    predict_cluster = kmeans.predict(X_new_scaled_df)\n",
    "    print()\n",
    "    \n",
    "    \n",
    "    random_song=X[X[\"cluster\"] == predict_cluster[0]].sample()\n",
    "    random_song2=X[X[\"cluster\"] == predict_cluster[0]].sample()\n",
    "    random_song3=X[X[\"cluster\"] == predict_cluster[0]].sample()\n",
    "    \n",
    "    \n",
    "    song = random_song[\"id\"].tolist()\n",
    "    song2 = random_song2[\"id\"].tolist()\n",
    "    song3 = random_song3[\"id\"].tolist()\n",
    "    \n",
    "    \n",
    "    from IPython.display import IFrame\n",
    "\n",
    "    display(IFrame(src=\"https://open.spotify.com/embed/track/\"+song[0],\n",
    "           width=\"320\",\n",
    "           height=\"80\",\n",
    "           frameborder=\"0\",\n",
    "           allowtransparency=\"true\",\n",
    "           allow=\"encrypted-media\",\n",
    "          ))\n",
    "    \n",
    "    \n",
    "    display(IFrame(src=\"https://open.spotify.com/embed/track/\"+song2[0],\n",
    "           width=\"320\",\n",
    "           height=\"80\",\n",
    "           frameborder=\"0\",\n",
    "           allowtransparency=\"true\",\n",
    "           allow=\"encrypted-media\",\n",
    "          ))\n",
    "   \n",
    "    \n",
    "    display(IFrame(src=\"https://open.spotify.com/embed/track/\"+song3[0],\n",
    "           width=\"320\",\n",
    "           height=\"80\",\n",
    "           frameborder=\"0\",\n",
    "           allowtransparency=\"true\",\n",
    "           allow=\"encrypted-media\",\n",
    "          ))"
   ]
  }
 ],
 "metadata": {
  "celltoolbar": "Raw Cell Format",
  "kernelspec": {
   "display_name": "Python 3 (ipykernel)",
   "language": "python",
   "name": "python3"
  },
  "language_info": {
   "codemirror_mode": {
    "name": "ipython",
    "version": 3
   },
   "file_extension": ".py",
   "mimetype": "text/x-python",
   "name": "python",
   "nbconvert_exporter": "python",
   "pygments_lexer": "ipython3",
   "version": "3.9.12"
  },
  "toc": {
   "base_numbering": 1,
   "nav_menu": {},
   "number_sections": true,
   "sideBar": true,
   "skip_h1_title": false,
   "title_cell": "Table of Contents",
   "title_sidebar": "Contents",
   "toc_cell": false,
   "toc_position": {},
   "toc_section_display": true,
   "toc_window_display": true
  },
  "varInspector": {
   "cols": {
    "lenName": 16,
    "lenType": 16,
    "lenVar": 40
   },
   "kernels_config": {
    "python": {
     "delete_cmd_postfix": "",
     "delete_cmd_prefix": "del ",
     "library": "var_list.py",
     "varRefreshCmd": "print(var_dic_list())"
    },
    "r": {
     "delete_cmd_postfix": ") ",
     "delete_cmd_prefix": "rm(",
     "library": "var_list.r",
     "varRefreshCmd": "cat(var_dic_list()) "
    }
   },
   "types_to_exclude": [
    "module",
    "function",
    "builtin_function_or_method",
    "instance",
    "_Feature"
   ],
   "window_display": false
  }
 },
 "nbformat": 4,
 "nbformat_minor": 5
}
